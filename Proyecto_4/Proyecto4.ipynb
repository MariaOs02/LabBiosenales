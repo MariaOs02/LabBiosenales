{
 "cells": [
  {
   "cell_type": "markdown",
   "metadata": {
    "id": "1H8yG3hWR_Ef"
   },
   "source": [
    "<p><img alt=\"udeA logo\" height=\"150px\" src=\"https://github.com/freddyduitama/images/blob/master/logo.png?raw=true\" align=\"left\" hspace=\"50px\" vspace=\"0px\" style=\"width:107px;height:152px;\"></p>\n",
    "<h1><font color='#FFFFFFF'> <center>\n",
    "Proyecto 4</center></font></h1>\n",
    "<h2><font color='#FFFFFFF'> <center>\n",
    "Proyecto 2024-02 </center></font></h2>\n",
    "<h3><font color='#FFFFFFF'> <center>María J. Ostos - Cristian Florez - Juan A. Sañudo</center></font></h3>\n",
    "<h3><font color='#FFFFFFF'> <center>\n",
    "2024 </center></font></h3>\n",
    "<font  face=\"Courier New\" size=\"3\">\n",
    "<p1><center> </center></p1>"
   ]
  },
  {
   "cell_type": "markdown",
   "metadata": {},
   "source": [
    "1. Revisión teórica. Del artículo:\n",
    "https://www.nature.com/articles/s41598-020-59821-7\n",
    "\n",
    "Hacer un resumen de la sección extracción de caracteríticas (Features extraction) y discutir desde el artículo u otras referencias como se hace cuando desaparecen ciertas formas de ondas en el complejo PQRS debido a alguna enfermedad (10%)"
   ]
  },
  {
   "cell_type": "markdown",
   "metadata": {},
   "source": [
    "----"
   ]
  },
  {
   "cell_type": "markdown",
   "metadata": {},
   "source": [
    "Este proyecto propone un método innovador y comprensible para la extracción de características a partir de señales ECG (electrocardiograma) con el fin de evaluar diferentes esquemas de clasificación de múltiples etapas. Se analizaron etapas distintas de selección de características, comenzando con un conjunto básico de 11 variables hasta alcanzar un conjunto exhaustivo de 39.830 variables. Se incluyeron variables como la edad y el género debido a su relevancia en el análisis médico, además de la media y varianza de los intervalos RR calculados en la derivación II del ECG.\n",
    "Se definieron seis grupos de características, destacando los siguientes:\n",
    "Grupo 1: 11 variables básicas del ECG como la frecuencia ventricular y auricular, duración del QRS, intervalo QT, ejes R y T.\n",
    "Grupo 2: 23 variables relacionadas con la media y varianza de los intervalos RR, y medidas del complejo QRS (altura, ancho, prominencia).\n",
    "Análisis exhaustivo de 900 frecuencias de altura, ancho y prominencia, 600 frecuencias de diferencias de ubicación y 1800 frecuencias de relaciones ancho/tiempo, altura/tiempo y prominencia/tiempo.\n",
    "Los picos y valles del ECG se clasificaron en tres subconjuntos: complejo QRS, picos no QRS y valles. Se analizaron seis combinaciones de pares para medir las relaciones entre ancho, altura y prominencia frente al tiempo. Debido a la variabilidad de estas relaciones entre pacientes, se construyeron tablas de distribución de frecuencia empírica con 100 grupos, garantizando una entrada uniforme para el modelo de clasificación.\n",
    "El método propuesto permite revelar completamente la distribución de frecuencia empírica de los segmentos P, Q, R, S y T, lo cual es clave para la identificación de ritmos cardíacos. Las pruebas realizadas demostraron que esta estrategia es confiable y robusta, favoreciendo una mejor clasificación de los ritmos cardíacos.\n",
    "En la clasificación de arritmias mediante ECG, uno de los desafíos es la variabilidad morfológica de las ondas P, Q, R, S y T debido a factores como la edad, género, raza y condiciones cardíacas. Las arritmias pueden distorsionar u omitir completamente ciertas ondas, dificultando su detección. Las técnicas tradicionales, como la Transformada de Fourier o Wavelet, tienden a ignorar la información temporal, lo que limita la precisión.\n",
    "Para abordar esto, se propone reescalar las señales ECG mediante el algoritmo de máximo-mínimo, que ajusta todas las amplitudes a un rango uniforme, permitiendo comparar señales de distintos pacientes en condiciones homogéneas. Además, el uso de redes neuronales, combinando características del dominio del tiempo y la frecuencia, mejora significativamente la clasificación de arritmias complejas.\n",
    "Además, existen técnicas médicas que ya identifican que patologías generan desapariciones o cambios en la señal ECG, por lo que entrenar redes neuronales con cierta información ayuda a explicar la ausencia de segmentos propios del ECG\n",
    "\n",
    "![Img_1](./Img_1.jpg)\n"
   ]
  },
  {
   "cell_type": "markdown",
   "metadata": {},
   "source": [
    "---"
   ]
  },
  {
   "cell_type": "markdown",
   "metadata": {},
   "source": [
    "2. Base de datos. Del proyecto pasado hay dos opciones de base de datos, la filtrada por los autores o la filtrada en el proyecto 3. De acuerdo a los resultados del proyecto 3 usar la mejor base de datos y justificar la selección\n",
    "De la base de datos extraer los registros que correspondan a bradicardia sinusal (SB Sinus Bradycardia) y fibrilación auricular (AFIB Atrial Fibrillation). Esta información está en el archivo Diagnostics.xlsx De estos registros los análisis para el presente proyecto deben hacerse en la derivación II"
   ]
  },
  {
   "cell_type": "markdown",
   "metadata": {},
   "source": [
    "### Carga de librerias"
   ]
  },
  {
   "cell_type": "code",
   "execution_count": 3,
   "metadata": {
    "executionInfo": {
     "elapsed": 6235,
     "status": "ok",
     "timestamp": 1730232750829,
     "user": {
      "displayName": "CRISTIAN FLOREZ CALDERON",
      "userId": "14203897282492324183"
     },
     "user_tz": 300
    },
    "id": "KIgaOMPf2dFi"
   },
   "outputs": [],
   "source": [
    "import pandas as pd\n",
    "import matplotlib.pyplot as plt\n",
    "import numpy as np\n",
    "import scipy.signal as signal\n",
    "from scipy.signal import detrend, welch, butter, filtfilt\n",
    "import pywt\n",
    "import random\n",
    "import warnings\n",
    "import neurokit2 as nk\n",
    "import math\n",
    "\n",
    "from sklearn.model_selection import train_test_split\n",
    "from sklearn.preprocessing import StandardScaler, OneHotEncoder\n",
    "from sklearn.compose import ColumnTransformer\n",
    "from sklearn.pipeline import Pipeline\n",
    "from tensorflow.keras.utils import to_categorical\n",
    "#MLP\n",
    "from tensorflow.keras.models import Sequential\n",
    "from tensorflow.keras.layers import Dense\n",
    "\n",
    "#CNN\n",
    "from tensorflow.keras.layers import Conv1D, MaxPooling1D, Flatten\n",
    "\n",
    "#LSTM\n",
    "from tensorflow.keras.layers import LSTM\n",
    "\n",
    "warnings.filterwarnings(\"ignore\", category=UserWarning)  # Para warnings de tipo UserWarning\n",
    "warnings.filterwarnings(\"ignore\", category=RuntimeWarning)  # Para warnings de tipo RuntimeWarning\n",
    "warnings.filterwarnings(\"ignore\", category=FutureWarning)  # Para warnings de tipo FutureWarning"
   ]
  },
  {
   "cell_type": "markdown",
   "metadata": {},
   "source": [
    "### Carga de datos Diagnostics.xlsx"
   ]
  },
  {
   "cell_type": "code",
   "execution_count": 121,
   "metadata": {
    "colab": {
     "base_uri": "https://localhost:8080/",
     "height": 244
    },
    "executionInfo": {
     "elapsed": 3190,
     "status": "ok",
     "timestamp": 1730233041801,
     "user": {
      "displayName": "CRISTIAN FLOREZ CALDERON",
      "userId": "14203897282492324183"
     },
     "user_tz": 300
    },
    "id": "yYRVn3N06xhN",
    "outputId": "bdac8c45-569a-4cc8-9649-3e8c9490420e"
   },
   "outputs": [
    {
     "data": {
      "text/html": [
       "<div>\n",
       "<style scoped>\n",
       "    .dataframe tbody tr th:only-of-type {\n",
       "        vertical-align: middle;\n",
       "    }\n",
       "\n",
       "    .dataframe tbody tr th {\n",
       "        vertical-align: top;\n",
       "    }\n",
       "\n",
       "    .dataframe thead th {\n",
       "        text-align: right;\n",
       "    }\n",
       "</style>\n",
       "<table border=\"1\" class=\"dataframe\">\n",
       "  <thead>\n",
       "    <tr style=\"text-align: right;\">\n",
       "      <th></th>\n",
       "      <th>FileName</th>\n",
       "      <th>Rhythm</th>\n",
       "      <th>Beat</th>\n",
       "      <th>PatientAge</th>\n",
       "      <th>Gender</th>\n",
       "      <th>VentricularRate</th>\n",
       "      <th>AtrialRate</th>\n",
       "      <th>QRSDuration</th>\n",
       "      <th>QTInterval</th>\n",
       "      <th>QTCorrected</th>\n",
       "      <th>RAxis</th>\n",
       "      <th>TAxis</th>\n",
       "      <th>QRSCount</th>\n",
       "      <th>QOnset</th>\n",
       "      <th>QOffset</th>\n",
       "      <th>TOffset</th>\n",
       "    </tr>\n",
       "  </thead>\n",
       "  <tbody>\n",
       "    <tr>\n",
       "      <th>0</th>\n",
       "      <td>MUSE_20180113_171327_27000</td>\n",
       "      <td>AFIB</td>\n",
       "      <td>RBBB TWC</td>\n",
       "      <td>85</td>\n",
       "      <td>MALE</td>\n",
       "      <td>117</td>\n",
       "      <td>234</td>\n",
       "      <td>114</td>\n",
       "      <td>356</td>\n",
       "      <td>496</td>\n",
       "      <td>81</td>\n",
       "      <td>-27</td>\n",
       "      <td>19</td>\n",
       "      <td>208</td>\n",
       "      <td>265</td>\n",
       "      <td>386</td>\n",
       "    </tr>\n",
       "    <tr>\n",
       "      <th>1</th>\n",
       "      <td>MUSE_20180112_073319_29000</td>\n",
       "      <td>SB</td>\n",
       "      <td>TWC</td>\n",
       "      <td>59</td>\n",
       "      <td>FEMALE</td>\n",
       "      <td>52</td>\n",
       "      <td>52</td>\n",
       "      <td>92</td>\n",
       "      <td>432</td>\n",
       "      <td>401</td>\n",
       "      <td>76</td>\n",
       "      <td>42</td>\n",
       "      <td>8</td>\n",
       "      <td>215</td>\n",
       "      <td>261</td>\n",
       "      <td>431</td>\n",
       "    </tr>\n",
       "    <tr>\n",
       "      <th>3</th>\n",
       "      <td>MUSE_20180113_121940_44000</td>\n",
       "      <td>SB</td>\n",
       "      <td>NONE</td>\n",
       "      <td>66</td>\n",
       "      <td>MALE</td>\n",
       "      <td>53</td>\n",
       "      <td>53</td>\n",
       "      <td>96</td>\n",
       "      <td>456</td>\n",
       "      <td>427</td>\n",
       "      <td>34</td>\n",
       "      <td>3</td>\n",
       "      <td>9</td>\n",
       "      <td>219</td>\n",
       "      <td>267</td>\n",
       "      <td>447</td>\n",
       "    </tr>\n",
       "    <tr>\n",
       "      <th>5</th>\n",
       "      <td>MUSE_20180112_120347_79000</td>\n",
       "      <td>SB</td>\n",
       "      <td>NONE</td>\n",
       "      <td>46</td>\n",
       "      <td>FEMALE</td>\n",
       "      <td>57</td>\n",
       "      <td>57</td>\n",
       "      <td>70</td>\n",
       "      <td>404</td>\n",
       "      <td>393</td>\n",
       "      <td>38</td>\n",
       "      <td>24</td>\n",
       "      <td>9</td>\n",
       "      <td>225</td>\n",
       "      <td>260</td>\n",
       "      <td>427</td>\n",
       "    </tr>\n",
       "    <tr>\n",
       "      <th>6</th>\n",
       "      <td>MUSE_20180114_075026_69000</td>\n",
       "      <td>AFIB</td>\n",
       "      <td>TWC</td>\n",
       "      <td>80</td>\n",
       "      <td>FEMALE</td>\n",
       "      <td>98</td>\n",
       "      <td>86</td>\n",
       "      <td>74</td>\n",
       "      <td>360</td>\n",
       "      <td>459</td>\n",
       "      <td>69</td>\n",
       "      <td>83</td>\n",
       "      <td>17</td>\n",
       "      <td>215</td>\n",
       "      <td>252</td>\n",
       "      <td>395</td>\n",
       "    </tr>\n",
       "  </tbody>\n",
       "</table>\n",
       "</div>"
      ],
      "text/plain": [
       "                     FileName Rhythm      Beat  PatientAge  Gender  \\\n",
       "0  MUSE_20180113_171327_27000   AFIB  RBBB TWC          85    MALE   \n",
       "1  MUSE_20180112_073319_29000     SB       TWC          59  FEMALE   \n",
       "3  MUSE_20180113_121940_44000     SB      NONE          66    MALE   \n",
       "5  MUSE_20180112_120347_79000     SB      NONE          46  FEMALE   \n",
       "6  MUSE_20180114_075026_69000   AFIB       TWC          80  FEMALE   \n",
       "\n",
       "   VentricularRate  AtrialRate  QRSDuration  QTInterval  QTCorrected  RAxis  \\\n",
       "0              117         234          114         356          496     81   \n",
       "1               52          52           92         432          401     76   \n",
       "3               53          53           96         456          427     34   \n",
       "5               57          57           70         404          393     38   \n",
       "6               98          86           74         360          459     69   \n",
       "\n",
       "   TAxis  QRSCount  QOnset  QOffset  TOffset  \n",
       "0    -27        19     208      265      386  \n",
       "1     42         8     215      261      431  \n",
       "3      3         9     219      267      447  \n",
       "5     24         9     225      260      427  \n",
       "6     83        17     215      252      395  "
      ]
     },
     "execution_count": 121,
     "metadata": {},
     "output_type": "execute_result"
    }
   ],
   "source": [
    "fs=500\n",
    "\n",
    "# ruta_diagnostics= r\"C:\\Users\\Lenovo a9 w10\\Documents\\LabBiosenales\\Proyecto_2/Diagnostics.xlsx\"\n",
    "ruta_diagnostics=\"../Proyecto_3/datos/Diagnostics.xlsx\"\n",
    "df_diagnostics = pd.read_excel(ruta_diagnostics)\n",
    "\n",
    "# Crear el nuevo dataframe filtrando por la columna 'Rhythm'\n",
    "datos_diagnostics = df_diagnostics[(df_diagnostics['Rhythm'] == 'SB') | (df_diagnostics['Rhythm'] == 'AFIB')]\n",
    "\n",
    "#Tamaño del nuevo dataframe\n",
    "datos_diagnostics.shape\n",
    "\n",
    "tiempo_diagnostics = np.arange(0, datos_diagnostics.shape[0]/fs,1/fs)\n",
    "\n",
    "datos_diagnostics.head()"
   ]
  },
  {
   "cell_type": "code",
   "execution_count": 3,
   "metadata": {},
   "outputs": [
    {
     "data": {
      "text/plain": [
       "Index(['FileName', 'Rhythm', 'Beat', 'PatientAge', 'Gender', 'VentricularRate',\n",
       "       'AtrialRate', 'QRSDuration', 'QTInterval', 'QTCorrected', 'RAxis',\n",
       "       'TAxis', 'QRSCount', 'QOnset', 'QOffset', 'TOffset'],\n",
       "      dtype='object')"
      ]
     },
     "execution_count": 3,
     "metadata": {},
     "output_type": "execute_result"
    }
   ],
   "source": [
    "datos_diagnostics.columns"
   ]
  },
  {
   "cell_type": "code",
   "execution_count": 122,
   "metadata": {},
   "outputs": [],
   "source": [
    "# Separar nombres de archivo en listas según el ritmo 'SB' y 'AFIB'\n",
    "sb_files = datos_diagnostics[datos_diagnostics['Rhythm'] == 'SB']['FileName'].tolist()\n",
    "afib_files = datos_diagnostics[datos_diagnostics['Rhythm'] == 'AFIB']['FileName'].tolist()"
   ]
  },
  {
   "cell_type": "code",
   "execution_count": 123,
   "metadata": {},
   "outputs": [],
   "source": [
    "def cargar_datos(selected_files,ruta): #Ruta 1 sin filtrar, 2 para filtrados\n",
    "    # Diccionario para almacenar cada DataFrame y su columna 'II'\n",
    "    data_frames = {}\n",
    "    datos_II = {}\n",
    "    \n",
    "    # Iterar sobre los archivos en la lista\n",
    "    for i, file in enumerate(selected_files):\n",
    "        if ruta==1:\n",
    "            df = pd.read_csv(f\"../Proyecto_3/datos/ECGData/ECGData/{file}.csv\", delimiter=',', names=['I', 'II', 'III', 'aVR', 'aVL', 'aVF', 'V1', 'V2', 'V3', 'V4', 'V5', 'V6'])\n",
    "        elif ruta==2:\n",
    "            df = pd.read_csv(f\"../Proyecto_3/datos/ECGDataDenoised/{file}.csv\", delimiter=',', names=['I', 'II', 'III', 'aVR', 'aVL', 'aVF', 'V1', 'V2', 'V3', 'V4', 'V5', 'V6'])\n",
    "        data_frames[f\"df{i+1}\"] = df\n",
    "        # datos_II[f\"datos_f{i+1}\"] = df[\"II\"]\n",
    "        datos_II[f\"{file}\"] = df[\"II\"]\n",
    "    \n",
    "    return data_frames, datos_II\n"
   ]
  },
  {
   "cell_type": "markdown",
   "metadata": {},
   "source": [
    "3. Herramientas computacionales. Hacer un minitutorial del uso de la herramienta NeuroKit (https://neuropsychology.github.io/NeuroKit/index.html) orientado al análisis de señales ECG (10%)"
   ]
  },
  {
   "cell_type": "markdown",
   "metadata": {},
   "source": [
    "Tutoria se encuentra en el archivo Neurokit.ipynb"
   ]
  },
  {
   "cell_type": "markdown",
   "metadata": {},
   "source": [
    "4. Escoger diferentes señales de la base de datos del punto 2 y aplicar el tutorial del punto 3 (5%)."
   ]
  },
  {
   "cell_type": "code",
   "execution_count": 124,
   "metadata": {},
   "outputs": [],
   "source": [
    "## Codigo para pruebas con n sujetos\n",
    "\n",
    "# Número total de archivos a seleccionar\n",
    "n_seleccion = 5\n",
    "\n",
    "# Calcular la mitad para cada ritmo (o una distribución casi mitad y mitad si n_seleccion es impar)\n",
    "n_sb = n_seleccion // 2\n",
    "n_afib = n_seleccion - n_sb\n",
    "\n",
    "# Seleccionar aleatoriamente el número calculado de archivos de cada tipo\n",
    "selected_sb_files = random.sample(sb_files, min(n_sb, len(sb_files)))\n",
    "selected_afib_files = random.sample(afib_files, min(n_afib, len(afib_files)))\n",
    "\n",
    "# Combinar las selecciones de 'SB' y 'AFIB' en la lista final\n",
    "selected_files = selected_sb_files + selected_afib_files\n",
    "\n",
    "# Mezclar los archivos seleccionados para no tener un orden específico de 'SB' o 'AFIB'\n",
    "random.shuffle(selected_files)\n",
    "# Filtrar el DataFrame para obtener solo las filas de los archivos en selected_files\n",
    "selected_data = datos_diagnostics[datos_diagnostics['FileName'].isin(selected_files)]\n",
    "\n",
    "# Crear un diccionario con 'FileName' como clave y 'Rhythm' como valor para fácil acceso\n",
    "file_rhythm_dict = dict(zip(selected_data['FileName'], selected_data['Rhythm']))"
   ]
  },
  {
   "cell_type": "code",
   "execution_count": 125,
   "metadata": {},
   "outputs": [],
   "source": [
    "#Se cargan los datos\n",
    "all_files = datos_diagnostics['FileName'].tolist()\n",
    "dfs1,datos_II_ecg=cargar_datos(selected_files,1)\n",
    "sujetos=datos_II_ecg.keys()\n",
    "\n",
    "\n"
   ]
  },
  {
   "cell_type": "code",
   "execution_count": 126,
   "metadata": {},
   "outputs": [
    {
     "data": {
      "text/plain": [
       "dict_keys(['MUSE_20180118_133117_13000', 'MUSE_20180113_184000_10000', 'MUSE_20180112_075225_59000', 'MUSE_20180116_120804_20000', 'MUSE_20180118_172418_35000'])"
      ]
     },
     "execution_count": 126,
     "metadata": {},
     "output_type": "execute_result"
    }
   ],
   "source": [
    "sujetos"
   ]
  },
  {
   "cell_type": "code",
   "execution_count": 127,
   "metadata": {},
   "outputs": [],
   "source": [
    "# Filtrar el DataFrame para obtener solo las filas de los archivos en selected_files\n",
    "selected_data_all = datos_diagnostics[datos_diagnostics['FileName'].isin(all_files)]\n",
    "\n",
    "# Crear un diccionario con 'FileName' como clave y 'Rhythm' como valor para fácil acceso\n",
    "file_rhythm_all = dict(zip(selected_data_all['FileName'], selected_data_all['Rhythm']))\n"
   ]
  },
  {
   "cell_type": "code",
   "execution_count": 130,
   "metadata": {},
   "outputs": [
    {
     "name": "stdout",
     "output_type": "stream",
     "text": [
      "Sujeto MUSE_20180118_133117_13000\n",
      "Frecuencia ventricular promedio: 64.9772579597141\n",
      "frecuencia auricular promedio: 65.24575902566332\n",
      "Cantidad de complejos QRS: 11\n",
      "Duración promedio de sistole=3.554 y de diastole=5.682\n",
      "Relación entre sistole y diastole: 0.6254839845124955\n",
      "\n",
      "\n",
      "Sujeto MUSE_20180113_184000_10000\n",
      "Frecuencia ventricular promedio: 54.91990846681923\n",
      "frecuencia auricular promedio: 56.32480638347807\n",
      "Cantidad de complejos QRS: 9\n",
      "Duración promedio de sistole=3.25 y de diastole=5.492\n",
      "Relación entre sistole y diastole: 0.5917698470502549\n",
      "\n",
      "\n",
      "Sujeto MUSE_20180112_075225_59000\n",
      "Frecuencia ventricular promedio: 58.06919912896201\n",
      "frecuencia auricular promedio: 56.59042678613535\n",
      "Cantidad de complejos QRS: 9\n",
      "Duración promedio de sistole=3.188 y de diastole=5.452\n",
      "Relación entre sistole y diastole: 0.5847395451210565\n",
      "\n",
      "\n",
      "Sujeto MUSE_20180116_120804_20000\n",
      "Frecuencia ventricular promedio: 95.151789759855\n",
      "frecuencia auricular promedio: 96.26403850561537\n",
      "Cantidad de complejos QRS: 15\n",
      "Duración promedio de sistole=4.264 y de diastole=4.868\n",
      "Relación entre sistole y diastole: 0.8759244042728019\n",
      "\n",
      "\n",
      "Sujeto MUSE_20180118_172418_35000\n",
      "Frecuencia ventricular promedio: 70.98911500236632\n",
      "frecuencia auricular promedio: 72.20216606498194\n",
      "Cantidad de complejos QRS: 11\n",
      "Duración promedio de sistole=3.76 y de diastole=5.056\n",
      "Relación entre sistole y diastole: 0.7436708860759493\n",
      "\n",
      "\n"
     ]
    }
   ],
   "source": [
    "\n",
    "# for archivo in all_files:\n",
    "for archivo in sujetos:\n",
    "    dato=datos_II_ecg[archivo][1:].astype(float)  # Convertir a tipo numérico si es necesario\n",
    "    print(f'Sujeto {archivo}')\n",
    "    # Procesar la señal ECG\n",
    "    Processed_signals, info = nk.ecg_process(dato, sampling_rate=500)\n",
    "\n",
    "    # Extraer los picos R de la señal ECG y obtener promedio para obtener la frecuencia ventricular\n",
    "    picos_R = info['ECG_R_Peaks']\n",
    "    # Calcular los intervalos RR (en segundos) dividiendo por la frecuencia de muestreo\n",
    "    intervalos_RR = np.diff(picos_R) / fs\n",
    "    # Calcular la frecuencia ventricular promedio (latidos por minuto)\n",
    "    VentricularRate  = 60 / np.mean(intervalos_RR)\n",
    "    print(f'Frecuencia ventricular promedio: {VentricularRate}')\n",
    "\n",
    "    # Extraer los picos P de la señal ECG\n",
    "    picos_P = np.array(info['ECG_P_Peaks'])\n",
    "    # Filtrar NaN de los picos P para evitar errores de cálculo\n",
    "    # picos_P_limpios = picos_P[~np.isnan(picos_P)]\n",
    "    picos_P_limpios = pd.Series(picos_P).interpolate().values #se cambian los NaN interpolandolos. Esto es útil para señales fisiológicas, ya que los datos suelen ser continuos.\n",
    "    # Calcular la frecuencia auricular promedio (latidos por minuto)\n",
    "    AtrialRate = 60 / np.mean(np.diff(picos_P_limpios) / 500)\n",
    "    print(f'frecuencia auricular promedio: {AtrialRate}')\n",
    "\n",
    "    # Cantidad de complejos QRS\n",
    "    QRSCount = len(picos_R)  \n",
    "    print(f'Cantidad de complejos QRS: {QRSCount}')\n",
    "    \n",
    "    # Extraer las fases ventriculares (sístole y diástole)\n",
    "    fases_ventriculares = Processed_signals[\"ECG_Phase_Ventricular\"].values\n",
    "    # Contar las muestras en cada fase\n",
    "    conteo_sistole = len(fases_ventriculares[fases_ventriculares == 1])\n",
    "    conteo_diastole = len(fases_ventriculares[fases_ventriculares == 0])\n",
    "    # Duración promedio de cada fase\n",
    "    systole_duration = conteo_sistole / fs  # En segundos\n",
    "    diastole_duration = conteo_diastole / fs  # En segundos\n",
    "    print(f'Duración promedio de sistole={systole_duration} y de diastole={diastole_duration}')\n",
    "\n",
    "    # Relación sístole/diástole\n",
    "    if diastole_duration==0:\n",
    "        systole_diastole_ratio = \"NaN\"\n",
    "    else:\n",
    "        systole_diastole_ratio = systole_duration / diastole_duration\n",
    "        print(f'Relación entre sistole y diastole: {systole_diastole_ratio}')\n",
    "    \n",
    "    print(\"\\n\")"
   ]
  },
  {
   "cell_type": "markdown",
   "metadata": {},
   "source": [
    "5. Con las características que extrae el neurokit y las discutidas en el punto 1 generar un conjunto de características para el presente trabajo. Incluir la característica de frecuencia de potencia máxima del Proyecto 3 (10%). No incluir más de 15 características ni menos de 5, justificar la selección (5%)."
   ]
  },
  {
   "cell_type": "code",
   "execution_count": 6,
   "metadata": {},
   "outputs": [],
   "source": [
    "#Para todos los datos\n",
    "all_files = datos_diagnostics['FileName'].tolist()\n",
    "df,datos_II_ecg=cargar_datos(all_files,1)\n",
    "sujetos=datos_II_ecg.keys()\n"
   ]
  },
  {
   "cell_type": "code",
   "execution_count": 7,
   "metadata": {},
   "outputs": [
    {
     "data": {
      "text/plain": [
       "dict_keys(['MUSE_20180113_171327_27000', 'MUSE_20180112_073319_29000', 'MUSE_20180113_121940_44000', 'MUSE_20180112_120347_79000', 'MUSE_20180114_075026_69000', 'MUSE_20180114_075128_92000', 'MUSE_20180118_174026_42000', 'MUSE_20180115_125443_25000', 'MUSE_20180113_134825_04000', 'MUSE_20180114_070718_20000', 'MUSE_20180115_133559_70000', 'MUSE_20180113_133901_16000', 'MUSE_20180113_071734_35000', 'MUSE_20180114_121218_64000', 'MUSE_20180113_075301_94000', 'MUSE_20180114_122918_82000', 'MUSE_20180118_135246_80000', 'MUSE_20180116_123940_90000', 'MUSE_20180118_132124_94000', 'MUSE_20180118_134426_93000', 'MUSE_20180116_130527_79000', 'MUSE_20180114_075003_61000', 'MUSE_20180113_131417_18000', 'MUSE_20180116_124959_22000', 'MUSE_20180114_073026_18000', 'MUSE_20180113_074740_85000', 'MUSE_20180116_132201_77000', 'MUSE_20180114_132044_36000', 'MUSE_20180115_124515_42000', 'MUSE_20180116_131337_59000', 'MUSE_20180113_183351_27000', 'MUSE_20180114_072951_09000', 'MUSE_20180113_172948_90000', 'MUSE_20180112_123750_49000', 'MUSE_20180113_175348_27000', 'MUSE_20180112_170307_12000', 'MUSE_20180119_171326_67000', 'MUSE_20180115_121230_14000', 'MUSE_20180113_130248_31000', 'MUSE_20180116_130424_37000', 'MUSE_20180118_125855_69000', 'MUSE_20180114_072023_07000', 'MUSE_20180113_072453_82000', 'MUSE_20180116_134125_04000', 'MUSE_20180112_122435_44000', 'MUSE_20180116_175418_77000', 'MUSE_20180116_174137_05000', 'MUSE_20180112_073011_37000', 'MUSE_20180712_160106_23000', 'MUSE_20180112_073537_11000', 'MUSE_20180118_125813_14000', 'MUSE_20180712_160448_42000', 'MUSE_20180119_171748_11000', 'MUSE_20180116_123010_01000', 'MUSE_20180115_132518_01000', 'MUSE_20180112_133006_47000', 'MUSE_20180118_122823_77000', 'MUSE_20180113_182220_81000', 'MUSE_20180115_125813_80000', 'MUSE_20180116_125446_37000', 'MUSE_20180112_165530_76000', 'MUSE_20180118_171116_02000', 'MUSE_20180120_121706_97000', 'MUSE_20180112_072033_34000', 'MUSE_20180116_133642_50000', 'MUSE_20180115_121309_74000', 'MUSE_20180114_133258_01000', 'MUSE_20180113_080557_48000', 'MUSE_20180118_131715_46000', 'MUSE_20180114_122857_08000', 'MUSE_20180115_131444_18000', 'MUSE_20180114_121113_24000', 'MUSE_20180116_133130_01000', 'MUSE_20180116_121449_39000', 'MUSE_20180113_120154_01000', 'MUSE_20180113_133804_30000', 'MUSE_20180113_074309_86000', 'MUSE_20180116_131040_40000', 'MUSE_20180115_130426_87000', 'MUSE_20180114_121100_92000', 'MUSE_20180113_123842_83000', 'MUSE_20180112_121710_94000', 'MUSE_20180114_065759_45000', 'MUSE_20180115_123455_79000', 'MUSE_20180712_161441_91000', 'MUSE_20180114_075606_29000', 'MUSE_20180119_180357_01000', 'MUSE_20180112_141119_54000', 'MUSE_20180118_170914_56000', 'MUSE_20180114_171024_41000', 'MUSE_20180113_073219_67000', 'MUSE_20180111_170533_13000', 'MUSE_20180118_172904_59000', 'MUSE_20180115_120907_53000', 'MUSE_20180115_134537_42000', 'MUSE_20180119_172430_84000', 'MUSE_20180118_134448_83000', 'MUSE_20180712_160220_39000', 'MUSE_20180116_130643_35000', 'MUSE_20180113_130344_80000', 'MUSE_20180118_122358_15000', 'MUSE_20180113_135710_28000', 'MUSE_20180114_131714_65000', 'MUSE_20180113_072412_18000', 'MUSE_20180114_130336_88000', 'MUSE_20180113_115002_38000', 'MUSE_20180111_163357_09000', 'MUSE_20180114_121728_92000', 'MUSE_20180118_120833_49000', 'MUSE_20180114_071317_93000', 'MUSE_20180114_071704_96000', 'MUSE_20180118_174511_42000', 'MUSE_20180115_122811_79000', 'MUSE_20180114_114902_42000', 'MUSE_20180113_133257_43000', 'MUSE_20180114_131147_53000', 'MUSE_20180115_123338_21000', 'MUSE_20180119_171342_23000', 'MUSE_20180116_133618_66000', 'MUSE_20180113_124658_83000', 'MUSE_20180114_065250_20000', 'MUSE_20180118_132422_89000', 'MUSE_20180116_174257_77000', 'MUSE_20180115_134242_00000', 'MUSE_20180114_133820_34000', 'MUSE_20180116_123919_17000', 'MUSE_20180112_132030_44000', 'MUSE_20180112_133816_89000', 'MUSE_20180116_122634_19000', 'MUSE_20180116_174715_40000', 'MUSE_20180114_130812_63000', 'MUSE_20180113_075016_97000', 'MUSE_20180116_170924_21000', 'MUSE_20180116_131757_98000', 'MUSE_20180116_133306_20000', 'MUSE_20180113_123658_89000', 'MUSE_20180115_125342_25000', 'MUSE_20180112_124712_82000', 'MUSE_20180114_073751_43000', 'MUSE_20180114_073950_28000', 'MUSE_20180113_072235_04000', 'MUSE_20180116_125845_27000', 'MUSE_20180119_175803_90000', 'MUSE_20180113_173554_96000', 'MUSE_20180118_133121_38000', 'MUSE_20180113_182557_90000', 'MUSE_20180120_123819_05000', 'MUSE_20180113_115609_72000', 'MUSE_20180116_125330_27000', 'MUSE_20180112_071514_26000', 'MUSE_20180114_120044_31000', 'MUSE_20180712_160932_97000', 'MUSE_20180113_130644_39000', 'MUSE_20180113_182321_68000', 'MUSE_20180114_131401_43000', 'MUSE_20180114_125636_91000', 'MUSE_20180116_121343_86000', 'MUSE_20180112_130832_09000', 'MUSE_20180112_121749_74000', 'MUSE_20180113_130445_05000', 'MUSE_20180114_065508_12000', 'MUSE_20180112_133441_66000', 'MUSE_20180118_131733_19000', 'MUSE_20180113_133547_04000', 'MUSE_20180114_124232_51000', 'MUSE_20180112_073016_64000', 'MUSE_20180118_132400_96000', 'MUSE_20180118_181428_68000', 'MUSE_20180119_175033_37000', 'MUSE_20180114_114913_67000', 'MUSE_20180113_125103_10000', 'MUSE_20180116_122520_49000', 'MUSE_20180111_170237_37000', 'MUSE_20180113_072824_67000', 'MUSE_20180115_132327_14000', 'MUSE_20180111_160439_59000', 'MUSE_20180113_075559_30000', 'MUSE_20180118_125800_75000', 'MUSE_20180120_123455_47000', 'MUSE_20180113_124535_69000', 'MUSE_20180115_131713_05000', 'MUSE_20180116_174606_28000', 'MUSE_20180118_172314_26000', 'MUSE_20180118_171351_26000', 'MUSE_20180112_120348_84000', 'MUSE_20180118_133449_29000', 'MUSE_20180116_122718_88000', 'MUSE_20180113_132422_96000', 'MUSE_20180114_070831_95000', 'MUSE_20180112_071025_16000', 'MUSE_20180113_134757_99000', 'MUSE_20180113_123110_40000', 'MUSE_20180118_122906_36000', 'MUSE_20180114_170905_01000', 'MUSE_20180114_133423_83000', 'MUSE_20180113_072513_52000', 'MUSE_20180112_075437_85000', 'MUSE_20180113_185228_09000', 'MUSE_20180115_122920_40000', 'MUSE_20180113_184410_99000', 'MUSE_20180116_125004_54000', 'MUSE_20180112_121207_24000', 'MUSE_20180113_171320_98000', 'MUSE_20180119_171455_02000', 'MUSE_20180116_123641_84000', 'MUSE_20180114_171942_58000', 'MUSE_20180115_123514_35000', 'MUSE_20180118_173125_40000', 'MUSE_20180114_070143_41000', 'MUSE_20180114_065555_77000', 'MUSE_20180115_124332_88000', 'MUSE_20180113_122344_54000', 'MUSE_20180118_132425_03000', 'MUSE_20180116_170749_95000', 'MUSE_20180115_133251_36000', 'MUSE_20180112_124231_23000', 'MUSE_20180113_120143_85000', 'MUSE_20180114_134120_21000', 'MUSE_20180118_134300_90000', 'MUSE_20180113_120255_30000', 'MUSE_20180111_155903_57000', 'MUSE_20180114_071101_50000', 'MUSE_20180119_174907_14000', 'MUSE_20180114_070408_88000', 'MUSE_20180113_171721_96000', 'MUSE_20180113_134807_49000', 'MUSE_20180712_160641_28000', 'MUSE_20180112_124901_96000', 'MUSE_20180114_133612_13000', 'MUSE_20180114_125126_96000', 'MUSE_20180114_072231_70000', 'MUSE_20180112_133207_64000', 'MUSE_20180116_132843_94000', 'MUSE_20180118_131804_82000', 'MUSE_20180114_115125_19000', 'MUSE_20180116_123157_19000', 'MUSE_20180112_130540_07000', 'MUSE_20180112_075129_12000', 'MUSE_20180115_134957_18000', 'MUSE_20180112_073029_99000', 'MUSE_20180115_123200_57000', 'MUSE_20180116_175157_61000', 'MUSE_20180114_122753_78000', 'MUSE_20180113_134618_50000', 'MUSE_20180113_134104_50000', 'MUSE_20180118_122055_80000', 'MUSE_20180112_122843_05000', 'MUSE_20180113_171719_87000', 'MUSE_20180116_132817_95000', 'MUSE_20180114_123548_52000', 'MUSE_20180113_133429_26000', 'MUSE_20180116_123109_00000', 'MUSE_20180114_170435_31000', 'MUSE_20180114_070956_09000', 'MUSE_20180112_133324_76000', 'MUSE_20180118_122950_89000', 'MUSE_20180119_175607_32000', 'MUSE_20180118_173139_83000', 'MUSE_20180118_131905_87000', 'MUSE_20180116_180424_99000', 'MUSE_20180114_122540_17000', 'MUSE_20180113_185206_17000', 'MUSE_20180113_075019_08000', 'MUSE_20180116_132313_62000', 'MUSE_20180118_130430_10000', 'MUSE_20180116_123648_28000', 'MUSE_20180114_134103_72000', 'MUSE_20180118_120854_33000', 'MUSE_20180118_170708_95000', 'MUSE_20180114_132350_42000', 'MUSE_20180115_125206_70000', 'MUSE_20180118_122943_50000', 'MUSE_20180114_065616_49000', 'MUSE_20180112_120958_37000', 'MUSE_20180116_174319_53000', 'MUSE_20180114_171855_90000', 'MUSE_20180118_131134_99000', 'MUSE_20180118_125030_81000', 'MUSE_20180114_070252_15000', 'MUSE_20180112_121355_12000', 'MUSE_20180118_174840_44000', 'MUSE_20180112_123749_43000', 'MUSE_20180118_132306_92000', 'MUSE_20180112_071537_27000', 'MUSE_20180118_180610_87000', 'MUSE_20180114_134109_01000', 'MUSE_20180114_170414_36000', 'MUSE_20180118_134316_33000', 'MUSE_20180119_171539_74000', 'MUSE_20180118_125634_72000', 'MUSE_20180112_133346_81000', 'MUSE_20180119_174016_53000', 'MUSE_20180114_071435_61000', 'MUSE_20180115_122945_42000', 'MUSE_20180114_075848_44000', 'MUSE_20180118_135318_80000', 'MUSE_20180113_071505_77000', 'MUSE_20180116_180929_81000', 'MUSE_20180114_123502_84000', 'MUSE_20180116_180742_73000', 'MUSE_20180112_171053_89000', 'MUSE_20180113_175354_59000', 'MUSE_20180115_123443_51000', 'MUSE_20180112_165324_19000', 'MUSE_20180113_131647_63000', 'MUSE_20180118_172018_12000', 'MUSE_20180114_123001_40000', 'MUSE_20180114_135040_64000', 'MUSE_20180113_175910_19000', 'MUSE_20180119_173157_60000', 'MUSE_20180116_173713_91000', 'MUSE_20180113_133030_28000', 'MUSE_20180118_180656_86000', 'MUSE_20180120_123417_18000', 'MUSE_20180113_134801_16000', 'MUSE_20180114_071916_28000', 'MUSE_20180115_121348_74000', 'MUSE_20180118_175543_83000', 'MUSE_20180114_125357_53000', 'MUSE_20180114_073504_83000', 'MUSE_20180114_075135_26000', 'MUSE_20180113_072806_45000', 'MUSE_20180114_072706_89000', 'MUSE_20180114_170407_92000', 'MUSE_20180115_121126_56000', 'MUSE_20180113_171308_71000', 'MUSE_20180113_130000_43000', 'MUSE_20180118_180620_42000', 'MUSE_20180112_132615_00000', 'MUSE_20180113_115355_59000', 'MUSE_20180113_173022_21000', 'MUSE_20180116_131026_91000', 'MUSE_20180116_130105_17000', 'MUSE_20180116_125410_83000', 'MUSE_20180116_174007_40000', 'MUSE_20180114_134001_99000', 'MUSE_20180114_070328_46000', 'MUSE_20180112_072134_48000', 'MUSE_20180118_132307_98000', 'MUSE_20180118_173529_22000', 'MUSE_20180118_131136_04000', 'MUSE_20180118_122508_89000', 'MUSE_20180114_065920_07000', 'MUSE_20180113_071953_22000', 'MUSE_20180113_134307_94000', 'MUSE_20180112_170217_00000', 'MUSE_20180118_123248_13000', 'MUSE_20180118_173001_09000', 'MUSE_20180113_120934_54000', 'MUSE_20180114_130520_11000', 'MUSE_20180115_132432_41000', 'MUSE_20180112_120559_14000', 'MUSE_20180116_174131_76000', 'MUSE_20180115_130308_08000', 'MUSE_20180112_132009_58000', 'MUSE_20180114_170606_53000', 'MUSE_20180118_123150_97000', 'MUSE_20180119_175356_30000', 'MUSE_20180113_125408_33000', 'MUSE_20180114_132201_49000', 'MUSE_20180115_123051_99000', 'MUSE_20180118_122714_21000', 'MUSE_20180115_132228_19000', 'MUSE_20180112_123303_17000', 'MUSE_20180115_134046_45000', 'MUSE_20180114_065529_85000', 'MUSE_20180116_173436_19000', 'MUSE_20180114_073409_85000', 'MUSE_20180116_171200_55000', 'MUSE_20180120_122655_70000', 'MUSE_20180114_120928_22000', 'MUSE_20180111_170130_26000', 'MUSE_20180113_175930_96000', 'MUSE_20180118_134837_94000', 'MUSE_20180113_181221_01000', 'MUSE_20180114_131007_16000', 'MUSE_20180120_123509_87000', 'MUSE_20180116_173658_45000', 'MUSE_20180118_133112_87000', 'MUSE_20180115_131536_22000', 'MUSE_20180115_122530_52000', 'MUSE_20180113_185557_25000', 'MUSE_20180112_130745_26000', 'MUSE_20180118_181925_15000', 'MUSE_20180114_073956_59000', 'MUSE_20180115_133121_88000', 'MUSE_20180112_140209_67000', 'MUSE_20180118_130845_20000', 'MUSE_20180120_123156_85000', 'MUSE_20180114_124626_67000', 'MUSE_20180114_065536_17000', 'MUSE_20180113_074046_15000', 'MUSE_20180114_072344_13000', 'MUSE_20180112_132652_33000', 'MUSE_20180112_121016_90000', 'MUSE_20180118_182223_27000', 'MUSE_20180114_134325_03000', 'MUSE_20180119_175231_81000', 'MUSE_20180116_121304_53000', 'MUSE_20180116_124901_03000', 'MUSE_20180112_130337_67000', 'MUSE_20180113_182810_31000', 'MUSE_20180113_133741_51000', 'MUSE_20180112_075554_35000', 'MUSE_20180116_125842_09000', 'MUSE_20180113_175336_01000', 'MUSE_20180114_071629_88000', 'MUSE_20180113_185327_03000', 'MUSE_20180120_123323_01000', 'MUSE_20180118_125641_05000', 'MUSE_20180116_123118_53000', 'MUSE_20180114_131842_40000', 'MUSE_20180112_121032_32000', 'MUSE_20180116_174027_93000', 'MUSE_20180114_132814_86000', 'MUSE_20180113_123421_30000', 'MUSE_20180115_133002_15000', 'MUSE_20180115_130557_18000', 'MUSE_20180118_180207_31000', 'MUSE_20180114_121236_19000', 'MUSE_20180116_125023_27000', 'MUSE_20180113_074133_48000', 'MUSE_20180116_170829_45000', 'MUSE_20180116_130444_05000', 'MUSE_20180114_133330_29000', 'MUSE_20180113_080321_31000', 'MUSE_20180114_123605_01000', 'MUSE_20180113_172901_37000', 'MUSE_20180115_133707_25000', 'MUSE_20180114_125441_25000', 'MUSE_20180112_120236_20000', 'MUSE_20180118_175115_91000', 'MUSE_20180116_123214_89000', 'MUSE_20180114_133533_28000', 'MUSE_20180114_134259_75000', 'MUSE_20180115_131100_92000', 'MUSE_20180114_075050_69000', 'MUSE_20180113_072838_07000', 'MUSE_20180120_120559_22000', 'MUSE_20180119_180058_03000', 'MUSE_20180115_134601_43000', 'MUSE_20180114_125814_24000', 'MUSE_20180112_122629_92000', 'MUSE_20180114_171013_15000', 'MUSE_20180113_135956_19000', 'MUSE_20180119_174513_85000', 'MUSE_20180114_121535_91000', 'MUSE_20180118_175242_52000', 'MUSE_20180116_180440_65000', 'MUSE_20180114_071753_87000', 'MUSE_20180113_074630_57000', 'MUSE_20180118_130201_41000', 'MUSE_20180118_130805_69000', 'MUSE_20180712_160553_03000', 'MUSE_20180118_131801_67000', 'MUSE_20180118_132255_23000', 'MUSE_20180115_123113_89000', 'MUSE_20180116_180439_60000', 'MUSE_20180120_122217_83000', 'MUSE_20180112_074147_39000', 'MUSE_20180113_174033_43000', 'MUSE_20180113_135109_92000', 'MUSE_20180113_073559_45000', 'MUSE_20180118_172233_79000', 'MUSE_20180112_132626_21000', 'MUSE_20180116_121716_47000', 'MUSE_20180116_130925_73000', 'MUSE_20180112_134113_00000', 'MUSE_20180113_073928_00000', 'MUSE_20180112_170055_91000', 'MUSE_20180116_130338_69000', 'MUSE_20180114_125239_32000', 'MUSE_20180118_122257_07000', 'MUSE_20180112_135042_40000', 'MUSE_20180118_172539_51000', 'MUSE_20180114_070839_30000', 'MUSE_20180113_125228_42000', 'MUSE_20180118_182049_46000', 'MUSE_20180112_074818_33000', 'MUSE_20180120_123555_67000', 'MUSE_20180114_132437_41000', 'MUSE_20180112_122741_26000', 'MUSE_20180114_124109_62000', 'MUSE_20180112_071305_65000', 'MUSE_20180118_132318_18000', 'MUSE_20180118_132946_59000', 'MUSE_20180114_120705_45000', 'MUSE_20180112_073719_46000', 'MUSE_20180118_134532_83000', 'MUSE_20180112_140525_81000', 'MUSE_20180113_073605_76000', 'MUSE_20180116_122853_50000', 'MUSE_20180116_131423_23000', 'MUSE_20180112_165049_27000', 'MUSE_20180113_183412_36000', 'MUSE_20180114_065809_65000', 'MUSE_20180119_173407_45000', 'MUSE_20180114_071617_18000', 'MUSE_20180712_160241_36000', 'MUSE_20180114_071231_04000', 'MUSE_20180119_171226_66000', 'MUSE_20180112_073635_02000', 'MUSE_20180112_073830_24000', 'MUSE_20180114_072738_28000', 'MUSE_20180113_075258_78000', 'MUSE_20180118_130457_10000', 'MUSE_20180118_131403_55000', 'MUSE_20180114_125841_26000', 'MUSE_20180114_124319_30000', 'MUSE_20180113_122243_46000', 'MUSE_20180116_125758_31000', 'MUSE_20180114_125719_42000', 'MUSE_20180118_130429_04000', 'MUSE_20180116_123110_04000', 'MUSE_20180115_121732_99000', 'MUSE_20180113_180213_91000', 'MUSE_20180114_123523_54000', 'MUSE_20180118_131714_40000', 'MUSE_20180113_134543_44000', 'MUSE_20180116_122957_75000', 'MUSE_20180115_120730_64000', 'MUSE_20180113_171517_50000', 'MUSE_20180119_170850_77000', 'MUSE_20180119_173937_78000', 'MUSE_20180118_174636_70000', 'MUSE_20180115_121145_14000', 'MUSE_20180114_073423_35000', 'MUSE_20180113_185659_83000', 'MUSE_20180116_124644_47000', 'MUSE_20180114_115932_14000', 'MUSE_20180113_125225_23000', 'MUSE_20180114_170605_48000', 'MUSE_20180112_070938_12000', 'MUSE_20180115_115626_42000', 'MUSE_20180115_130040_42000', 'MUSE_20180116_122151_83000', 'MUSE_20180120_123615_38000', 'MUSE_20180116_122231_12000', 'MUSE_20180112_135954_50000', 'MUSE_20180112_075324_37000', 'MUSE_20180118_135032_44000', 'MUSE_20180116_172521_33000', 'MUSE_20180116_180551_93000', 'MUSE_20180112_135605_58000', 'MUSE_20180113_075114_21000', 'MUSE_20180114_121219_70000', 'MUSE_20180114_073909_76000', 'MUSE_20180712_160609_72000', 'MUSE_20180113_134518_87000', 'MUSE_20180115_121503_35000', 'MUSE_20180114_122018_54000', 'MUSE_20180112_074344_49000', 'MUSE_20180111_155839_67000', 'MUSE_20180114_080259_74000', 'MUSE_20180114_072330_81000', 'MUSE_20180118_130536_54000', 'MUSE_20180113_075459_02000', 'MUSE_20180113_134146_12000', 'MUSE_20180112_133938_88000', 'MUSE_20180113_182422_74000', 'MUSE_20180115_125259_85000', 'MUSE_20180113_132904_79000', 'MUSE_20180114_072510_20000', 'MUSE_20180114_120413_74000', 'MUSE_20180114_123948_53000', 'MUSE_20180116_124357_22000', 'MUSE_20180115_123750_59000', 'MUSE_20180118_121851_90000', 'MUSE_20180113_173215_31000', 'MUSE_20180113_073355_39000', 'MUSE_20180115_123329_50000', 'MUSE_20180112_141125_95000', 'MUSE_20180112_122301_59000', 'MUSE_20180113_130207_94000', 'MUSE_20180112_124212_46000', 'MUSE_20180118_133627_07000', 'MUSE_20180112_120716_10000', 'MUSE_20180113_130121_22000', 'MUSE_20180114_073001_25000', 'MUSE_20180112_132159_44000', 'MUSE_20180111_170259_16000', 'MUSE_20180119_171120_09000', 'MUSE_20180113_130004_64000', 'MUSE_20180114_074456_46000', 'MUSE_20180114_171030_73000', 'MUSE_20180120_122748_74000', 'MUSE_20180113_181748_96000', 'MUSE_20180115_120424_67000', 'MUSE_20180113_171632_21000', 'MUSE_20180118_131927_80000', 'MUSE_20180113_131312_49000', 'MUSE_20180118_134844_32000', 'MUSE_20180118_180300_19000', 'MUSE_20180118_132411_61000', 'MUSE_20180114_132846_71000', 'MUSE_20180112_073112_69000', 'MUSE_20180111_160710_12000', 'MUSE_20180712_161223_50000', 'MUSE_20180114_130210_39000', 'MUSE_20180116_180429_37000', 'MUSE_20180113_134153_51000', 'MUSE_20180118_122249_58000', 'MUSE_20180114_080211_96000', 'MUSE_20180113_183358_66000', 'MUSE_20180118_122037_17000', 'MUSE_20180112_132215_93000', 'MUSE_20180113_122918_77000', 'MUSE_20180118_121611_36000', 'MUSE_20180114_065453_70000', 'MUSE_20180118_135408_20000', 'MUSE_20180118_131818_19000', 'MUSE_20180116_133612_19000', 'MUSE_20180113_180732_55000', 'MUSE_20180113_130040_82000', 'MUSE_20180113_123051_66000', 'MUSE_20180112_124429_51000', 'MUSE_20180116_133758_44000', 'MUSE_20180114_130356_85000', 'MUSE_20180116_132410_70000', 'MUSE_20180120_121644_10000', 'MUSE_20180712_160111_66000', 'MUSE_20180113_125836_16000', 'MUSE_20180113_173440_61000', 'MUSE_20180120_122739_59000', 'MUSE_20180118_180408_80000', 'MUSE_20180114_072240_81000', 'MUSE_20180116_173711_79000', 'MUSE_20180116_130723_84000', 'MUSE_20180113_185453_76000', 'MUSE_20180116_125005_58000', 'MUSE_20180111_160033_11000', 'MUSE_20180118_123233_66000', 'MUSE_20180113_173729_65000', 'MUSE_20180112_072617_85000', 'MUSE_20180114_125733_79000', 'MUSE_20180113_181114_46000', 'MUSE_20180116_172221_70000', 'MUSE_20180113_073700_58000', 'MUSE_20180118_181845_63000', 'MUSE_20180113_120447_00000', 'MUSE_20180118_132022_62000', 'MUSE_20180115_122527_35000', 'MUSE_20180113_125832_94000', 'MUSE_20180113_071526_52000', 'MUSE_20180116_132018_20000', 'MUSE_20180116_124605_19000', 'MUSE_20180115_131706_61000', 'MUSE_20180116_121800_18000', 'MUSE_20180116_170112_61000', 'MUSE_20180115_115843_34000', 'MUSE_20180113_132211_20000', 'MUSE_20180113_181818_56000', 'MUSE_20180113_115945_81000', 'MUSE_20180113_124050_55000', 'MUSE_20180118_125612_97000', 'MUSE_20180113_135040_59000', 'MUSE_20180112_074922_76000', 'MUSE_20180115_130613_91000', 'MUSE_20180114_130642_01000', 'MUSE_20180116_174134_93000', 'MUSE_20180120_121926_84000', 'MUSE_20180112_071907_21000', 'MUSE_20180113_133307_98000', 'MUSE_20180112_132750_45000', 'MUSE_20180113_125105_21000', 'MUSE_20180119_170851_82000', 'MUSE_20180115_131221_08000', 'MUSE_20180113_130039_75000', 'MUSE_20180114_115352_97000', 'MUSE_20180116_182019_71000', 'MUSE_20180113_080539_71000', 'MUSE_20180112_071310_92000', 'MUSE_20180114_121122_88000', 'MUSE_20180113_125643_68000', 'MUSE_20180116_122552_60000', 'MUSE_20180115_125017_00000', 'MUSE_20180113_131708_33000', 'MUSE_20180116_173502_18000', 'MUSE_20180115_131229_60000', 'MUSE_20180116_121033_68000', 'MUSE_20180112_073745_50000', 'MUSE_20180113_071518_02000', 'MUSE_20180112_134219_28000', 'MUSE_20180118_175759_00000', 'MUSE_20180114_130751_63000', 'MUSE_20180113_132948_49000', 'MUSE_20180114_072045_94000', 'MUSE_20180113_182717_93000', 'MUSE_20180118_170958_32000', 'MUSE_20180112_131944_65000', 'MUSE_20180118_135240_41000', 'MUSE_20180114_121843_79000', 'MUSE_20180112_133558_67000', 'MUSE_20180118_130846_25000', 'MUSE_20180113_131332_39000', 'MUSE_20180114_170523_02000', 'MUSE_20180116_131318_79000', 'MUSE_20180118_175908_75000', 'MUSE_20180116_172755_07000', 'MUSE_20180113_125207_42000', 'MUSE_20180112_122238_68000', 'MUSE_20180112_141149_07000', 'MUSE_20180114_170348_11000', 'MUSE_20180113_071644_38000', 'MUSE_20180116_130913_93000', 'MUSE_20180115_133859_76000', 'MUSE_20180115_134213_60000', 'MUSE_20180113_125619_76000', 'MUSE_20180116_181916_76000', 'MUSE_20180114_124929_44000', 'MUSE_20180113_175428_60000', 'MUSE_20180112_130439_87000', 'MUSE_20180112_072955_91000', 'MUSE_20180115_115952_58000', 'MUSE_20180113_184632_14000', 'MUSE_20180116_132903_58000', 'MUSE_20180116_180128_52000', 'MUSE_20180114_130252_72000', 'MUSE_20180113_175733_86000', 'MUSE_20180112_132443_86000', 'MUSE_20180113_123738_37000', 'MUSE_20180115_133016_53000', 'MUSE_20180112_120856_10000', 'MUSE_20180112_123900_97000', 'MUSE_20180119_171106_76000', 'MUSE_20180113_133351_88000', 'MUSE_20180119_172826_97000', 'MUSE_20180119_175140_63000', 'MUSE_20180113_122627_91000', 'MUSE_20180116_130546_44000', 'MUSE_20180113_171554_80000', 'MUSE_20180113_124213_42000', 'MUSE_20180118_124249_55000', 'MUSE_20180114_120814_87000', 'MUSE_20180115_125748_93000', 'MUSE_20180112_135939_12000', 'MUSE_20180112_134825_56000', 'MUSE_20180712_160301_31000', 'MUSE_20180113_171510_11000', 'MUSE_20180112_121356_16000', 'MUSE_20180118_132421_83000', 'MUSE_20180112_121041_85000', 'MUSE_20180114_074436_75000', 'MUSE_20180115_134533_19000', 'MUSE_20180113_131038_86000', 'MUSE_20180111_170139_35000', 'MUSE_20180712_155949_63000', 'MUSE_20180120_121000_37000', 'MUSE_20180114_071047_10000', 'MUSE_20180112_072029_16000', 'MUSE_20180118_131926_74000', 'MUSE_20180113_185509_24000', 'MUSE_20180118_122336_40000', 'MUSE_20180118_134401_99000', 'MUSE_20180115_122758_52000', 'MUSE_20180113_135529_57000', 'MUSE_20180712_160238_11000', 'MUSE_20180113_072029_44000', 'MUSE_20180115_131232_88000', 'MUSE_20180118_134552_54000', 'MUSE_20180112_140032_84000', 'MUSE_20180113_135028_24000', 'MUSE_20180712_160958_39000', 'MUSE_20180712_161247_69000', 'MUSE_20180113_125211_82000', 'MUSE_20180112_130700_41000', 'MUSE_20180120_122238_86000', 'MUSE_20180113_134330_90000', 'MUSE_20180114_171147_84000', 'MUSE_20180113_133816_58000', 'MUSE_20180114_171025_46000', 'MUSE_20180114_071433_38000', 'MUSE_20180113_173913_42000', 'MUSE_20180113_115049_34000', 'MUSE_20180115_115844_40000', 'MUSE_20180114_124645_30000', 'MUSE_20180115_124008_12000', 'MUSE_20180118_132329_91000', 'MUSE_20180116_133611_14000', 'MUSE_20180115_130329_84000', 'MUSE_20180112_165816_98000', 'MUSE_20180112_132859_17000', 'MUSE_20180116_132623_60000', 'MUSE_20180116_130310_51000', 'MUSE_20180118_120938_02000', 'MUSE_20180116_173527_05000', 'MUSE_20180119_170234_31000', 'MUSE_20180114_133608_90000', 'MUSE_20180113_080443_04000', 'MUSE_20180114_065249_15000', 'MUSE_20180113_182333_94000', 'MUSE_20180113_125414_67000', 'MUSE_20180119_173630_35000', 'MUSE_20180114_130147_46000', 'MUSE_20180118_175635_82000', 'MUSE_20180114_065438_26000', 'MUSE_20180113_074546_55000', 'MUSE_20180118_130225_41000', 'MUSE_20180115_132253_07000', 'MUSE_20180115_124912_59000', 'MUSE_20180115_124908_38000', 'MUSE_20180120_122229_14000', 'MUSE_20180113_132021_71000', 'MUSE_20180113_133453_12000', 'MUSE_20180116_124725_90000', 'MUSE_20180115_133856_58000', 'MUSE_20180112_123711_72000', 'MUSE_20180113_132752_89000', 'MUSE_20180118_134504_47000', 'MUSE_20180113_123539_98000', 'MUSE_20180112_121019_01000', 'MUSE_20180115_132227_11000', 'MUSE_20180116_181438_29000', 'MUSE_20180114_131020_55000', 'MUSE_20180114_121533_70000', 'MUSE_20180119_175032_31000', 'MUSE_20180118_180801_58000', 'MUSE_20180112_130809_16000', 'MUSE_20180115_123701_40000', 'MUSE_20180114_120114_84000', 'MUSE_20180114_073718_64000', 'MUSE_20180114_171310_64000', 'MUSE_20180116_123121_71000', 'MUSE_20180118_131842_03000', 'MUSE_20180119_173433_41000', 'MUSE_20180114_071341_77000', 'MUSE_20180113_125622_92000', 'MUSE_20180112_133345_73000', 'MUSE_20180120_121827_65000', 'MUSE_20180114_131148_58000', 'MUSE_20180116_133111_37000', 'MUSE_20180114_075158_20000', 'MUSE_20180113_173156_53000', 'MUSE_20180113_123728_19000', 'MUSE_20180113_135211_17000', 'MUSE_20180115_115706_86000', 'MUSE_20180113_075912_07000', 'MUSE_20180712_160449_50000', 'MUSE_20180712_160855_39000', 'MUSE_20180113_125744_66000', 'MUSE_20180119_172809_07000', 'MUSE_20180115_131611_87000', 'MUSE_20180114_133438_46000', 'MUSE_20180116_121317_82000', 'MUSE_20180113_180006_45000', 'MUSE_20180118_121612_44000', 'MUSE_20180113_072345_86000', 'MUSE_20180118_135346_16000', 'MUSE_20180113_122214_80000', 'MUSE_20180116_170531_04000', 'MUSE_20180113_134701_07000', 'MUSE_20180115_120918_73000', 'MUSE_20180118_131941_09000', 'MUSE_20180112_132420_93000', 'MUSE_20180112_165755_14000', 'MUSE_20180118_123708_02000', 'MUSE_20180118_125218_80000', 'MUSE_20180114_122603_18000', 'MUSE_20180114_115736_22000', 'MUSE_20180119_171838_27000', 'MUSE_20180113_115105_86000', 'MUSE_20180112_120039_33000', 'MUSE_20180113_184630_04000', 'MUSE_20180115_125758_37000', 'MUSE_20180112_134033_16000', 'MUSE_20180114_131316_70000', 'MUSE_20180119_171426_81000', 'MUSE_20180114_074131_16000', 'MUSE_20180119_180430_07000', 'MUSE_20180114_075847_39000', 'MUSE_20180113_130516_47000', 'MUSE_20180114_171158_00000', 'MUSE_20180116_172034_71000', 'MUSE_20180112_140809_35000', 'MUSE_20180118_170409_73000', 'MUSE_20180116_180127_46000', 'MUSE_20180113_073103_27000', 'MUSE_20180712_161054_39000', 'MUSE_20180114_071019_02000', 'MUSE_20180116_131252_68000', 'MUSE_20180118_124311_44000', 'MUSE_20180116_121431_78000', 'MUSE_20180118_173903_26000', 'MUSE_20180114_132338_13000', 'MUSE_20180114_073617_65000', 'MUSE_20180111_170244_76000', 'MUSE_20180112_133525_62000', 'MUSE_20180116_174446_20000', 'MUSE_20180113_132238_27000', 'MUSE_20180112_132426_25000', 'MUSE_20180114_134043_05000', 'MUSE_20180115_125144_92000', 'MUSE_20180112_072253_32000', 'MUSE_20180113_125653_84000', 'MUSE_20180115_121720_71000', 'MUSE_20180112_123126_96000', 'MUSE_20180114_114555_62000', 'MUSE_20180113_125150_87000', 'MUSE_20180112_072607_68000', 'MUSE_20180118_120605_27000', 'MUSE_20180116_171956_96000', 'MUSE_20180112_123139_21000', 'MUSE_20180118_132212_68000', 'MUSE_20180118_180829_71000', 'MUSE_20180113_175915_48000', 'MUSE_20180114_133547_77000', 'MUSE_20180114_071918_44000', 'MUSE_20180112_120407_45000', 'MUSE_20180120_122542_97000', 'MUSE_20180113_130719_65000', 'MUSE_20180112_170402_27000', 'MUSE_20180111_170255_98000', 'MUSE_20180114_130309_30000', 'MUSE_20180113_130038_71000', 'MUSE_20180113_125553_79000', 'MUSE_20180115_123034_42000', 'MUSE_20180113_080102_80000', 'MUSE_20180115_131914_16000', 'MUSE_20180119_173906_99000', 'MUSE_20180118_132004_02000', 'MUSE_20180712_161250_89000', 'MUSE_20180114_122043_48000', 'MUSE_20180116_124941_62000', 'MUSE_20180114_065540_36000', 'MUSE_20180112_072913_35000', 'MUSE_20180113_074318_27000', 'MUSE_20180116_121711_23000', 'MUSE_20180114_065412_30000', 'MUSE_20180116_133845_10000', 'MUSE_20180112_122117_72000', 'MUSE_20180118_132013_51000', 'MUSE_20180114_122752_73000', 'MUSE_20180114_124212_84000', 'MUSE_20180116_121123_68000', 'MUSE_20180112_074738_57000', 'MUSE_20180114_170602_33000', 'MUSE_20180115_123751_69000', 'MUSE_20180112_135626_30000', 'MUSE_20180118_170905_98000', 'MUSE_20180114_065900_48000', 'MUSE_20180114_125554_54000', 'MUSE_20180112_133230_46000', 'MUSE_20180112_165409_12000', 'MUSE_20180112_123559_28000', 'MUSE_20180116_123837_58000', 'MUSE_20180114_133446_98000', 'MUSE_20180114_115023_66000', 'MUSE_20180113_073909_10000', 'MUSE_20180113_122913_51000', 'MUSE_20180114_070935_35000', 'MUSE_20180712_160604_33000', 'MUSE_20180116_131459_50000', 'MUSE_20180113_124027_65000', 'MUSE_20180114_065159_78000', 'MUSE_20180116_121121_57000', 'MUSE_20180113_120830_64000', 'MUSE_20180112_124407_61000', 'MUSE_20180114_114641_64000', 'MUSE_20180112_073556_78000', 'MUSE_20180118_171644_79000', 'MUSE_20180112_120111_40000', 'MUSE_20180115_130122_79000', 'MUSE_20180114_072751_60000', 'MUSE_20180114_132352_53000', 'MUSE_20180116_132131_94000', 'MUSE_20180118_134752_35000', 'MUSE_20180113_073339_97000', 'MUSE_20180115_122823_48000', 'MUSE_20180116_125925_64000', 'MUSE_20180114_072447_33000', 'MUSE_20180119_173112_86000', 'MUSE_20180116_121748_43000', 'MUSE_20180113_183807_94000', 'MUSE_20180113_184229_95000', 'MUSE_20180112_074628_77000', 'MUSE_20180114_124403_82000', 'MUSE_20180113_121858_99000', 'MUSE_20180118_181534_31000', 'MUSE_20180113_133004_98000', 'MUSE_20180112_134612_88000', 'MUSE_20180118_132443_73000', 'MUSE_20180112_074844_43000', 'MUSE_20180112_133738_64000', 'MUSE_20180115_133129_25000', 'MUSE_20180112_072051_98000', 'MUSE_20180113_134615_31000', 'MUSE_20180114_133841_76000', 'MUSE_20180112_073009_26000', 'MUSE_20180118_130700_47000', 'MUSE_20180114_071835_71000', 'MUSE_20180118_131820_28000', 'MUSE_20180112_135509_14000', 'MUSE_20180120_120854_82000', 'MUSE_20180118_181848_83000', 'MUSE_20180112_135637_56000', 'MUSE_20180115_115652_49000', 'MUSE_20180113_180107_05000', 'MUSE_20180120_121406_10000', 'MUSE_20180116_122539_23000', 'MUSE_20180116_134134_78000', 'MUSE_20180115_125458_75000', 'MUSE_20180119_175023_81000', 'MUSE_20180116_124257_96000', 'MUSE_20180116_122605_42000', 'MUSE_20180120_120908_19000', 'MUSE_20180114_125107_24000', 'MUSE_20180116_180647_90000', 'MUSE_20180113_182054_43000', 'MUSE_20180115_132937_22000', 'MUSE_20180120_120628_41000', 'MUSE_20180112_123809_34000', 'MUSE_20180112_134238_14000', 'MUSE_20180114_121627_49000', 'MUSE_20180120_120620_00000', 'MUSE_20180114_074015_20000', 'MUSE_20180118_172418_35000', 'MUSE_20180120_120702_50000', 'MUSE_20180118_130839_88000', 'MUSE_20180113_115045_13000', 'MUSE_20180114_133009_61000', 'MUSE_20180113_115711_84000', 'MUSE_20180112_074144_23000', 'MUSE_20180113_125131_16000', 'MUSE_20180113_120220_00000', 'MUSE_20180114_114447_31000', 'MUSE_20180118_123440_93000', 'MUSE_20180112_125104_53000', 'MUSE_20180114_123500_72000', 'MUSE_20180119_180137_50000', 'MUSE_20180112_071457_71000', 'MUSE_20180118_172812_66000', 'MUSE_20180114_170929_31000', 'MUSE_20180116_130957_63000', 'MUSE_20180113_074910_13000', 'MUSE_20180116_125050_62000', 'MUSE_20180118_120819_09000', 'MUSE_20180113_175732_82000', 'MUSE_20180113_120827_43000', 'MUSE_20180118_173121_17000', 'MUSE_20180114_170521_97000', 'MUSE_20180112_122319_10000', 'MUSE_20180120_123011_51000', 'MUSE_20180118_170732_83000', 'MUSE_20180112_165018_93000', 'MUSE_20180118_181439_35000', 'MUSE_20180113_074723_27000', 'MUSE_20180112_133225_15000', 'MUSE_20180114_120932_42000', 'MUSE_20180113_184711_55000', 'MUSE_20180116_121911_50000', 'MUSE_20180113_073613_81000', 'MUSE_20180712_160300_19000', 'MUSE_20180114_171643_68000', 'MUSE_20180112_132526_23000', 'MUSE_20180116_124939_48000', 'MUSE_20180113_120349_03000', 'MUSE_20180112_132801_19000', 'MUSE_20180113_072238_27000', 'MUSE_20180112_072524_02000', 'MUSE_20180118_125856_77000', 'MUSE_20180116_172538_93000', 'MUSE_20180114_115751_66000', 'MUSE_20180118_135052_13000', 'MUSE_20180112_133120_88000', 'MUSE_20180114_075447_34000', 'MUSE_20180112_074421_76000', 'MUSE_20180118_125423_15000', 'MUSE_20180116_124501_84000', 'MUSE_20180112_121154_61000', 'MUSE_20180118_130819_00000', 'MUSE_20180111_170119_65000', 'MUSE_20180112_075125_97000', 'MUSE_20180113_183421_84000', 'MUSE_20180116_125847_39000', 'MUSE_20180113_124215_52000', 'MUSE_20180115_130223_43000', 'MUSE_20180712_161020_42000', 'MUSE_20180114_080305_04000', 'MUSE_20180115_132254_13000', 'MUSE_20180112_123116_39000', 'MUSE_20180116_131358_29000', 'MUSE_20180113_071708_31000', 'MUSE_20180112_073647_61000', 'MUSE_20180712_160929_72000', 'MUSE_20180116_124230_69000', 'MUSE_20180116_170744_66000', 'MUSE_20180113_121757_53000', 'MUSE_20180114_115316_06000', 'MUSE_20180118_130158_23000', 'MUSE_20180113_171756_23000', 'MUSE_20180120_122648_29000', 'MUSE_20180114_133958_79000', 'MUSE_20180118_131923_59000', 'MUSE_20180113_125857_93000', 'MUSE_20180113_072931_09000', 'MUSE_20180111_155907_78000', 'MUSE_20180113_181525_69000', 'MUSE_20180118_122757_70000', 'MUSE_20180114_170659_15000', 'MUSE_20180113_184545_31000', 'MUSE_20180113_134028_37000', 'MUSE_20180112_134327_88000', 'MUSE_20180115_134313_07000', 'MUSE_20180113_123645_36000', 'MUSE_20180119_173941_98000', 'MUSE_20180112_071246_01000', 'MUSE_20180113_124529_35000', 'MUSE_20180112_165534_99000', 'MUSE_20180118_120923_62000', 'MUSE_20180112_123902_03000', 'MUSE_20180115_123806_15000', 'MUSE_20180113_185643_21000', 'MUSE_20180112_073750_80000', 'MUSE_20180112_124548_19000', 'MUSE_20180116_132517_13000', 'MUSE_20180118_174605_35000', 'MUSE_20180113_180839_91000', 'MUSE_20180114_065239_59000', 'MUSE_20180114_133629_88000', 'MUSE_20180119_174514_93000', 'MUSE_20180112_165607_65000', 'MUSE_20180113_181803_72000', 'MUSE_20180118_173056_02000', 'MUSE_20180114_123341_02000', 'MUSE_20180119_174917_32000', 'MUSE_20180114_125635_87000', 'MUSE_20180113_130900_58000', 'MUSE_20180119_172838_65000', 'MUSE_20180113_074251_09000', 'MUSE_20180118_174443_09000', 'MUSE_20180116_174256_72000', 'MUSE_20180116_134300_86000', 'MUSE_20180116_124040_93000', 'MUSE_20180113_171324_14000', 'MUSE_20180113_171503_63000', 'MUSE_20180112_122522_06000', 'MUSE_20180112_123943_81000', 'MUSE_20180114_124908_68000', 'MUSE_20180116_131915_78000', 'MUSE_20180114_132523_09000', 'MUSE_20180118_173035_27000', 'MUSE_20180114_170354_50000', 'MUSE_20180116_130602_94000', 'MUSE_20180115_132852_48000', 'MUSE_20180114_120702_30000', 'MUSE_20180116_181104_02000', 'MUSE_20180115_134810_00000', 'MUSE_20180118_175555_42000', 'MUSE_20180112_124838_11000', 'MUSE_20180115_131209_79000', 'MUSE_20180115_120543_30000', 'MUSE_20180114_132454_99000', 'MUSE_20180114_172147_08000', 'MUSE_20180113_074540_20000', 'MUSE_20180112_170449_29000', 'MUSE_20180118_130334_23000', 'MUSE_20180118_135035_61000', 'MUSE_20180712_160114_86000', 'MUSE_20180118_172908_94000', 'MUSE_20180118_125721_45000', 'MUSE_20180116_124421_09000', 'MUSE_20180113_124839_49000', 'MUSE_20180112_120439_37000', 'MUSE_20180119_173110_69000', 'MUSE_20180115_125217_32000', 'MUSE_20180115_133409_97000', 'MUSE_20180119_174854_47000', 'MUSE_20180114_132421_92000', 'MUSE_20180114_080115_23000', 'MUSE_20180120_122943_12000', 'MUSE_20180116_131811_35000', 'MUSE_20180113_122710_41000', 'MUSE_20180114_123533_06000', 'MUSE_20180120_123813_67000', 'MUSE_20180113_072303_18000', 'MUSE_20180118_134427_98000', 'MUSE_20180114_075732_95000', 'MUSE_20180118_132719_84000', 'MUSE_20180118_125902_15000', 'MUSE_20180116_124337_38000', 'MUSE_20180112_073621_70000', 'MUSE_20180113_180653_22000', 'MUSE_20180116_130352_03000', 'MUSE_20180118_170607_78000', 'MUSE_20180115_133024_96000', 'MUSE_20180116_131004_96000', 'MUSE_20180113_132815_87000', 'MUSE_20180113_071504_73000', 'MUSE_20180114_114637_42000', 'MUSE_20180118_132610_12000', 'MUSE_20180120_121509_33000', 'MUSE_20180116_131228_64000', 'MUSE_20180114_130548_23000', 'MUSE_20180116_133941_01000', 'MUSE_20180118_133110_74000', 'MUSE_20180112_075243_41000', 'MUSE_20180114_080129_60000', 'MUSE_20180118_182157_22000', 'MUSE_20180115_123430_73000', 'MUSE_20180712_161225_64000', 'MUSE_20180116_133230_01000', 'MUSE_20180114_075642_73000', 'MUSE_20180118_130859_59000', 'MUSE_20180114_131145_44000', 'MUSE_20180116_131054_15000', 'MUSE_20180113_173023_29000', 'MUSE_20180115_123358_85000', 'MUSE_20180118_121652_33000', 'MUSE_20180113_080800_57000', 'MUSE_20180118_125425_25000', 'MUSE_20180112_134048_72000', 'MUSE_20180114_124111_74000', 'MUSE_20180112_134008_99000', 'MUSE_20180116_180637_71000', 'MUSE_20180114_072749_49000', 'MUSE_20180113_121713_19000', 'MUSE_20180118_174224_58000', 'MUSE_20180116_171620_71000', 'MUSE_20180113_183344_93000', 'MUSE_20180119_175957_53000', 'MUSE_20180116_132129_83000', 'MUSE_20180114_135125_24000', 'MUSE_20180114_171146_79000', 'MUSE_20180116_130521_46000', 'MUSE_20180116_174831_17000', 'MUSE_20180113_175411_05000', 'MUSE_20180113_173458_19000', 'MUSE_20180113_124013_28000', 'MUSE_20180114_122546_55000', 'MUSE_20180120_122320_62000', 'MUSE_20180111_155203_15000', 'MUSE_20180115_125620_75000', 'MUSE_20180114_172051_25000', 'MUSE_20180113_132317_80000', 'MUSE_20180113_075036_66000', 'MUSE_20180116_132614_05000', 'MUSE_20180118_131125_88000', 'MUSE_20180115_134456_00000', 'MUSE_20180111_163127_22000', 'MUSE_20180113_134426_94000', 'MUSE_20180112_073559_95000', 'MUSE_20180114_075939_48000', 'MUSE_20180115_131417_12000', 'MUSE_20180113_182658_19000', 'MUSE_20180114_121605_82000', 'MUSE_20180118_180410_89000', 'MUSE_20180113_130528_78000', 'MUSE_20180113_123926_39000', 'MUSE_20180119_175823_72000', 'MUSE_20180113_184943_71000', 'MUSE_20180113_124624_14000', 'MUSE_20180111_160053_89000', 'MUSE_20180113_122506_62000', 'MUSE_20180113_175727_50000', 'MUSE_20180120_122404_39000', 'MUSE_20180114_171308_54000', 'MUSE_20180118_180733_21000', 'MUSE_20180116_180323_87000', 'MUSE_20180118_175512_92000', 'MUSE_20180116_174012_89000', 'MUSE_20180114_121745_49000', 'MUSE_20180114_074231_13000', 'MUSE_20180113_124802_65000', 'MUSE_20180118_130143_83000', 'MUSE_20180115_132423_32000', 'MUSE_20180118_173257_69000', 'MUSE_20180120_122528_62000', 'MUSE_20180113_171507_89000', 'MUSE_20180112_122557_83000', 'MUSE_20180112_122111_34000', 'MUSE_20180113_074953_00000', 'MUSE_20180116_121119_46000', 'MUSE_20180120_122732_00000', 'MUSE_20180114_115315_01000', 'MUSE_20180116_124414_75000', 'MUSE_20180118_130311_38000', 'MUSE_20180114_065639_33000', 'MUSE_20180115_125754_16000', 'MUSE_20180114_072711_21000', 'MUSE_20180115_124009_14000', 'MUSE_20180118_172851_32000', 'MUSE_20180116_123946_15000', 'MUSE_20180114_130519_03000', 'MUSE_20180114_131519_23000', 'MUSE_20180113_072322_96000', 'MUSE_20180114_080023_07000', 'MUSE_20180114_130415_72000', 'MUSE_20180118_132721_96000', 'MUSE_20180113_173315_67000', 'MUSE_20180112_073438_10000', 'MUSE_20180112_140621_47000', 'MUSE_20180116_125257_23000', 'MUSE_20180118_131230_30000', 'MUSE_20180118_180010_24000', 'MUSE_20180112_120059_09000', 'MUSE_20180113_074252_17000', 'MUSE_20180118_133417_31000', 'MUSE_20180116_121717_55000', 'MUSE_20180113_072121_61000', 'MUSE_20180116_174538_17000', 'MUSE_20180118_175823_91000', 'MUSE_20180113_182908_66000', 'MUSE_20180712_160402_92000', 'MUSE_20180712_161347_92000', 'MUSE_20180114_122218_75000', 'MUSE_20180113_121504_38000', 'MUSE_20180112_074808_00000', 'MUSE_20180114_133605_68000', 'MUSE_20180115_131725_30000', 'MUSE_20180114_121853_36000', 'MUSE_20180114_131752_40000', 'MUSE_20180114_121144_68000', 'MUSE_20180118_134436_03000', 'MUSE_20180113_075135_97000', 'MUSE_20180118_174258_76000', 'MUSE_20180118_121625_92000', 'MUSE_20180111_155859_36000', 'MUSE_20180116_121819_85000', 'MUSE_20180114_133658_32000', 'MUSE_20180111_160720_58000', 'MUSE_20180118_175649_21000', 'MUSE_20180115_132306_43000', 'MUSE_20180113_185040_23000', 'MUSE_20180118_124944_51000', 'MUSE_20180114_170601_29000', 'MUSE_20180119_171954_93000', 'MUSE_20180116_172059_63000', 'MUSE_20180112_073254_25000', 'MUSE_20180114_122016_42000', 'MUSE_20180119_174512_81000', 'MUSE_20180113_183530_81000', 'MUSE_20180113_135726_86000', 'MUSE_20180111_165642_89000', 'MUSE_20180118_120325_48000', 'MUSE_20180112_133119_84000', 'MUSE_20180112_133842_04000', 'MUSE_20180112_072504_27000', 'MUSE_20180113_120117_57000', 'MUSE_20180112_133208_68000', 'MUSE_20180113_175908_06000', 'MUSE_20180114_125450_72000', 'MUSE_20180118_173014_46000', 'MUSE_20180118_134229_54000', 'MUSE_20180118_123220_26000', 'MUSE_20180118_135407_13000', 'MUSE_20180113_124114_43000', 'MUSE_20180112_071558_08000', 'MUSE_20180112_132717_29000', 'MUSE_20180115_122106_68000', 'MUSE_20180113_135804_79000', 'MUSE_20180113_073835_70000', 'MUSE_20180114_131812_48000', 'MUSE_20180116_170909_79000', 'MUSE_20180116_173654_22000', 'MUSE_20180114_122707_85000', 'MUSE_20180114_123202_91000', 'MUSE_20180113_073601_56000', 'MUSE_20180118_175137_75000', 'MUSE_20180114_134026_59000', 'MUSE_20180113_072114_14000', 'MUSE_20180115_123105_33000', 'MUSE_20180115_132315_91000', 'MUSE_20180712_161053_30000', 'MUSE_20180114_130942_03000', 'MUSE_20180114_073908_70000', 'MUSE_20180112_120222_87000', 'MUSE_20180114_135516_61000', 'MUSE_20180113_184536_20000', 'MUSE_20180112_073249_01000', 'MUSE_20180118_134544_06000', 'MUSE_20180116_124720_61000', 'MUSE_20180112_165959_17000', 'MUSE_20180120_123733_83000', 'MUSE_20180114_122433_27000', 'MUSE_20180112_072828_69000', 'MUSE_20180113_125026_81000', 'MUSE_20180118_120815_94000', 'MUSE_20180114_130334_68000', 'MUSE_20180113_172903_51000', 'MUSE_20180114_130744_23000', 'MUSE_20180114_125014_10000', 'MUSE_20180113_130424_27000', 'MUSE_20180112_134047_66000', 'MUSE_20180114_074410_70000', 'MUSE_20180115_122523_14000', 'MUSE_20180116_124925_07000', 'MUSE_20180114_075455_39000', 'MUSE_20180118_175159_70000', 'MUSE_20180118_121710_94000', 'MUSE_20180112_124106_04000', 'MUSE_20180114_120930_31000', 'MUSE_20180112_132714_09000', 'MUSE_20180118_125505_78000', 'MUSE_20180119_170455_15000', 'MUSE_20180114_074408_60000', 'MUSE_20180119_173653_27000', 'MUSE_20180116_132229_94000', 'MUSE_20180113_134334_10000', 'MUSE_20180114_122543_36000', 'MUSE_20180113_180427_93000', 'MUSE_20180120_123749_41000', 'MUSE_20180114_125659_72000', 'MUSE_20180112_075011_18000', 'MUSE_20180114_123552_75000', 'MUSE_20180118_123008_47000', 'MUSE_20180118_182031_80000', 'MUSE_20180116_134255_52000', 'MUSE_20180114_065245_97000', 'MUSE_20180116_131235_03000', 'MUSE_20180119_175709_74000', 'MUSE_20180113_181828_00000', 'MUSE_20180119_170451_95000', 'MUSE_20180113_134703_17000', 'MUSE_20180112_132011_70000', 'MUSE_20180113_122151_58000', 'MUSE_20180113_115652_23000', 'MUSE_20180118_171450_83000', 'MUSE_20180113_075257_70000', 'MUSE_20180116_124231_73000', 'MUSE_20180113_172819_39000', 'MUSE_20180115_130319_67000', 'MUSE_20180118_174541_37000', 'MUSE_20180115_131412_89000', 'MUSE_20180116_122213_56000', 'MUSE_20180113_073126_22000', 'MUSE_20180113_182033_51000', 'MUSE_20180116_120849_98000', 'MUSE_20180113_133103_27000', 'MUSE_20180114_124216_01000', 'MUSE_20180116_134337_27000', 'MUSE_20180112_125938_69000', 'MUSE_20180118_130826_55000', 'MUSE_20180116_134315_48000', 'MUSE_20180115_131223_22000', 'MUSE_20180113_123013_40000', 'MUSE_20180115_120029_03000', 'MUSE_20180112_121854_31000', 'MUSE_20180116_121956_37000', 'MUSE_20180116_182035_11000', 'MUSE_20180114_123325_59000', 'MUSE_20180118_130533_40000', 'MUSE_20180116_173540_34000', 'MUSE_20180116_121427_55000', 'MUSE_20180119_180226_47000', 'MUSE_20180114_065209_50000', 'MUSE_20180116_181042_26000', 'MUSE_20180116_133041_23000', 'MUSE_20180116_121254_05000', 'MUSE_20180114_131736_74000', 'MUSE_20180113_115404_74000', 'MUSE_20180116_121958_48000', 'MUSE_20180116_122515_24000', 'MUSE_20180118_131147_72000', 'MUSE_20180115_131439_97000', 'MUSE_20180118_121030_02000', 'MUSE_20180114_133406_09000', 'MUSE_20180115_123003_08000', 'MUSE_20180113_124534_64000', 'MUSE_20180116_125921_43000', 'MUSE_20180116_131900_24000', 'MUSE_20180118_175611_91000', 'MUSE_20180113_130224_43000', 'MUSE_20180118_172642_02000', 'MUSE_20180113_175927_77000', 'MUSE_20180114_132000_63000', 'MUSE_20180712_160930_81000', 'MUSE_20180712_161248_75000', 'MUSE_20180118_133145_40000', 'MUSE_20180114_121638_72000', 'MUSE_20180118_122028_72000', 'MUSE_20180116_134221_14000', 'MUSE_20180115_132411_71000', 'MUSE_20180120_123117_45000', 'MUSE_20180113_132834_50000', 'MUSE_20180113_184924_57000', 'MUSE_20180114_134708_64000', 'MUSE_20180116_133304_10000', 'MUSE_20180712_161451_72000', 'MUSE_20180113_135217_51000', 'MUSE_20180113_174034_49000', 'MUSE_20180111_165840_65000', 'MUSE_20180114_075729_80000', 'MUSE_20180114_132400_05000', 'MUSE_20180114_073952_38000', 'MUSE_20180112_165651_66000', 'MUSE_20180116_120515_19000', 'MUSE_20180116_173648_95000', 'MUSE_20180116_171159_46000', 'MUSE_20180114_071506_87000', 'MUSE_20180114_133133_95000', 'MUSE_20180111_160502_52000', 'MUSE_20180115_131711_99000', 'MUSE_20180118_134420_63000', 'MUSE_20180114_075425_61000', 'MUSE_20180116_170459_02000', 'MUSE_20180114_122632_49000', 'MUSE_20180116_133717_64000', 'MUSE_20180113_173847_43000', 'MUSE_20180114_120741_61000', 'MUSE_20180113_072926_88000', 'MUSE_20180113_134705_30000', 'MUSE_20180113_115416_77000', 'MUSE_20180119_170618_30000', 'MUSE_20180119_175303_96000', 'MUSE_20180114_170503_39000', 'MUSE_20180113_135249_45000', 'MUSE_20180112_073120_07000', 'MUSE_20180116_132539_93000', 'MUSE_20180113_184714_70000', 'MUSE_20180118_125428_42000', 'MUSE_20180119_175633_55000', 'MUSE_20180112_165532_88000', 'MUSE_20180116_120333_66000', 'MUSE_20180113_182728_54000', 'MUSE_20180116_170540_50000', 'MUSE_20180118_182158_26000', 'MUSE_20180113_173603_43000', 'MUSE_20180114_132925_01000', 'MUSE_20180114_133543_48000', 'MUSE_20180114_070020_38000', 'MUSE_20180113_185459_07000', 'MUSE_20180114_080253_37000', 'MUSE_20180112_070941_32000', 'MUSE_20180111_160715_34000', 'MUSE_20180118_174923_05000', 'MUSE_20180115_120822_87000', 'MUSE_20180113_074638_65000', 'MUSE_20180115_134907_07000', 'MUSE_20180114_073825_80000', 'MUSE_20180112_125029_35000', 'MUSE_20180115_115737_00000', 'MUSE_20180119_175552_91000', 'MUSE_20180113_073153_60000', 'MUSE_20180116_174535_00000', 'MUSE_20180118_133434_89000', 'MUSE_20180116_173620_17000', 'MUSE_20180118_120824_37000', 'MUSE_20180113_131006_61000', 'MUSE_20180113_123147_53000', 'MUSE_20180112_073638_16000', 'MUSE_20180118_121712_00000', 'MUSE_20180111_160714_31000', 'MUSE_20180112_123422_76000', 'MUSE_20180119_174422_84000', 'MUSE_20180112_122136_41000', 'MUSE_20180112_133022_96000', 'MUSE_20180115_124520_66000', 'MUSE_20180116_175313_30000', 'MUSE_20180115_121143_02000', 'MUSE_20180113_135955_11000', 'MUSE_20180113_132220_77000', 'MUSE_20180112_132004_33000', 'MUSE_20180118_124902_78000', 'MUSE_20180113_123541_04000', 'MUSE_20180113_075402_38000', 'MUSE_20180113_123445_32000', 'MUSE_20180115_121346_63000', 'MUSE_20180113_075336_04000', 'MUSE_20180116_180320_73000', 'MUSE_20180118_121052_98000', 'MUSE_20180113_185224_92000', 'MUSE_20180113_075837_61000', 'MUSE_20180116_124319_83000', 'MUSE_20180120_122440_80000', 'MUSE_20180113_074520_38000', 'MUSE_20180114_073806_97000', 'MUSE_20180115_122524_20000', 'MUSE_20180114_115049_84000', 'MUSE_20180115_130007_10000', 'MUSE_20180112_130746_30000', 'MUSE_20180116_122641_69000', 'MUSE_20180115_134103_97000', 'MUSE_20180112_165319_94000', 'MUSE_20180112_124625_42000', 'MUSE_20180113_133926_02000', 'MUSE_20180114_073407_73000', 'MUSE_20180113_080027_71000', 'MUSE_20180118_125427_37000', 'MUSE_20180118_175625_26000', 'MUSE_20180115_134109_24000', 'MUSE_20180113_180959_70000', 'MUSE_20180113_123037_14000', 'MUSE_20180114_120739_47000', 'MUSE_20180113_074103_83000', 'MUSE_20180114_122442_74000', 'MUSE_20180114_123811_62000', 'MUSE_20180112_080045_09000', 'MUSE_20180113_175903_81000', 'MUSE_20180112_072950_67000', 'MUSE_20180113_122308_87000', 'MUSE_20180116_180106_74000', 'MUSE_20180116_120641_42000', 'MUSE_20180112_133001_18000', 'MUSE_20180118_122029_78000', 'MUSE_20180111_160410_42000', 'MUSE_20180114_075239_67000', 'MUSE_20180115_131101_98000', 'MUSE_20180115_131305_12000', 'MUSE_20180116_121258_24000', 'MUSE_20180113_075613_07000', 'MUSE_20180120_122507_84000', 'MUSE_20180115_120331_73000', 'MUSE_20180116_170425_33000', 'MUSE_20180114_075300_40000', 'MUSE_20180116_174121_59000', 'MUSE_20180114_071942_38000', 'MUSE_20180116_125751_92000', 'MUSE_20180115_120038_21000', 'MUSE_20180712_160857_53000', 'MUSE_20180114_123654_90000', 'MUSE_20180118_172740_35000', 'MUSE_20180116_124338_45000', 'MUSE_20180113_180641_97000', 'MUSE_20180113_183540_30000', 'MUSE_20180113_075106_16000', 'MUSE_20180112_075005_86000', 'MUSE_20180111_155758_17000', 'MUSE_20180118_133142_20000', 'MUSE_20180113_184149_19000', 'MUSE_20180115_134536_37000', 'MUSE_20180116_180451_23000', 'MUSE_20180116_134032_02000', 'MUSE_20180112_165703_94000', 'MUSE_20180115_130800_64000', 'MUSE_20180114_080301_86000', 'MUSE_20180114_114703_39000', 'MUSE_20180120_123636_14000', 'MUSE_20180113_181607_36000', 'MUSE_20180112_132255_16000', 'MUSE_20180118_181825_96000', 'MUSE_20180118_133036_62000', 'MUSE_20180112_140626_75000', 'MUSE_20180114_131814_65000', 'MUSE_20180115_133919_40000', 'MUSE_20180118_170633_88000', 'MUSE_20180118_170710_02000', 'MUSE_20180118_122133_07000', 'MUSE_20180114_131605_85000', 'MUSE_20180118_170942_79000', 'MUSE_20180113_115106_92000', 'MUSE_20180113_121709_00000', 'MUSE_20180119_175336_50000', 'MUSE_20180118_123215_99000', 'MUSE_20180116_174436_02000', 'MUSE_20180112_123703_14000', 'MUSE_20180112_130438_82000', 'MUSE_20180116_173543_70000', 'MUSE_20180112_131649_76000', 'MUSE_20180116_181021_48000', 'MUSE_20180115_121245_81000', 'MUSE_20180112_135913_49000', 'MUSE_20180114_070634_63000', 'MUSE_20180118_131848_38000', 'MUSE_20180111_170243_72000', 'MUSE_20180118_130307_17000', 'MUSE_20180114_134315_35000', 'MUSE_20180115_133353_48000', 'MUSE_20180116_124617_45000', 'MUSE_20180116_130626_78000', 'MUSE_20180120_120829_81000', 'MUSE_20180114_073613_42000', 'MUSE_20180114_125431_07000', 'MUSE_20180116_121429_66000', 'MUSE_20180119_175555_00000', 'MUSE_20180113_133022_78000', 'MUSE_20180113_183657_36000', 'MUSE_20180114_114525_05000', 'MUSE_20180113_130407_69000', 'MUSE_20180112_073308_66000', 'MUSE_20180114_121206_37000', 'MUSE_20180113_183432_62000', 'MUSE_20180114_124213_89000', 'MUSE_20180712_160202_19000', 'MUSE_20180114_070553_05000', 'MUSE_20180119_173107_52000', 'MUSE_20180116_120706_23000', 'MUSE_20180113_080353_52000', 'MUSE_20180116_170927_38000', 'MUSE_20180113_185250_90000', 'MUSE_20180119_173419_03000', 'MUSE_20180115_133326_40000', 'MUSE_20180111_165851_92000', 'MUSE_20180113_131134_68000', 'MUSE_20180113_175747_20000', 'MUSE_20180114_070850_50000', 'MUSE_20180111_160656_72000', 'MUSE_20180118_130535_49000', 'MUSE_20180114_171836_26000', 'MUSE_20180120_122252_24000', 'MUSE_20180118_173020_83000', 'MUSE_20180113_180015_03000', 'MUSE_20180712_155951_75000', 'MUSE_20180114_135136_44000', 'MUSE_20180114_115858_01000', 'MUSE_20180114_065641_45000', 'MUSE_20180111_160159_36000', 'MUSE_20180114_170917_66000', 'MUSE_20180118_171102_67000', 'MUSE_20180112_071517_44000', 'MUSE_20180113_135557_74000', 'MUSE_20180113_072735_54000', 'MUSE_20180112_134633_77000', 'MUSE_20180116_170154_38000', 'MUSE_20180120_123218_66000', 'MUSE_20180113_124053_72000', 'MUSE_20180118_170623_30000', 'MUSE_20180114_134404_90000', 'MUSE_20180114_131122_64000', 'MUSE_20180112_140029_69000', 'MUSE_20180114_071234_25000', 'MUSE_20180114_121257_95000', 'MUSE_20180116_124038_80000', 'MUSE_20180114_120617_71000', 'MUSE_20180112_073038_47000', 'MUSE_20180118_172809_49000', 'MUSE_20180113_120838_72000', 'MUSE_20180120_123728_54000', 'MUSE_20180113_134800_11000', 'MUSE_20180116_122447_89000', 'MUSE_20180118_175615_07000', 'MUSE_20180112_075107_20000', 'MUSE_20180114_124419_26000', 'MUSE_20180115_124802_51000', 'MUSE_20180112_132512_91000', 'MUSE_20180120_123705_50000', 'MUSE_20180112_134524_36000', 'MUSE_20180112_120408_51000', 'MUSE_20180116_171344_17000', 'MUSE_20180113_130103_67000', 'MUSE_20180112_132335_78000', 'MUSE_20180116_132017_14000', 'MUSE_20180116_175255_75000', 'MUSE_20180118_125449_24000', 'MUSE_20180118_180035_36000', 'MUSE_20180113_073756_28000', 'MUSE_20180113_080627_14000', 'MUSE_20180113_130702_03000', 'MUSE_20180119_175202_51000', 'MUSE_20180112_073710_37000', 'MUSE_20180114_115407_34000', 'MUSE_20180113_124834_18000', 'MUSE_20180113_130329_33000', 'MUSE_20180113_123532_65000', 'MUSE_20180112_073108_36000', 'MUSE_20180115_131005_11000', 'MUSE_20180112_073445_60000', 'MUSE_20180114_122832_02000', 'MUSE_20180112_122743_43000', 'MUSE_20180112_073845_72000', 'MUSE_20180113_171859_44000', 'MUSE_20180111_170200_21000', 'MUSE_20180114_073454_67000', 'MUSE_20180114_075932_06000', 'MUSE_20180116_131239_26000', 'MUSE_20180116_173838_90000', 'MUSE_20180118_172704_16000', 'MUSE_20180112_140116_34000', 'MUSE_20180118_132452_25000', 'MUSE_20180112_073852_07000', 'MUSE_20180114_171508_02000', 'MUSE_20180118_171004_65000', 'MUSE_20180113_173014_16000', 'MUSE_20180114_132443_76000', 'MUSE_20180114_072413_29000', 'MUSE_20180118_133518_57000', 'MUSE_20180112_074609_02000', 'MUSE_20180113_135228_72000', 'MUSE_20180113_175745_08000', 'MUSE_20180114_131105_09000', 'MUSE_20180115_122500_24000', 'MUSE_20180113_115308_91000', 'MUSE_20180113_080336_86000', 'MUSE_20180119_175751_24000', 'MUSE_20180114_131758_94000', 'MUSE_20180113_125842_49000', 'MUSE_20180118_170749_35000', 'MUSE_20180112_071147_81000', 'MUSE_20180115_131612_92000', 'MUSE_20180116_170850_17000', 'MUSE_20180116_132456_44000', 'MUSE_20180113_133558_72000', 'MUSE_20180118_124358_21000', 'MUSE_20180112_165100_47000', 'MUSE_20180113_131021_12000', 'MUSE_20180115_120319_43000', 'MUSE_20180119_170533_59000', 'MUSE_20180116_124649_73000', 'MUSE_20180112_073252_14000', 'MUSE_20180114_120619_85000', 'MUSE_20180118_123500_62000', 'MUSE_20180116_123040_26000', 'MUSE_20180118_133119_22000', 'MUSE_20180116_170703_03000', 'MUSE_20180118_132726_27000', 'MUSE_20180111_155154_74000', 'MUSE_20180113_180717_10000', 'MUSE_20180712_161503_00000', 'MUSE_20180113_134112_95000', 'MUSE_20180113_131423_56000', 'MUSE_20180114_070350_28000', 'MUSE_20180114_133437_40000', 'MUSE_20180115_125207_76000', 'MUSE_20180114_130455_16000', 'MUSE_20180116_181402_19000', 'MUSE_20180116_120259_44000', 'MUSE_20180116_170103_00000', 'MUSE_20180114_132811_71000', 'MUSE_20180120_121407_16000', 'MUSE_20180116_170510_27000', 'MUSE_20180112_133050_03000', 'MUSE_20180712_160446_28000', 'MUSE_20180113_071857_39000', 'MUSE_20180114_074804_47000', 'MUSE_20180112_131656_19000', 'MUSE_20180115_134928_89000', 'MUSE_20180112_165702_89000', 'MUSE_20180115_130651_27000', 'MUSE_20180115_123107_45000', 'MUSE_20180113_074459_59000', 'MUSE_20180116_132044_22000', 'MUSE_20180113_185438_35000', 'MUSE_20180112_071433_87000', 'MUSE_20180115_124205_51000', 'MUSE_20180112_171154_21000', 'MUSE_20180111_160140_78000', 'MUSE_20180115_123044_63000', 'MUSE_20180113_130203_75000', 'MUSE_20180118_123601_47000', 'MUSE_20180116_130334_45000', 'MUSE_20180114_124524_68000', 'MUSE_20180116_122827_43000', 'MUSE_20180118_133333_66000', 'MUSE_20180118_134334_91000', 'MUSE_20180118_175119_08000', 'MUSE_20180113_181143_77000', 'MUSE_20180112_131758_31000', 'MUSE_20180114_071109_97000', 'MUSE_20180114_075919_81000', 'MUSE_20180116_170736_16000', 'MUSE_20180111_170101_04000', 'MUSE_20180118_181802_04000', 'MUSE_20180113_130009_94000', 'MUSE_20180118_134502_34000', 'MUSE_20180118_133159_85000', 'MUSE_20180116_171345_23000', 'MUSE_20180712_161003_75000', 'MUSE_20180114_124423_49000', 'MUSE_20180116_131313_50000', 'MUSE_20180119_172007_64000', 'MUSE_20180119_173214_15000', 'MUSE_20180116_181423_95000', 'MUSE_20180113_131400_61000', 'MUSE_20180114_120421_28000', 'MUSE_20180112_130542_19000', 'MUSE_20180115_134039_05000', 'MUSE_20180116_181425_00000', 'MUSE_20180112_135608_78000', 'MUSE_20180118_180227_10000', 'MUSE_20180118_124126_45000', 'MUSE_20180118_171911_73000', 'MUSE_20180112_075225_59000', 'MUSE_20180119_171353_86000', 'MUSE_20180118_175822_85000', 'MUSE_20180112_120724_15000', 'MUSE_20180112_130619_55000', 'MUSE_20180118_121104_29000', 'MUSE_20180112_123440_39000', 'MUSE_20180118_125609_83000', 'MUSE_20180114_071332_30000', 'MUSE_20180114_074053_55000', 'MUSE_20180114_070145_54000', 'MUSE_20180118_131119_55000', 'MUSE_20180113_181528_88000', 'MUSE_20180118_124235_14000', 'MUSE_20180120_121854_67000', 'MUSE_20180116_181904_98000', 'MUSE_20180113_115551_15000', 'MUSE_20180114_120535_31000', 'MUSE_20180112_075214_81000', 'MUSE_20180112_124143_21000', 'MUSE_20180115_124206_57000', 'MUSE_20180114_123628_89000', 'MUSE_20180113_075954_42000', 'MUSE_20180114_071703_90000', 'MUSE_20180712_160325_75000', 'MUSE_20180112_134317_05000', 'MUSE_20180116_133024_59000', 'MUSE_20180116_180755_03000', 'MUSE_20180113_131046_36000', 'MUSE_20180116_122027_76000', 'MUSE_20180116_121401_41000', 'MUSE_20180115_121233_33000', 'MUSE_20180113_132001_99000', 'MUSE_20180113_125124_82000', 'MUSE_20180118_131538_09000', 'MUSE_20180118_125407_61000', 'MUSE_20180115_115937_15000', 'MUSE_20180119_171750_22000', 'MUSE_20180113_115557_45000', 'MUSE_20180112_122441_75000', 'MUSE_20180119_175008_35000', 'MUSE_20180113_131044_22000', 'MUSE_20180113_075408_71000', 'MUSE_20180116_125017_92000', 'MUSE_20180114_070125_87000', 'MUSE_20180112_073423_68000', 'MUSE_20180114_070016_19000', 'MUSE_20180112_165358_90000', 'MUSE_20180115_122602_41000', 'MUSE_20180114_130503_62000', 'MUSE_20180118_171629_30000', 'MUSE_20180114_065204_05000', 'MUSE_20180114_065410_19000', 'MUSE_20180116_125104_99000', 'MUSE_20180115_124624_14000', 'MUSE_20180116_121932_30000', 'MUSE_20180712_160431_56000', 'MUSE_20180118_130820_07000', 'MUSE_20180120_121731_93000', 'MUSE_20180115_120824_99000', 'MUSE_20180115_115729_63000', 'MUSE_20180111_160647_22000', 'MUSE_20180113_123554_43000', 'MUSE_20180116_171405_98000', 'MUSE_20180114_075600_99000', 'MUSE_20180113_134942_37000', 'MUSE_20180114_065652_70000', 'MUSE_20180118_174946_98000', 'MUSE_20180114_115823_24000', 'MUSE_20180116_174912_90000', 'MUSE_20180113_130153_59000', 'MUSE_20180113_074019_01000', 'MUSE_20180114_120633_14000', 'MUSE_20180112_120203_23000', 'MUSE_20180113_130618_07000', 'MUSE_20180113_125210_73000', 'MUSE_20180116_125414_00000', 'MUSE_20180114_131315_66000', 'MUSE_20180112_123348_05000', 'MUSE_20180116_120119_05000', 'MUSE_20180116_182039_35000', 'MUSE_20180118_172557_58000', 'MUSE_20180118_120818_04000', 'MUSE_20180113_080533_32000', 'MUSE_20180113_115135_11000', 'MUSE_20180119_180011_99000', 'MUSE_20180112_125038_50000', 'MUSE_20180114_080134_86000', 'MUSE_20180116_174405_78000', 'MUSE_20180112_141055_38000', 'MUSE_20180119_175740_02000', 'MUSE_20180118_172930_69000', 'MUSE_20180115_123721_09000', 'MUSE_20180114_074708_56000', 'MUSE_20180116_122152_89000', 'MUSE_20180712_155925_33000', 'MUSE_20180113_075015_91000', 'MUSE_20180111_160742_39000', 'MUSE_20180111_163328_96000', 'MUSE_20180112_073821_77000', 'MUSE_20180712_161442_97000', 'MUSE_20180113_122409_54000', 'MUSE_20180119_171208_06000', 'MUSE_20180114_132619_87000', 'MUSE_20180113_073156_77000', 'MUSE_20180115_122528_41000', 'MUSE_20180112_165432_93000', 'MUSE_20180712_160203_34000', 'MUSE_20180112_122733_81000', 'MUSE_20180118_130144_88000', 'MUSE_20180113_130446_09000', 'MUSE_20180113_134041_69000', 'MUSE_20180111_170410_63000', 'MUSE_20180118_134616_72000', 'MUSE_20180113_132107_62000', 'MUSE_20180115_130949_69000', 'MUSE_20180114_072811_39000', 'MUSE_20180118_181501_19000', 'MUSE_20180112_170823_05000', 'MUSE_20180114_123851_12000', 'MUSE_20180116_132338_85000', 'MUSE_20180115_133146_76000', 'MUSE_20180113_080206_88000', 'MUSE_20180115_131540_44000', 'MUSE_20180116_182155_93000', 'MUSE_20180116_124150_10000', 'MUSE_20180118_125250_00000', 'MUSE_20180116_132207_10000', 'MUSE_20180115_134640_74000', 'MUSE_20180118_132456_51000', 'MUSE_20180113_125618_70000', 'MUSE_20180116_133655_84000', 'MUSE_20180113_115150_54000', 'MUSE_20180114_134307_27000', 'MUSE_20180113_135132_77000', 'MUSE_20180112_071018_79000', 'MUSE_20180119_172414_29000', 'MUSE_20180118_133325_23000', 'MUSE_20180114_123730_01000', 'MUSE_20180116_132059_65000', 'MUSE_20180114_133901_67000', 'MUSE_20180118_122341_67000', 'MUSE_20180112_120450_72000', 'MUSE_20180116_170745_73000', 'MUSE_20180113_132335_29000', 'MUSE_20180113_121903_24000', 'MUSE_20180116_130000_80000', 'MUSE_20180113_131217_62000', 'MUSE_20180112_120708_53000', 'MUSE_20180116_133050_70000', 'MUSE_20180113_074742_97000', 'MUSE_20180112_074823_64000', 'MUSE_20180118_132705_49000', 'MUSE_20180112_073748_70000', 'MUSE_20180115_130129_14000', 'MUSE_20180118_170507_69000', 'MUSE_20180118_170504_51000', 'MUSE_20180116_170039_80000', 'MUSE_20180116_123710_23000', 'MUSE_20180112_135526_83000', 'MUSE_20180116_120153_15000', 'MUSE_20180113_073817_06000', 'MUSE_20180114_132808_54000', 'MUSE_20180114_131252_83000', 'MUSE_20180115_121710_16000', 'MUSE_20180120_123353_29000', 'MUSE_20180113_171823_25000', 'MUSE_20180114_131753_49000', 'MUSE_20180116_132747_68000', 'MUSE_20180118_130308_21000', 'MUSE_20180113_075403_45000', 'MUSE_20180115_131707_66000', 'MUSE_20180113_181124_08000', 'MUSE_20180113_115540_98000', 'MUSE_20180118_123746_35000', 'MUSE_20180712_160403_98000', 'MUSE_20180119_171415_61000', 'MUSE_20180118_175840_44000', 'MUSE_20180116_120254_18000', 'MUSE_20180114_121606_88000', 'MUSE_20180114_075621_86000', 'MUSE_20180118_175925_38000', 'MUSE_20180712_160039_95000', 'MUSE_20180114_070149_77000', 'MUSE_20180113_133943_69000', 'MUSE_20180116_132209_19000', 'MUSE_20180112_135452_58000', 'MUSE_20180114_071811_62000', 'MUSE_20180119_172026_27000', 'MUSE_20180114_073907_64000', 'MUSE_20180113_184918_16000', 'MUSE_20180114_133711_83000', 'MUSE_20180119_172510_31000', 'MUSE_20180114_123143_16000', 'MUSE_20180118_180637_13000', 'MUSE_20180113_131123_93000', 'MUSE_20180114_120209_91000', 'MUSE_20180114_071026_40000', 'MUSE_20180113_080143_65000', 'MUSE_20180114_130709_01000', 'MUSE_20180115_125041_93000', 'MUSE_20180112_071933_28000', 'MUSE_20180118_134709_86000', 'MUSE_20180115_131335_42000', 'MUSE_20180116_120436_89000', 'MUSE_20180113_074352_56000', 'MUSE_20180119_170911_68000', 'MUSE_20180119_171345_39000', 'MUSE_20180113_125830_82000', 'MUSE_20180114_074442_06000', 'MUSE_20180118_172448_49000', 'MUSE_20180113_125438_54000', 'MUSE_20180114_075755_77000', 'MUSE_20180114_132435_27000', 'MUSE_20180114_135158_19000', 'MUSE_20180119_174456_29000', 'MUSE_20180112_074345_57000', 'MUSE_20180115_121405_40000', 'MUSE_20180113_133918_67000', 'MUSE_20180114_130416_82000', 'MUSE_20180111_165708_86000', 'MUSE_20180111_170536_32000', 'MUSE_20180113_134614_25000', 'MUSE_20180116_134008_99000', 'MUSE_20180116_120811_61000', 'MUSE_20180118_123232_60000', 'MUSE_20180712_160907_14000', 'MUSE_20180112_165653_78000', 'MUSE_20180112_074859_91000', 'MUSE_20180115_125421_48000', 'MUSE_20180112_134740_99000', 'MUSE_20180114_071048_14000', 'MUSE_20180118_132508_86000', 'MUSE_20180118_172301_91000', 'MUSE_20180118_132748_03000', 'MUSE_20180113_120502_41000', 'MUSE_20180112_121759_48000', 'MUSE_20180114_120418_09000', 'MUSE_20180119_174429_14000', 'MUSE_20180114_120938_74000', 'MUSE_20180118_124838_85000', 'MUSE_20180113_123149_62000', 'MUSE_20180114_131715_69000', 'MUSE_20180114_073052_20000', 'MUSE_20180113_180736_74000', 'MUSE_20180113_071757_28000', 'MUSE_20180114_075814_38000', 'MUSE_20180113_133858_01000', 'MUSE_20180118_124648_45000', 'MUSE_20180118_174540_29000', 'MUSE_20180114_071134_97000', 'MUSE_20180116_173629_29000', 'MUSE_20180118_122907_42000', 'MUSE_20180113_075501_13000', 'MUSE_20180114_122956_07000', 'MUSE_20180114_133804_82000', 'MUSE_20180116_174413_18000', 'MUSE_20180118_135214_20000', 'MUSE_20180115_133306_78000', 'MUSE_20180113_184119_75000', 'MUSE_20180116_180441_71000', 'MUSE_20180111_170148_98000', 'MUSE_20180118_132402_05000', 'MUSE_20180113_115513_95000', 'MUSE_20180112_072046_71000', 'MUSE_20180119_180014_13000', 'MUSE_20180113_115554_30000', 'MUSE_20180113_071920_26000', 'MUSE_20180116_175155_47000', 'MUSE_20180116_120647_70000', 'MUSE_20180113_132108_69000', 'MUSE_20180112_124111_26000', 'MUSE_20180115_132309_59000', 'MUSE_20180120_122353_77000', 'MUSE_20180114_125832_88000', 'MUSE_20180116_181933_42000', 'MUSE_20180114_065832_59000', 'MUSE_20180118_173052_84000', 'MUSE_20180114_074748_99000', 'MUSE_20180113_185129_01000', 'MUSE_20180118_174041_90000', 'MUSE_20180115_134530_02000', 'MUSE_20180119_173434_47000', 'MUSE_20180114_115742_55000', 'MUSE_20180118_180737_48000', 'MUSE_20180113_125430_10000', 'MUSE_20180114_114634_26000', 'MUSE_20180114_075341_01000', 'MUSE_20180113_130409_79000', 'MUSE_20180112_165513_25000', 'MUSE_20180112_133130_35000', 'MUSE_20180116_120107_41000', 'MUSE_20180113_080518_22000', 'MUSE_20180118_134304_06000', 'MUSE_20180118_170754_64000', 'MUSE_20180113_180438_11000', 'MUSE_20180112_140825_91000', 'MUSE_20180118_132735_36000', 'MUSE_20180113_175442_40000', 'MUSE_20180118_171103_74000', 'MUSE_20180114_121659_53000', 'MUSE_20180115_133556_54000', 'MUSE_20180118_175404_75000', 'MUSE_20180112_073419_46000', 'MUSE_20180118_125735_84000', 'MUSE_20180114_115908_18000', 'MUSE_20180114_130052_66000', 'MUSE_20180115_131757_47000', 'MUSE_20180112_075532_48000', 'MUSE_20180118_124759_35000', 'MUSE_20180118_135324_20000', 'MUSE_20180114_071238_48000', 'MUSE_20180113_080028_81000', 'MUSE_20180116_181615_23000', 'MUSE_20180114_122524_63000', 'MUSE_20180119_175313_52000', 'MUSE_20180118_132409_49000', 'MUSE_20180113_080802_77000', 'MUSE_20180118_121051_90000', 'MUSE_20180114_133647_62000', 'MUSE_20180114_073934_77000', 'MUSE_20180116_171350_49000', 'MUSE_20180118_130159_29000', 'MUSE_20180119_173729_71000', 'MUSE_20180118_173501_05000', 'MUSE_20180114_074920_66000', 'MUSE_20180118_174553_04000', 'MUSE_20180113_135528_52000', 'MUSE_20180112_071849_66000', 'MUSE_20180114_074726_12000', 'MUSE_20180712_160546_55000', 'MUSE_20180114_134838_85000', 'MUSE_20180114_074153_95000', 'MUSE_20180119_180101_21000', 'MUSE_20180114_125608_91000', 'MUSE_20180114_171008_92000', 'MUSE_20180114_132541_67000', 'MUSE_20180113_124527_25000', 'MUSE_20180120_121928_02000', 'MUSE_20180115_121138_82000', 'MUSE_20180114_121823_97000', 'MUSE_20180112_132242_92000', 'MUSE_20180120_120957_19000', 'MUSE_20180115_123729_62000', 'MUSE_20180119_170743_89000', 'MUSE_20180114_070221_86000', 'MUSE_20180112_073802_07000', 'MUSE_20180115_134725_43000', 'MUSE_20180118_122014_33000', 'MUSE_20180115_125311_03000', 'MUSE_20180118_130643_94000', 'MUSE_20180114_075458_59000', 'MUSE_20180118_123155_21000', 'MUSE_20180118_172935_98000', 'MUSE_20180114_132415_54000', 'MUSE_20180114_133136_05000', 'MUSE_20180113_181819_60000', 'MUSE_20180112_133500_45000', 'MUSE_20180118_124706_05000', 'MUSE_20180115_125649_86000', 'MUSE_20180115_120145_97000', 'MUSE_20180114_073446_22000', 'MUSE_20180112_123155_70000', 'MUSE_20180114_070624_47000', 'MUSE_20180111_155945_02000', 'MUSE_20180113_122315_38000', 'MUSE_20180112_170506_49000', 'MUSE_20180112_072907_00000', 'MUSE_20180112_122300_52000', 'MUSE_20180119_180053_76000', 'MUSE_20180116_120951_17000', 'MUSE_20180113_135820_25000', 'MUSE_20180112_075326_49000', 'MUSE_20180113_122009_91000', 'MUSE_20180113_080231_16000', 'MUSE_20180113_135235_10000', 'MUSE_20180116_130935_93000', 'MUSE_20180114_135312_23000', 'MUSE_20180114_134123_38000', 'MUSE_20180114_073237_00000', 'MUSE_20180115_121711_21000', 'MUSE_20180116_133520_60000', 'MUSE_20180118_122009_04000', 'MUSE_20180120_120728_63000', 'MUSE_20180114_131501_69000', 'MUSE_20180115_130558_24000', 'MUSE_20180114_131240_57000', 'MUSE_20180115_123915_59000', 'MUSE_20180113_185437_30000', 'MUSE_20180112_132403_16000', 'MUSE_20180118_130844_14000', 'MUSE_20180113_135648_57000', 'MUSE_20180115_130147_88000', 'MUSE_20180115_134829_71000', 'MUSE_20180115_124258_25000', 'MUSE_20180116_170451_60000', 'MUSE_20180115_122116_89000', 'MUSE_20180114_072229_57000', 'MUSE_20180113_133942_63000', 'MUSE_20180114_134102_68000', 'MUSE_20180115_130856_74000', 'MUSE_20180112_071241_81000', 'MUSE_20180116_122841_83000', 'MUSE_20180113_075719_61000', 'MUSE_20180113_072202_03000', 'MUSE_20180114_073214_16000', 'MUSE_20180114_133615_35000', 'MUSE_20180712_161017_22000', 'MUSE_20180114_070123_76000', 'MUSE_20180712_161109_92000', 'MUSE_20180115_133355_57000', 'MUSE_20180118_175134_54000', 'MUSE_20180115_134701_58000', 'MUSE_20180118_130704_66000', 'MUSE_20180113_134024_19000', 'MUSE_20180116_125500_72000', 'MUSE_20180113_125316_46000', 'MUSE_20180112_075248_76000', 'MUSE_20180115_115625_35000', 'MUSE_20180115_131747_00000', 'MUSE_20180712_160951_94000', 'MUSE_20180112_075112_61000', 'MUSE_20180112_165417_52000', 'MUSE_20180120_121447_55000', 'MUSE_20180114_122900_24000', 'MUSE_20180116_120221_25000', 'MUSE_20180119_171105_70000', 'MUSE_20180113_121012_02000', 'MUSE_20180116_175403_30000', 'MUSE_20180113_071743_49000', 'MUSE_20180114_065147_38000', 'MUSE_20180118_175014_21000', 'MUSE_20180113_183759_48000', 'MUSE_20180115_125456_65000', 'MUSE_20180118_180248_96000', 'MUSE_20180113_122406_34000', 'MUSE_20180112_170229_23000', 'MUSE_20180116_173507_47000', 'MUSE_20180116_122130_05000', 'MUSE_20180114_071620_35000', 'MUSE_20180112_131651_87000', 'MUSE_20180114_074413_87000', 'MUSE_20180112_071000_06000', 'MUSE_20180119_174920_48000', 'MUSE_20180115_122357_20000', 'MUSE_20180116_131253_72000', 'MUSE_20180113_175412_09000', 'MUSE_20180112_120235_16000', 'MUSE_20180114_122203_14000', 'MUSE_20180114_074914_19000', 'MUSE_20180115_133312_03000', 'MUSE_20180114_134836_71000', 'MUSE_20180114_123348_37000', 'MUSE_20180115_134436_45000', 'MUSE_20180113_135123_24000', 'MUSE_20180112_073623_80000', 'MUSE_20180118_181240_96000', 'MUSE_20180112_135200_62000', 'MUSE_20180118_180158_85000', 'MUSE_20180116_170929_62000', 'MUSE_20180120_123012_58000', 'MUSE_20180112_072242_09000', 'MUSE_20180114_135122_08000', 'MUSE_20180116_123944_05000', 'MUSE_20180116_134217_91000', 'MUSE_20180113_115437_77000', 'MUSE_20180115_130632_64000', 'MUSE_20180115_133924_67000', 'MUSE_20180114_170525_14000', 'MUSE_20180112_134937_42000', 'MUSE_20180112_123944_85000', 'MUSE_20180119_171230_90000', 'MUSE_20180113_131335_59000', 'MUSE_20180118_124646_35000', 'MUSE_20180114_122133_98000', 'MUSE_20180112_132322_34000', 'MUSE_20180115_134806_84000', 'MUSE_20180119_170145_80000', 'MUSE_20180113_132845_07000', 'MUSE_20180115_134047_49000', 'MUSE_20180118_134344_42000', 'MUSE_20180114_072850_74000', 'MUSE_20180120_121302_83000', 'MUSE_20180113_133806_42000', 'MUSE_20180114_070334_81000', 'MUSE_20180116_124859_95000', 'MUSE_20180114_122136_09000', 'MUSE_20180113_072844_42000', 'MUSE_20180116_174117_33000', 'MUSE_20180116_174453_60000', 'MUSE_20180116_123053_60000', 'MUSE_20180119_170726_31000', 'MUSE_20180114_131036_01000', 'MUSE_20180118_181833_35000', 'MUSE_20180113_134857_57000', 'MUSE_20180113_182003_59000', 'MUSE_20180712_160239_19000', 'MUSE_20180116_122854_54000', 'MUSE_20180118_180824_42000', 'MUSE_20180113_131209_04000', 'MUSE_20180712_160140_09000', 'MUSE_20180118_130519_02000', 'MUSE_20180114_071444_05000', 'MUSE_20180114_134008_36000', 'MUSE_20180114_122224_20000', 'MUSE_20180115_132952_68000', 'MUSE_20180114_171430_83000', 'MUSE_20180113_130655_64000', 'MUSE_20180118_172425_68000', 'MUSE_20180114_074538_22000', 'MUSE_20180118_122302_38000', 'MUSE_20180112_170236_58000', 'MUSE_20180112_165859_50000', 'MUSE_20180118_134950_99000', 'MUSE_20180116_131718_56000', 'MUSE_20180115_125437_96000', 'MUSE_20180114_071050_26000', 'MUSE_20180116_171006_91000', 'MUSE_20180118_133748_97000', 'MUSE_20180116_170434_98000', 'MUSE_20180118_135400_72000', 'MUSE_20180116_133411_89000', 'MUSE_20180114_075136_32000', 'MUSE_20180113_133859_06000', 'MUSE_20180113_132646_42000', 'MUSE_20180112_120115_58000', 'MUSE_20180118_172319_66000', 'MUSE_20180112_135512_36000', 'MUSE_20180112_131736_51000', 'MUSE_20180115_120904_36000', 'MUSE_20180118_122718_42000', 'MUSE_20180118_171124_54000', 'MUSE_20180119_171520_02000', 'MUSE_20180118_171026_40000', 'MUSE_20180116_173619_12000', 'MUSE_20180113_122219_16000', 'MUSE_20180114_070412_09000', 'MUSE_20180115_132421_20000', 'MUSE_20180114_075105_07000', 'MUSE_20180115_133939_04000', 'MUSE_20180112_074819_39000', 'MUSE_20180116_124308_11000', 'MUSE_20180119_174832_54000', 'MUSE_20180118_132652_78000', 'MUSE_20180119_175742_13000', 'MUSE_20180116_175633_30000', 'MUSE_20180116_122810_88000', 'MUSE_20180113_180202_21000', 'MUSE_20180114_072812_46000', 'MUSE_20180116_181743_93000', 'MUSE_20180116_120419_06000', 'MUSE_20180118_131015_93000', 'MUSE_20180113_135928_31000', 'MUSE_20180114_124509_23000', 'MUSE_20180119_171354_91000', 'MUSE_20180116_121612_28000', 'MUSE_20180118_130446_57000', 'MUSE_20180116_121631_87000', 'MUSE_20180119_180414_61000', 'MUSE_20180116_123901_62000', 'MUSE_20180113_124030_78000', 'MUSE_20180114_131559_52000', 'MUSE_20180113_181837_62000', 'MUSE_20180114_071044_99000', 'MUSE_20180113_123146_47000', 'MUSE_20180118_132620_78000', 'MUSE_20180115_134849_42000', 'MUSE_20180116_132901_47000', 'MUSE_20180112_074458_17000', 'MUSE_20180112_140241_58000', 'MUSE_20180116_133039_00000', 'MUSE_20180116_130400_45000', 'MUSE_20180118_120907_18000', 'MUSE_20180112_165919_39000', 'MUSE_20180115_115814_26000', 'MUSE_20180115_120044_66000', 'MUSE_20180119_174409_50000', 'MUSE_20180116_181851_46000', 'MUSE_20180113_073929_06000', 'MUSE_20180113_080005_70000', 'MUSE_20180114_121319_68000', 'MUSE_20180114_073616_57000', 'MUSE_20180113_174017_97000', 'MUSE_20180113_123230_16000', 'MUSE_20180114_125916_69000', 'MUSE_20180113_122400_01000', 'MUSE_20180118_120028_53000', 'MUSE_20180112_123122_78000', 'MUSE_20180712_160002_41000', 'MUSE_20180112_125041_68000', 'MUSE_20180114_125938_57000', 'MUSE_20180114_133420_60000', 'MUSE_20180112_123300_00000', 'MUSE_20180112_140625_70000', 'MUSE_20180113_133244_10000', 'MUSE_20180118_174634_60000', 'MUSE_20180115_122428_35000', 'MUSE_20180114_121954_58000', 'MUSE_20180119_180100_15000', 'MUSE_20180113_120222_10000', 'MUSE_20180712_160418_50000', 'MUSE_20180116_130502_80000', 'MUSE_20180113_120515_11000', 'MUSE_20180112_165030_69000', 'MUSE_20180112_133520_30000', 'MUSE_20180113_180416_06000', 'MUSE_20180116_170209_05000', 'MUSE_20180112_122158_23000', 'MUSE_20180112_072643_84000', 'MUSE_20180118_133012_66000', 'MUSE_20180115_131835_86000', 'MUSE_20180120_123754_73000', 'MUSE_20180118_121825_58000', 'MUSE_20180712_161449_58000', 'MUSE_20180113_185041_34000', 'MUSE_20180119_173908_05000', 'MUSE_20180120_122929_71000', 'MUSE_20180113_121633_83000', 'MUSE_20180113_131130_39000', 'MUSE_20180116_130608_21000', 'MUSE_20180115_130721_58000', 'MUSE_20180112_165813_81000', 'MUSE_20180119_174528_30000', 'MUSE_20180712_160537_97000', 'MUSE_20180114_124730_07000', 'MUSE_20180113_115515_01000', 'MUSE_20180112_133947_28000', 'MUSE_20180114_134144_09000', 'MUSE_20180114_132228_43000', 'MUSE_20180120_121626_34000', 'MUSE_20180112_073318_12000', 'MUSE_20180114_070331_62000', 'MUSE_20180114_172151_31000', 'MUSE_20180116_131644_20000', 'MUSE_20180116_134147_13000', 'MUSE_20180114_074150_79000', 'MUSE_20180113_122040_24000', 'MUSE_20180115_131839_01000', 'MUSE_20180115_134235_55000', 'MUSE_20180114_134620_71000', 'MUSE_20180116_132920_21000', 'MUSE_20180113_183623_03000', 'MUSE_20180112_070956_86000', 'MUSE_20180119_174454_18000', 'MUSE_20180119_170829_87000', 'MUSE_20180114_121545_02000', 'MUSE_20180115_123452_62000', 'MUSE_20180118_132321_41000', 'MUSE_20180118_132819_96000', 'MUSE_20180116_180503_50000', 'MUSE_20180113_180211_79000', 'MUSE_20180112_170445_06000', 'MUSE_20180118_132504_59000', 'MUSE_20180118_130022_09000', 'MUSE_20180115_120404_02000', 'MUSE_20180115_135012_73000', 'MUSE_20180712_160406_14000', 'MUSE_20180116_130627_84000', 'MUSE_20180114_134219_32000', 'MUSE_20180116_182325_30000', 'MUSE_20180113_123446_37000', 'MUSE_20180116_122933_87000', 'MUSE_20180115_132420_15000', 'MUSE_20180112_165827_18000', 'MUSE_20180114_065119_19000', 'MUSE_20180114_170745_84000', 'MUSE_20180113_135447_15000', 'MUSE_20180113_132530_34000', 'MUSE_20180113_134021_02000', 'MUSE_20180712_160028_67000', 'MUSE_20180112_140022_27000', 'MUSE_20180119_174430_19000', 'MUSE_20180113_130700_99000', 'MUSE_20180115_134323_65000', 'MUSE_20180112_074605_82000', 'MUSE_20180116_124106_09000', 'MUSE_20180113_131148_12000', 'MUSE_20180113_133905_35000', 'MUSE_20180112_131638_56000', 'MUSE_20180114_135016_74000', 'MUSE_20180114_125039_03000', 'MUSE_20180113_135533_90000', 'MUSE_20180115_124704_59000', 'MUSE_20180114_114607_95000', 'MUSE_20180118_170726_48000', 'MUSE_20180115_133936_95000', 'MUSE_20180712_160917_36000', 'MUSE_20180116_170830_50000', 'MUSE_20180112_124120_37000', 'MUSE_20180112_071426_49000', 'MUSE_20180112_140045_12000', 'MUSE_20180114_114650_75000', 'MUSE_20180115_134005_00000', 'MUSE_20180116_172103_82000', 'MUSE_20180120_122923_24000', 'MUSE_20180115_134550_74000', 'MUSE_20180114_170349_17000', 'MUSE_20180712_161321_53000', 'MUSE_20180112_120649_89000', 'MUSE_20180114_072353_62000', 'MUSE_20180112_121124_58000', 'MUSE_20180112_123123_81000', 'MUSE_20180116_125420_35000', 'MUSE_20180112_123217_48000', 'MUSE_20180112_134118_38000', 'MUSE_20180112_072712_11000', 'MUSE_20180114_171444_67000', 'MUSE_20180113_073230_90000', 'MUSE_20180116_175654_04000', 'MUSE_20180113_172714_60000', 'MUSE_20180114_114429_64000', 'MUSE_20180113_074956_15000', 'MUSE_20180118_180427_36000', 'MUSE_20180114_123904_07000', 'MUSE_20180112_130734_04000', 'MUSE_20180116_122820_00000', 'MUSE_20180111_163144_77000', 'MUSE_20180113_184334_69000', 'MUSE_20180113_174715_85000', 'MUSE_20180116_131822_96000', 'MUSE_20180116_123056_75000', 'MUSE_20180113_123828_45000', 'MUSE_20180112_072811_03000', 'MUSE_20180712_160616_08000', 'MUSE_20180118_180424_21000', 'MUSE_20180111_160706_92000', 'MUSE_20180115_120854_85000', 'MUSE_20180114_131540_96000', 'MUSE_20180114_122305_83000', 'MUSE_20180115_130824_74000', 'MUSE_20180118_133700_10000', 'MUSE_20180111_170537_39000', 'MUSE_20180118_132213_74000', 'MUSE_20180116_124657_78000', 'MUSE_20180116_124744_54000', 'MUSE_20180116_125026_47000', 'MUSE_20180113_171303_45000', 'MUSE_20180116_122804_51000', 'MUSE_20180112_074615_42000', 'MUSE_20180113_182635_26000', 'MUSE_20180115_123800_85000', 'MUSE_20180113_122500_15000', 'MUSE_20180116_121736_17000', 'MUSE_20180114_171301_19000', 'MUSE_20180112_071129_10000', 'MUSE_20180118_125639_99000', 'MUSE_20180118_131413_07000', 'MUSE_20180116_170146_99000', 'MUSE_20180712_160415_28000', 'MUSE_20180113_180724_50000', 'MUSE_20180712_155948_55000', 'MUSE_20180113_181158_17000', 'MUSE_20180119_180035_02000', 'MUSE_20180112_121034_42000', 'MUSE_20180113_131732_12000', 'MUSE_20180118_134715_13000', 'MUSE_20180118_131428_54000', 'MUSE_20180712_160013_66000', 'MUSE_20180120_121309_13000', 'MUSE_20180118_124624_57000', 'MUSE_20180113_184609_34000', 'MUSE_20180118_125618_20000', 'MUSE_20180115_132307_47000', 'MUSE_20180120_120809_06000', 'MUSE_20180118_182224_34000', 'MUSE_20180112_131733_36000', 'MUSE_20180115_120729_58000', 'MUSE_20180115_124057_01000', 'MUSE_20180114_074751_15000', 'MUSE_20180118_130405_09000', 'MUSE_20180115_130228_75000', 'MUSE_20180114_073955_55000', 'MUSE_20180120_122250_12000', 'MUSE_20180112_120159_00000', 'MUSE_20180116_123654_68000', 'MUSE_20180114_065640_42000', 'MUSE_20180118_173115_86000', 'MUSE_20180114_171114_81000', 'MUSE_20180114_123809_48000', 'MUSE_20180115_131445_23000', 'MUSE_20180114_072001_26000', 'MUSE_20180118_172420_45000', 'MUSE_20180116_170044_07000', 'MUSE_20180115_123104_28000', 'MUSE_20180115_124321_17000', 'MUSE_20180116_120644_58000', 'MUSE_20180116_172000_19000', 'MUSE_20180114_073510_11000', 'MUSE_20180113_130740_46000', 'MUSE_20180113_134759_07000', 'MUSE_20180118_123604_78000', 'MUSE_20180120_123543_27000', 'MUSE_20180115_130620_30000', 'MUSE_20180119_175715_14000', 'MUSE_20180114_133937_98000', 'MUSE_20180712_160231_70000', 'MUSE_20180712_160603_25000', 'MUSE_20180114_075917_70000', 'MUSE_20180114_072242_92000', 'MUSE_20180113_134559_88000', 'MUSE_20180114_120933_46000', 'MUSE_20180112_133314_59000', 'MUSE_20180115_132043_23000', 'MUSE_20180114_171426_59000', 'MUSE_20180116_120542_33000', 'MUSE_20180112_073743_39000', 'MUSE_20180118_174942_75000', 'MUSE_20180118_171502_53000', 'MUSE_20180116_181038_06000', 'MUSE_20180112_123428_11000', 'MUSE_20180115_121506_58000', 'MUSE_20180114_122614_86000', 'MUSE_20180113_122518_99000', 'MUSE_20180113_121059_20000', 'MUSE_20180112_123620_06000', 'MUSE_20180120_123308_65000', 'MUSE_20180119_173133_64000', 'MUSE_20180120_121414_59000', 'MUSE_20180113_121538_16000', 'MUSE_20180114_072750_54000', 'MUSE_20180116_122916_33000', 'MUSE_20180114_121244_61000', 'MUSE_20180112_073847_84000', 'MUSE_20180112_133822_21000', 'MUSE_20180116_123836_50000', 'MUSE_20180115_131251_61000', 'MUSE_20180113_173908_13000', 'MUSE_20180118_132258_42000', 'MUSE_20180114_072343_07000', 'MUSE_20180115_133555_49000', 'MUSE_20180112_141332_21000', 'MUSE_20180113_173736_00000', 'MUSE_20180113_121039_40000', 'MUSE_20180112_134539_95000', 'MUSE_20180116_132512_90000', 'MUSE_20180115_133639_05000', 'MUSE_20180116_173650_01000', 'MUSE_20180115_130902_00000', 'MUSE_20180120_123751_55000', 'MUSE_20180116_124124_82000', 'MUSE_20180114_070222_92000', 'MUSE_20180114_170918_70000', 'MUSE_20180112_071145_67000', 'MUSE_20180116_121513_34000', 'MUSE_20180114_122612_77000', 'MUSE_20180114_122245_15000', 'MUSE_20180118_125422_07000', 'MUSE_20180114_071202_73000', 'MUSE_20180112_170344_75000', 'MUSE_20180113_173709_88000', 'MUSE_20180118_173553_09000', 'MUSE_20180114_132804_34000', 'MUSE_20180115_130236_18000', 'MUSE_20180112_124709_66000', 'MUSE_20180113_182801_80000', 'MUSE_20180114_135318_67000', 'MUSE_20180113_174808_71000', 'MUSE_20180113_173445_90000', 'MUSE_20180118_124808_46000', 'MUSE_20180112_075455_76000', 'MUSE_20180113_133639_30000', 'MUSE_20180116_170602_28000', 'MUSE_20180113_122711_47000', 'MUSE_20180113_130910_78000', 'MUSE_20180116_123827_39000', 'MUSE_20180115_134211_50000', 'MUSE_20180113_122718_90000', 'MUSE_20180118_120340_00000', 'MUSE_20180115_122442_71000', 'MUSE_20180113_171505_74000', 'MUSE_20180114_072724_56000', 'MUSE_20180116_175133_50000', 'MUSE_20180113_071827_09000', 'MUSE_20180114_170416_48000', 'MUSE_20180113_074134_56000', 'MUSE_20180113_123233_33000', 'MUSE_20180114_073404_52000', 'MUSE_20180113_182749_46000', 'MUSE_20180113_131059_92000', 'MUSE_20180119_173951_45000', 'MUSE_20180116_131542_95000', 'MUSE_20180112_075023_55000', 'MUSE_20180114_071609_13000', 'MUSE_20180116_134155_85000', 'MUSE_20180112_131856_15000', 'MUSE_20180112_071423_31000', 'MUSE_20180116_132627_86000', 'MUSE_20180113_075705_26000', 'MUSE_20180116_121934_44000', 'MUSE_20180115_115740_13000', 'MUSE_20180118_133414_15000', 'MUSE_20180112_123516_13000', 'MUSE_20180114_130626_59000', 'MUSE_20180114_125815_30000', 'MUSE_20180118_133319_97000', 'MUSE_20180113_080341_19000', 'MUSE_20180114_072426_61000', 'MUSE_20180112_140558_73000', 'MUSE_20180113_122408_47000', 'MUSE_20180116_124556_79000', 'MUSE_20180116_120804_20000', 'MUSE_20180114_125451_77000', 'MUSE_20180112_120916_00000', 'MUSE_20180116_132151_63000', 'MUSE_20180113_182339_22000', 'MUSE_20180114_131831_48000', 'MUSE_20180112_072127_05000', 'MUSE_20180112_132304_58000', 'MUSE_20180113_135553_50000', 'MUSE_20180112_133517_13000', 'MUSE_20180120_123448_06000', 'MUSE_20180118_133628_12000', 'MUSE_20180112_072854_73000', 'MUSE_20180118_124231_99000', 'MUSE_20180112_132036_87000', 'MUSE_20180114_123549_60000', 'MUSE_20180113_133422_92000', 'MUSE_20180115_123050_94000', 'MUSE_20180112_133846_28000', 'MUSE_20180112_170820_93000', 'MUSE_20180118_123235_77000', 'MUSE_20180113_185212_65000', 'MUSE_20180118_131742_83000', 'MUSE_20180118_135038_79000', 'MUSE_20180116_115940_05000', 'MUSE_20180118_173552_05000', 'MUSE_20180119_170741_79000', 'MUSE_20180119_170605_97000', 'MUSE_20180112_124508_91000', 'MUSE_20180113_171711_49000', 'MUSE_20180113_184552_82000', 'MUSE_20180113_131334_53000', 'MUSE_20180114_075403_80000', 'MUSE_20180113_135649_61000', 'MUSE_20180116_182208_22000', 'MUSE_20180112_124205_10000', 'MUSE_20180112_072703_53000', 'MUSE_20180112_073502_06000', 'MUSE_20180113_124652_55000', 'MUSE_20180116_131340_74000', 'MUSE_20180118_131516_33000', 'MUSE_20180115_124452_64000', 'MUSE_20180116_131618_14000', 'MUSE_20180114_124930_50000', 'MUSE_20180120_122441_88000', 'MUSE_20180112_122335_61000', 'MUSE_20180113_122223_48000', 'MUSE_20180116_125320_12000', 'MUSE_20180113_071651_79000', 'MUSE_20180114_170600_22000', 'MUSE_20180116_130751_88000', 'MUSE_20180118_175232_90000', 'MUSE_20180114_115907_12000', 'MUSE_20180113_123826_34000', 'MUSE_20180118_182032_87000', 'MUSE_20180112_073801_02000', 'MUSE_20180116_123219_09000', 'MUSE_20180113_115556_41000', 'MUSE_20180113_185245_64000', 'MUSE_20180113_171735_45000', 'MUSE_20180112_073047_61000', 'MUSE_20180113_130101_56000', 'MUSE_20180112_131741_77000', 'MUSE_20180119_175547_65000', 'MUSE_20180114_120713_50000', 'MUSE_20180120_122855_86000', 'MUSE_20180118_124751_94000', 'MUSE_20180113_121743_16000', 'MUSE_20180116_182305_52000', 'MUSE_20180116_180756_09000', 'MUSE_20180118_130902_75000', 'MUSE_20180113_131316_75000', 'MUSE_20180114_073719_69000', 'MUSE_20180114_124438_91000', 'MUSE_20180114_065120_22000', 'MUSE_20180112_135003_10000', 'MUSE_20180112_124343_60000', 'MUSE_20180112_073849_94000', 'MUSE_20180114_115142_74000', 'MUSE_20180115_132910_02000', 'MUSE_20180114_170514_59000', 'MUSE_20180119_173502_54000', 'MUSE_20180118_130409_30000', 'MUSE_20180114_122041_39000', 'MUSE_20180113_182850_92000', 'MUSE_20180115_125600_87000', 'MUSE_20180120_121935_37000', 'MUSE_20180118_131354_44000', 'MUSE_20180116_132738_54000', 'MUSE_20180116_174846_79000', 'MUSE_20180114_123748_75000', 'MUSE_20180120_122546_14000', 'MUSE_20180118_173504_20000', 'MUSE_20180116_171213_92000', 'MUSE_20180112_071859_82000', 'MUSE_20180116_175322_75000', 'MUSE_20180115_132210_59000', 'MUSE_20180119_175814_11000', 'MUSE_20180118_133816_27000', 'MUSE_20180119_173109_64000', 'MUSE_20180118_172208_74000', 'MUSE_20180116_132102_81000', 'MUSE_20180118_180633_93000', 'MUSE_20180114_134524_85000', 'MUSE_20180113_172716_76000', 'MUSE_20180118_131719_74000', 'MUSE_20180120_121828_71000', 'MUSE_20180114_130602_60000', 'MUSE_20180118_124809_51000', 'MUSE_20180119_180248_28000', 'MUSE_20180116_125526_68000', 'MUSE_20180116_131548_24000', 'MUSE_20180113_125901_12000', 'MUSE_20180119_180030_79000', 'MUSE_20180116_171351_55000', 'MUSE_20180116_170143_82000', 'MUSE_20180114_115731_87000', 'MUSE_20180114_065101_70000', 'MUSE_20180118_181955_47000', 'MUSE_20180114_132607_62000', 'MUSE_20180112_134010_04000', 'MUSE_20180116_170511_35000', 'MUSE_20180113_125835_10000', 'MUSE_20180112_124537_70000', 'MUSE_20180712_160618_22000', 'MUSE_20180115_122423_13000', 'MUSE_20180114_074453_29000', 'MUSE_20180118_122927_04000', 'MUSE_20180113_075418_90000', 'MUSE_20180112_133351_25000', 'MUSE_20180116_125329_23000', 'MUSE_20180112_072934_19000', 'MUSE_20180114_123335_73000', 'MUSE_20180116_122140_24000', 'MUSE_20180112_165757_30000', 'MUSE_20180116_170134_68000', 'MUSE_20180116_125025_40000', 'MUSE_20180116_132822_19000', 'MUSE_20180112_171148_89000', 'MUSE_20180120_121436_33000', 'MUSE_20180112_124455_59000', 'MUSE_20180116_174909_70000', 'MUSE_20180118_135232_95000', 'MUSE_20180118_122445_94000', 'MUSE_20180112_133325_84000', 'MUSE_20180114_125011_98000', 'MUSE_20180119_175151_28000', 'MUSE_20180113_125914_52000', 'MUSE_20180116_130927_86000', 'MUSE_20180116_131527_52000', 'MUSE_20180115_123813_53000', 'MUSE_20180118_123617_01000', 'MUSE_20180113_182223_99000', 'MUSE_20180114_074213_58000', 'MUSE_20180113_120038_71000', 'MUSE_20180116_131216_34000', 'MUSE_20180113_133425_01000', 'MUSE_20180118_182055_80000', 'MUSE_20180114_071829_23000', 'MUSE_20180113_184331_50000', 'MUSE_20180116_130315_82000', 'MUSE_20180114_170538_45000', 'MUSE_20180113_130206_88000', 'MUSE_20180114_115101_07000', 'MUSE_20180114_171840_49000', 'MUSE_20180114_133655_10000', 'MUSE_20180115_131433_65000', 'MUSE_20180112_070951_54000', 'MUSE_20180113_122839_27000', 'MUSE_20180112_122633_06000', 'MUSE_20180113_080447_31000', 'MUSE_20180116_175144_19000', 'MUSE_20180114_072313_26000', 'MUSE_20180118_122639_89000', 'MUSE_20180116_131500_57000', 'MUSE_20180112_073854_19000', 'MUSE_20180116_124057_51000', 'MUSE_20180118_175131_37000', 'MUSE_20180112_073246_92000', 'MUSE_20180113_121759_65000', 'MUSE_20180112_120401_13000', 'MUSE_20180113_173446_96000', 'MUSE_20180115_124722_12000', 'MUSE_20180116_123938_81000', 'MUSE_20180113_074055_26000', 'MUSE_20180118_175128_17000', 'MUSE_20180113_074402_07000', 'MUSE_20180115_123436_02000', 'MUSE_20180118_130221_13000', 'MUSE_20180120_122519_07000', 'MUSE_20180112_121706_73000', 'MUSE_20180119_174017_59000', 'MUSE_20180112_165649_41000', 'MUSE_20180119_175656_37000', 'MUSE_20180113_183246_20000', 'MUSE_20180118_173902_21000', 'MUSE_20180113_075515_49000', 'MUSE_20180116_125349_91000', 'MUSE_20180112_073034_19000', 'MUSE_20180116_174309_01000', 'MUSE_20180115_133546_38000', 'MUSE_20180120_122918_86000', 'MUSE_20180115_123112_72000', 'MUSE_20180113_180937_91000', 'MUSE_20180114_115358_23000', 'MUSE_20180116_133938_92000', 'MUSE_20180112_171044_76000', 'MUSE_20180116_133405_55000', 'MUSE_20180115_124013_39000', 'MUSE_20180114_133016_06000', 'MUSE_20180116_181205_13000', 'MUSE_20180112_073250_05000', 'MUSE_20180112_133105_44000', 'MUSE_20180118_173519_68000', 'MUSE_20180115_131052_87000', 'MUSE_20180113_135705_01000', 'MUSE_20180116_124355_01000', 'MUSE_20180114_170618_77000', 'MUSE_20180115_132455_20000', 'MUSE_20180116_134257_68000', 'MUSE_20180118_120927_85000', 'MUSE_20180116_174907_61000', 'MUSE_20180113_125817_30000', 'MUSE_20180116_131155_50000', 'MUSE_20180114_071721_43000', 'MUSE_20180112_123407_35000', 'MUSE_20180114_123110_03000', 'MUSE_20180115_133458_19000', 'MUSE_20180712_160026_53000', 'MUSE_20180113_133202_63000', 'MUSE_20180120_123606_25000', 'MUSE_20180116_122659_19000', 'MUSE_20180118_170612_02000', 'MUSE_20180112_165619_91000', 'MUSE_20180113_124120_80000', 'MUSE_20180118_173302_02000', 'MUSE_20180116_121509_05000', 'MUSE_20180113_135329_70000', 'MUSE_20180116_133826_49000', 'MUSE_20180114_123751_92000', 'MUSE_20180118_132347_54000', 'MUSE_20180113_184658_16000', 'MUSE_20180115_125153_31000', 'MUSE_20180112_123853_45000', 'MUSE_20180116_181033_82000', 'MUSE_20180116_174559_96000', 'MUSE_20180115_131755_38000', 'MUSE_20180116_133909_07000', 'MUSE_20180115_133035_13000', 'MUSE_20180113_134418_87000', 'MUSE_20180114_080221_46000', 'MUSE_20180112_132326_63000', 'MUSE_20180113_171444_01000', 'MUSE_20180115_133603_93000', 'MUSE_20180120_122334_05000', 'MUSE_20180113_171508_95000', 'MUSE_20180112_130749_47000', 'MUSE_20180112_165808_54000', 'MUSE_20180114_132340_27000', 'MUSE_20180120_121725_61000', 'MUSE_20180113_185533_26000', 'MUSE_20180115_123746_31000', 'MUSE_20180115_132338_75000', 'MUSE_20180118_135218_58000', 'MUSE_20180111_163410_40000', 'MUSE_20180114_072310_10000', 'MUSE_20180113_173341_97000', 'MUSE_20180116_120659_96000', 'MUSE_20180116_120912_79000', 'MUSE_20180112_122055_74000', 'MUSE_20180113_131144_91000', 'MUSE_20180112_115828_16000', 'MUSE_20180118_132025_88000', 'MUSE_20180114_130538_76000', 'MUSE_20180114_133950_74000', 'MUSE_20180119_170128_04000', 'MUSE_20180114_131950_45000', 'MUSE_20180120_122525_43000', 'MUSE_20180116_133307_25000', 'MUSE_20180114_115333_64000', 'MUSE_20180112_075105_08000', 'MUSE_20180112_073121_12000', 'MUSE_20180116_170433_91000', 'MUSE_20180118_133057_40000', 'MUSE_20180119_173428_12000', 'MUSE_20180116_124558_90000', 'MUSE_20180115_120728_50000', 'MUSE_20180113_121741_04000', 'MUSE_20180118_180012_35000', 'MUSE_20180114_124918_19000', 'MUSE_20180114_072833_20000', 'MUSE_20180113_183149_10000', 'MUSE_20180112_141151_23000', 'MUSE_20180118_130344_37000', 'MUSE_20180112_071325_43000', 'MUSE_20180116_173455_82000', 'MUSE_20180112_123121_75000', 'MUSE_20180712_160014_73000', 'MUSE_20180112_134803_76000', 'MUSE_20180118_133639_32000', 'MUSE_20180112_170319_40000', 'MUSE_20180115_120445_33000', 'MUSE_20180118_132134_41000', 'MUSE_20180118_172955_82000', 'MUSE_20180114_080032_18000', 'MUSE_20180116_181052_45000', 'MUSE_20180112_141054_33000', 'MUSE_20180712_160306_69000', 'MUSE_20180118_173909_67000', 'MUSE_20180113_133510_80000', 'MUSE_20180118_180259_13000', 'MUSE_20180114_120852_00000', 'MUSE_20180118_174317_38000', 'MUSE_20180112_124837_07000', 'MUSE_20180114_130749_52000', 'MUSE_20180113_134722_88000', 'MUSE_20180115_125011_68000', 'MUSE_20180113_080639_56000', 'MUSE_20180119_180331_85000', 'MUSE_20180712_160931_89000', 'MUSE_20180116_122433_33000', 'MUSE_20180118_175154_30000', 'MUSE_20180118_182138_57000', 'MUSE_20180116_175311_19000', 'MUSE_20180113_122624_75000', 'MUSE_20180116_124521_66000', 'MUSE_20180114_114740_58000', 'MUSE_20180116_122613_47000', 'MUSE_20180113_073104_35000', 'MUSE_20180115_124720_02000', 'MUSE_20180112_132408_50000', 'MUSE_20180113_174641_61000', 'MUSE_20180114_073402_35000', 'MUSE_20180118_125802_86000', 'MUSE_20180114_065126_49000', 'MUSE_20180114_065200_84000', 'MUSE_20180116_180423_91000', 'MUSE_20180118_130300_80000', 'MUSE_20180712_160516_95000', 'MUSE_20180115_122240_76000', 'MUSE_20180112_170828_33000', 'MUSE_20180116_133820_15000', 'MUSE_20180112_073504_17000', 'MUSE_20180118_173117_97000', 'MUSE_20180113_130454_53000', 'MUSE_20180118_134718_30000', 'MUSE_20180113_134600_95000', 'MUSE_20180120_123458_66000', 'MUSE_20180113_073010_84000', 'MUSE_20180116_181036_99000', 'MUSE_20180118_181502_27000', 'MUSE_20180113_080010_97000', 'MUSE_20180114_125655_52000', 'MUSE_20180114_115918_70000', 'MUSE_20180118_182103_18000', 'MUSE_20180116_180012_70000', 'MUSE_20180114_120643_70000', 'MUSE_20180112_132730_69000', 'MUSE_20180115_133535_69000', 'MUSE_20180113_134156_66000', 'MUSE_20180114_072325_51000', 'MUSE_20180113_174643_70000', 'MUSE_20180118_121227_66000', 'MUSE_20180113_132117_20000', 'MUSE_20180118_180009_18000', 'MUSE_20180114_132504_51000', 'MUSE_20180114_135307_87000', 'MUSE_20180118_122909_52000', 'MUSE_20180113_130837_60000', 'MUSE_20180116_170211_18000', 'MUSE_20180115_133927_84000', 'MUSE_20180113_123851_30000', 'MUSE_20180115_120739_16000', 'MUSE_20180118_171356_51000', 'MUSE_20180116_171504_52000', 'MUSE_20180116_121915_75000', 'MUSE_20180116_130947_49000', 'MUSE_20180114_065839_89000', 'MUSE_20180114_132559_22000', 'MUSE_20180116_133905_91000', 'MUSE_20180115_125558_77000', 'MUSE_20180112_134027_79000', 'MUSE_20180114_131353_00000', 'MUSE_20180112_115807_81000', 'MUSE_20180118_121713_08000', 'MUSE_20180118_182119_85000', 'MUSE_20180114_115020_51000', 'MUSE_20180118_173300_98000', 'MUSE_20180113_074747_17000', 'MUSE_20180114_121825_07000', 'MUSE_20180112_120955_24000', 'MUSE_20180712_161309_70000', 'MUSE_20180114_121142_54000', 'MUSE_20180114_070001_82000', 'MUSE_20180114_121834_64000', 'MUSE_20180112_134519_03000', 'MUSE_20180118_123842_36000', 'MUSE_20180116_175652_98000', 'MUSE_20180112_074523_22000', 'MUSE_20180116_181447_80000', 'MUSE_20180115_131812_88000', 'MUSE_20180113_182614_37000', 'MUSE_20180116_132851_98000', 'MUSE_20180116_124457_59000', 'MUSE_20180114_075002_56000', 'MUSE_20180116_171133_28000', 'MUSE_20180113_123033_99000', 'MUSE_20180113_185106_24000', 'MUSE_20180115_120922_96000', 'MUSE_20180113_183335_37000', 'MUSE_20180116_130942_23000', 'MUSE_20180116_181601_81000', 'MUSE_20180112_140156_32000', 'MUSE_20180116_121852_85000', 'MUSE_20180115_130832_82000', 'MUSE_20180118_175849_98000', 'MUSE_20180115_124434_05000', 'MUSE_20180113_133221_18000', 'MUSE_20180118_181603_53000', 'MUSE_20180114_171201_16000', 'MUSE_20180118_131546_14000', 'MUSE_20180120_121907_07000', 'MUSE_20180115_122142_34000', 'MUSE_20180113_130456_67000', 'MUSE_20180119_173408_50000', 'MUSE_20180116_171136_50000', 'MUSE_20180112_122519_94000', 'MUSE_20180113_123601_82000', 'MUSE_20180112_070957_92000', 'MUSE_20180116_123051_48000', 'MUSE_20180114_080106_86000', 'MUSE_20180116_133556_76000', 'MUSE_20180114_124340_03000', 'MUSE_20180118_180325_15000', 'MUSE_20180114_120931_37000', 'MUSE_20180115_121715_45000', 'MUSE_20180114_071154_66000', 'MUSE_20180115_124015_49000', 'MUSE_20180113_115535_71000', 'MUSE_20180118_173418_63000', 'MUSE_20180116_133022_50000', 'MUSE_20180114_170927_19000', 'MUSE_20180119_172023_10000', 'MUSE_20180113_131129_29000', 'MUSE_20180112_071020_91000', 'MUSE_20180120_122740_67000', 'MUSE_20180118_132531_80000', 'MUSE_20180116_122037_93000', 'MUSE_20180119_170846_50000', 'MUSE_20180118_174510_34000', 'MUSE_20180113_123807_70000', 'MUSE_20180116_115925_53000', 'MUSE_20180114_131044_43000', 'MUSE_20180115_125643_54000', 'MUSE_20180115_120102_25000', 'MUSE_20180112_120712_81000', 'MUSE_20180112_132347_59000', 'MUSE_20180118_173545_73000', 'MUSE_20180113_175730_70000', 'MUSE_20180113_182204_31000', 'MUSE_20180114_065533_01000', 'MUSE_20180115_132209_55000', 'MUSE_20180113_171620_98000', 'MUSE_20180112_121836_76000', 'MUSE_20180120_121914_47000', 'MUSE_20180112_141110_43000', 'MUSE_20180113_072828_93000', 'MUSE_20180113_185638_95000', 'MUSE_20180115_131754_32000', 'MUSE_20180112_171258_74000', 'MUSE_20180114_124543_93000', 'MUSE_20180112_133746_02000', 'MUSE_20180113_183209_79000', 'MUSE_20180118_120507_69000', 'MUSE_20180113_123126_84000', 'MUSE_20180119_173959_89000', 'MUSE_20180112_132938_44000', 'MUSE_20180116_125225_42000', 'MUSE_20180116_122908_92000', 'MUSE_20180111_160117_84000', 'MUSE_20180112_133146_98000', 'MUSE_20180113_120213_65000', 'MUSE_20180116_173850_13000', 'MUSE_20180118_172652_55000', 'MUSE_20180118_174025_38000', 'MUSE_20180112_071037_53000', 'MUSE_20180118_122114_47000', 'MUSE_20180112_124538_74000', 'MUSE_20180118_133646_75000', 'MUSE_20180114_170616_68000', 'MUSE_20180112_132836_26000', 'MUSE_20180712_160701_09000', 'MUSE_20180118_130122_04000', 'MUSE_20180114_073919_29000', 'MUSE_20180120_121305_98000', 'MUSE_20180113_123133_14000', 'MUSE_20180115_130607_42000', 'MUSE_20180112_071106_08000', 'MUSE_20180115_134929_94000', 'MUSE_20180118_134357_76000', 'MUSE_20180116_131456_35000', 'MUSE_20180118_131455_63000', 'MUSE_20180112_115337_57000', 'MUSE_20180120_123307_57000', 'MUSE_20180118_131341_65000', 'MUSE_20180118_120137_87000', 'MUSE_20180119_175022_75000', 'MUSE_20180113_121435_51000', 'MUSE_20180114_115021_57000', 'MUSE_20180115_134655_12000', 'MUSE_20180118_174014_81000', 'MUSE_20180116_174714_32000', 'MUSE_20180118_125947_94000', 'MUSE_20180111_160141_83000', 'MUSE_20180113_180953_35000', 'MUSE_20180118_131527_54000', 'MUSE_20180118_180342_75000', 'MUSE_20180113_072726_42000', 'MUSE_20180118_134343_36000', 'MUSE_20180114_133427_06000', 'MUSE_20180120_121450_70000', 'MUSE_20180118_132657_00000', 'MUSE_20180118_134301_96000', 'MUSE_20180113_124115_49000', 'MUSE_20180118_122359_19000', 'MUSE_20180118_133158_77000', 'MUSE_20180113_132252_67000', 'MUSE_20180118_131530_73000', 'MUSE_20180116_123323_48000', 'MUSE_20180119_170601_74000', 'MUSE_20180113_131837_01000', 'MUSE_20180113_134031_52000', 'MUSE_20180118_121011_42000', 'MUSE_20180114_075837_22000', 'MUSE_20180118_133425_38000', 'MUSE_20180119_170724_22000', 'MUSE_20180113_130525_59000', 'MUSE_20180115_124435_13000', 'MUSE_20180112_073636_07000', 'MUSE_20180114_125730_64000', 'MUSE_20180113_124049_50000', 'MUSE_20180116_121754_88000', 'MUSE_20180116_124417_92000', 'MUSE_20180114_070146_59000', 'MUSE_20180119_173149_13000', 'MUSE_20180112_134022_47000', 'MUSE_20180712_161505_16000', 'MUSE_20180113_174024_32000', 'MUSE_20180116_122717_82000', 'MUSE_20180119_180230_68000', 'MUSE_20180112_124403_35000', 'MUSE_20180114_070613_80000', 'MUSE_20180113_132927_77000', 'MUSE_20180115_134319_42000', 'MUSE_20180113_080007_79000', 'MUSE_20180118_132206_33000', 'MUSE_20180712_155940_31000', 'MUSE_20180116_170810_79000', 'MUSE_20180114_072117_98000', 'MUSE_20180114_120135_54000', 'MUSE_20180115_134616_84000', 'MUSE_20180113_075325_84000', 'MUSE_20180113_180028_33000', 'MUSE_20180115_120307_83000', 'MUSE_20180118_130451_84000', 'MUSE_20180120_120831_95000', 'MUSE_20180118_175821_79000', 'MUSE_20180112_130802_82000', 'MUSE_20180114_125822_71000', 'MUSE_20180114_122819_77000', 'MUSE_20180120_123225_01000', 'MUSE_20180113_074518_26000', 'MUSE_20180114_134852_19000', 'MUSE_20180113_175912_30000', 'MUSE_20180115_134948_60000', 'MUSE_20180113_080819_49000', 'MUSE_20180112_123632_97000', 'MUSE_20180116_121603_85000', 'MUSE_20180114_070439_33000', 'MUSE_20180119_171123_28000', 'MUSE_20180112_074827_86000', 'MUSE_20180113_134326_69000', 'MUSE_20180114_065643_59000', 'MUSE_20180114_170541_61000', 'MUSE_20180114_171300_15000', 'MUSE_20180113_075827_06000', 'MUSE_20180113_133947_92000', 'MUSE_20180118_133648_87000', 'MUSE_20180113_122657_07000', 'MUSE_20180112_075538_85000', 'MUSE_20180112_072624_20000', 'MUSE_20180112_130434_61000', 'MUSE_20180112_134748_36000', 'MUSE_20180712_160400_75000', 'MUSE_20180113_115415_59000', 'MUSE_20180113_130959_13000', 'MUSE_20180114_073429_68000', 'MUSE_20180114_120533_19000', 'MUSE_20180115_130140_37000', 'MUSE_20180118_180721_94000', 'MUSE_20180118_120822_25000', 'MUSE_20180118_175118_03000', 'MUSE_20180113_125620_81000', 'MUSE_20180112_071250_22000', 'MUSE_20180111_160605_69000', 'MUSE_20180115_134539_53000', 'MUSE_20180112_071146_75000', 'MUSE_20180113_124007_99000', 'MUSE_20180112_124332_37000', 'MUSE_20180113_183740_76000', 'MUSE_20180116_172955_80000', 'MUSE_20180114_070521_07000', 'MUSE_20180113_120221_04000', 'MUSE_20180114_131003_96000', 'MUSE_20180114_124622_44000', 'MUSE_20180112_122422_96000', 'MUSE_20180112_124734_52000', 'MUSE_20180113_075000_36000', 'MUSE_20180116_134322_90000', 'MUSE_20180114_122800_14000', 'MUSE_20180116_170902_42000', 'MUSE_20180120_120825_60000', 'MUSE_20180115_131629_40000', 'MUSE_20180114_170645_81000', 'MUSE_20180115_130843_39000', 'MUSE_20180118_173138_77000', 'MUSE_20180115_134029_94000', 'MUSE_20180120_121252_56000', 'MUSE_20180113_171753_06000', 'MUSE_20180115_125315_23000', 'MUSE_20180112_134545_33000', 'MUSE_20180114_074204_09000', 'MUSE_20180112_071600_22000', 'MUSE_20180113_124017_48000', 'MUSE_20180112_130727_76000', 'MUSE_20180114_133928_84000', 'MUSE_20180113_124620_99000', 'MUSE_20180114_121621_22000', 'MUSE_20180116_123748_67000', 'MUSE_20180119_175759_69000', 'MUSE_20180115_123305_73000', 'MUSE_20180116_124958_17000', 'MUSE_20180113_182044_26000', 'MUSE_20180112_133122_99000', 'MUSE_20180114_073742_84000', 'MUSE_20180112_134032_08000', 'MUSE_20180118_172948_41000', 'MUSE_20180116_115943_22000', 'MUSE_20180116_121549_47000', 'MUSE_20180112_135715_83000', 'MUSE_20180113_075039_84000', 'MUSE_20180112_134631_64000', 'MUSE_20180114_115255_34000', 'MUSE_20180116_124037_74000', 'MUSE_20180115_122936_95000', 'MUSE_20180112_170134_49000', 'MUSE_20180113_115111_15000', 'MUSE_20180113_171514_33000', 'MUSE_20180118_125616_11000', 'MUSE_20180118_170750_40000', 'MUSE_20180118_125819_47000', 'MUSE_20180114_132047_54000', 'MUSE_20180114_065417_59000', 'MUSE_20180118_173238_00000', 'MUSE_20180116_134135_84000', 'MUSE_20180113_074758_40000', 'MUSE_20180113_123739_42000', 'MUSE_20180114_070619_20000', 'MUSE_20180119_170132_35000', 'MUSE_20180116_170910_87000', 'MUSE_20180712_155838_47000', 'MUSE_20180113_184651_82000', 'MUSE_20180120_123729_60000', 'MUSE_20180113_080820_57000', 'MUSE_20180113_122345_61000', 'MUSE_20180112_072730_72000', 'MUSE_20180118_124332_22000', 'MUSE_20180115_124238_55000', 'MUSE_20180116_120848_94000', 'MUSE_20180113_171816_93000', 'MUSE_20180113_115509_72000', 'MUSE_20180113_130400_28000', 'MUSE_20180114_131331_12000', 'MUSE_20180115_122425_20000', 'MUSE_20180118_121048_71000', 'MUSE_20180120_121334_07000', 'MUSE_20180116_133211_42000', 'MUSE_20180118_180837_78000', 'MUSE_20180115_122859_65000', 'MUSE_20180115_133327_45000', 'MUSE_20180118_180011_27000', 'MUSE_20180118_123907_30000', 'MUSE_20180115_120155_52000', 'MUSE_20180112_122437_56000', 'MUSE_20180113_120400_35000', 'MUSE_20180113_135008_47000', 'MUSE_20180114_125302_44000', 'MUSE_20180113_135647_52000', 'MUSE_20180118_124142_97000', 'MUSE_20180114_132234_78000', 'MUSE_20180111_170102_10000', 'MUSE_20180114_134421_40000', 'MUSE_20180114_133305_35000', 'MUSE_20180114_131500_63000', 'MUSE_20180112_132651_27000', 'MUSE_20180112_115329_03000', 'MUSE_20180118_132423_95000', 'MUSE_20180116_124254_79000', 'MUSE_20180118_173316_44000', 'MUSE_20180118_172234_86000', 'MUSE_20180115_130546_39000', 'MUSE_20180113_182727_46000', 'MUSE_20180113_132044_83000', 'MUSE_20180116_174010_63000', 'MUSE_20180118_170505_57000', 'MUSE_20180118_123009_54000', 'MUSE_20180116_180450_15000', 'MUSE_20180113_133110_67000', 'MUSE_20180118_134611_37000', 'MUSE_20180118_172421_48000', 'MUSE_20180114_171838_39000', 'MUSE_20180118_130921_50000', 'MUSE_20180115_122750_06000', 'MUSE_20180116_120743_43000', 'MUSE_20180115_124619_82000', 'MUSE_20180113_134303_70000', 'MUSE_20180113_183724_30000', 'MUSE_20180113_124759_50000', 'MUSE_20180120_121742_07000', 'MUSE_20180111_165722_20000', 'MUSE_20180113_135108_87000', 'MUSE_20180113_131313_56000', 'MUSE_20180111_160333_03000', 'MUSE_20180115_132101_95000', 'MUSE_20180115_123907_17000', 'MUSE_20180112_165708_18000', 'MUSE_20180113_121739_99000', 'MUSE_20180113_124840_53000', 'MUSE_20180113_135045_85000', 'MUSE_20180119_170909_52000', 'MUSE_20180113_174212_67000', 'MUSE_20180113_171405_62000', 'MUSE_20180116_174135_98000', 'MUSE_20180116_122530_79000', 'MUSE_20180118_131246_89000', 'MUSE_20180119_170722_08000', 'MUSE_20180113_120936_64000', 'MUSE_20180113_135458_69000', 'MUSE_20180119_175306_10000', 'MUSE_20180111_160435_36000', 'MUSE_20180118_174943_81000', 'MUSE_20180115_121250_05000', 'MUSE_20180113_184313_82000', 'MUSE_20180114_124828_19000', 'MUSE_20180113_181056_81000', 'MUSE_20180115_132044_29000', 'MUSE_20180113_135004_20000', 'MUSE_20180116_121035_80000', 'MUSE_20180116_120938_80000', 'MUSE_20180113_080059_55000', 'MUSE_20180120_121641_96000', 'MUSE_20180112_131639_62000', 'MUSE_20180115_133304_67000', 'MUSE_20180118_123229_39000', 'MUSE_20180116_173659_51000', 'MUSE_20180115_131751_16000', 'MUSE_20180114_073430_72000', 'MUSE_20180114_071039_70000', 'MUSE_20180115_130451_80000', 'MUSE_20180111_160635_98000', 'MUSE_20180113_185606_82000', 'MUSE_20180114_132336_04000', 'MUSE_20180118_181908_63000', 'MUSE_20180113_124059_00000', 'MUSE_20180112_075344_15000', 'MUSE_20180116_130924_67000', 'MUSE_20180112_072725_42000', 'MUSE_20180112_133102_29000', 'MUSE_20180114_171629_16000', 'MUSE_20180114_134145_14000', 'MUSE_20180113_135147_13000', 'MUSE_20180112_124857_74000', 'MUSE_20180118_130735_57000', 'MUSE_20180116_181214_58000', 'MUSE_20180114_124056_22000', 'MUSE_20180112_134055_15000', 'MUSE_20180120_121304_92000', 'MUSE_20180114_135401_01000', 'MUSE_20180116_120439_04000', 'MUSE_20180113_123129_98000', 'MUSE_20180119_180329_73000', 'MUSE_20180112_131637_52000', 'MUSE_20180112_140824_87000', 'MUSE_20180116_131322_10000', 'MUSE_20180118_124728_90000', 'MUSE_20180113_174653_00000', 'MUSE_20180118_132342_25000', 'MUSE_20180116_170827_32000', 'MUSE_20180112_171014_61000', 'MUSE_20180113_075834_47000', 'MUSE_20180114_071524_37000', 'MUSE_20180113_131043_15000', 'MUSE_20180120_120814_37000', 'MUSE_20180114_134623_90000', 'MUSE_20180114_122740_44000', 'MUSE_20180118_122426_29000', 'MUSE_20180114_134606_30000', 'MUSE_20180113_133919_71000', 'MUSE_20180114_070406_75000', 'MUSE_20180113_075828_14000', 'MUSE_20180114_133917_19000', 'MUSE_20180116_124607_29000', 'MUSE_20180111_163526_59000', 'MUSE_20180113_122231_57000', 'MUSE_20180113_181205_59000', 'MUSE_20180116_125918_29000', 'MUSE_20180113_174714_79000', 'MUSE_20180118_130120_99000', 'MUSE_20180112_080040_85000', 'MUSE_20180118_125907_44000', 'MUSE_20180118_181554_00000', 'MUSE_20180112_073456_82000', 'MUSE_20180118_133117_13000', 'MUSE_20180120_120955_06000', 'MUSE_20180116_133449_21000', 'MUSE_20180113_182331_84000', 'MUSE_20180119_174835_83000', 'MUSE_20180115_125440_08000', 'MUSE_20180119_170822_29000', 'MUSE_20180112_132648_09000', 'MUSE_20180116_174129_66000', 'MUSE_20180113_180418_23000', 'MUSE_20180113_115427_04000', 'MUSE_20180112_140821_61000', 'MUSE_20180113_080113_02000', 'MUSE_20180113_175853_64000', 'MUSE_20180113_183208_71000', 'MUSE_20180120_121702_74000', 'MUSE_20180115_122439_55000', 'MUSE_20180111_160729_69000', 'MUSE_20180712_160542_23000', 'MUSE_20180112_131701_43000', 'MUSE_20180118_123228_33000', 'MUSE_20180113_074102_77000', 'MUSE_20180112_074903_07000', 'MUSE_20180116_182321_04000', 'MUSE_20180113_125252_39000', 'MUSE_20180112_140600_83000', 'MUSE_20180112_131709_48000', 'MUSE_20180118_180654_72000', 'MUSE_20180118_124814_85000', 'MUSE_20180116_120409_50000', 'MUSE_20180118_181948_09000', 'MUSE_20180113_135819_17000', 'MUSE_20180112_170235_52000', 'MUSE_20180118_171900_51000', 'MUSE_20180112_123609_84000', 'MUSE_20180112_120554_92000', 'MUSE_20180120_121438_42000', 'MUSE_20180114_122728_79000', 'MUSE_20180114_075127_86000', 'MUSE_20180118_172741_40000', 'MUSE_20180116_122124_78000', 'MUSE_20180114_120512_49000', 'MUSE_20180114_132956_24000', 'MUSE_20180118_175924_32000', 'MUSE_20180712_161428_38000', 'MUSE_20180112_122304_77000', 'MUSE_20180116_121922_10000', 'MUSE_20180112_072023_92000', 'MUSE_20180116_130337_63000', 'MUSE_20180116_124058_58000', 'MUSE_20180114_070708_01000', 'MUSE_20180116_131149_12000', 'MUSE_20180112_074106_69000', 'MUSE_20180115_125020_17000', 'MUSE_20180115_132316_97000', 'MUSE_20180112_133227_28000', 'MUSE_20180111_160201_47000', 'MUSE_20180118_131352_34000', 'MUSE_20180118_130642_90000', 'MUSE_20180114_135337_66000', 'MUSE_20180119_175221_17000', 'MUSE_20180114_074554_71000', 'MUSE_20180113_074756_28000', 'MUSE_20180114_123005_60000', 'MUSE_20180113_071855_30000', 'MUSE_20180112_075028_89000', 'MUSE_20180114_073055_49000', 'MUSE_20180116_124514_19000', 'MUSE_20180116_125015_79000', 'MUSE_20180113_125840_38000', 'MUSE_20180118_123454_25000', 'MUSE_20180114_074803_42000', 'MUSE_20180119_171916_63000', 'MUSE_20180116_133311_49000', 'MUSE_20180114_071808_33000', 'MUSE_20180114_124342_14000', 'MUSE_20180118_122840_23000', 'MUSE_20180112_123939_60000', 'MUSE_20180112_123246_63000', 'MUSE_20180118_131710_13000', 'MUSE_20180114_134932_59000', 'MUSE_20180114_071420_04000', 'MUSE_20180114_133627_74000', 'MUSE_20180116_132620_41000', 'MUSE_20180115_124414_36000', 'MUSE_20180114_074451_17000', 'MUSE_20180112_124602_58000', 'MUSE_20180113_075454_78000', 'MUSE_20180115_124532_92000', 'MUSE_20180114_134733_61000', 'MUSE_20180116_182103_34000', 'MUSE_20180112_141118_48000', 'MUSE_20180114_135335_46000', 'MUSE_20180120_121746_28000', 'MUSE_20180115_134508_33000', 'MUSE_20180118_133244_81000', 'MUSE_20180114_125658_66000', 'MUSE_20180116_121851_79000', 'MUSE_20180120_123723_19000', 'MUSE_20180113_123438_97000', 'MUSE_20180114_070658_51000', 'MUSE_20180111_170239_47000', 'MUSE_20180114_114815_42000', 'MUSE_20180118_180406_68000', 'MUSE_20180112_121320_67000', 'MUSE_20180115_131140_35000', 'MUSE_20180116_181032_76000', 'MUSE_20180112_074419_62000', 'MUSE_20180114_134632_37000', 'MUSE_20180115_134435_30000', 'MUSE_20180113_124217_64000', 'MUSE_20180112_140624_62000', 'MUSE_20180111_160516_89000', 'MUSE_20180113_182812_42000', 'MUSE_20180112_134054_07000', 'MUSE_20180118_174159_65000', 'MUSE_20180112_124144_27000', 'MUSE_20180119_174446_68000', 'MUSE_20180112_115332_25000', 'MUSE_20180113_124016_43000', 'MUSE_20180712_160327_92000', 'MUSE_20180114_072002_30000', 'MUSE_20180112_071036_45000', 'MUSE_20180116_120909_64000', 'MUSE_20180116_173840_99000', 'MUSE_20180114_114959_61000', 'MUSE_20180116_175217_50000', 'MUSE_20180113_122645_46000', 'MUSE_20180113_133637_19000', 'MUSE_20180113_180017_13000', 'MUSE_20180115_130757_44000', 'MUSE_20180116_125411_89000', 'MUSE_20180118_123904_10000', 'MUSE_20180113_131856_90000', 'MUSE_20180118_181602_47000', 'MUSE_20180115_130907_25000', 'MUSE_20180114_124752_95000', 'MUSE_20180113_072204_12000', 'MUSE_20180113_131240_46000', 'MUSE_20180114_075519_35000', 'MUSE_20180116_181448_88000', 'MUSE_20180712_161421_97000', 'MUSE_20180712_161355_56000', 'MUSE_20180118_132804_52000', 'MUSE_20180114_114850_77000', 'MUSE_20180113_184000_10000', 'MUSE_20180114_072515_46000', 'MUSE_20180115_132223_95000', 'MUSE_20180114_070940_66000', 'MUSE_20180118_133626_00000', 'MUSE_20180115_131610_79000', 'MUSE_20180114_071253_91000', 'MUSE_20180118_172742_44000', 'MUSE_20180113_125413_62000', 'MUSE_20180112_134959_90000', 'MUSE_20180115_133200_20000', 'MUSE_20180112_140218_78000', 'MUSE_20180116_120152_09000', 'MUSE_20180114_172101_42000', 'MUSE_20180113_123041_34000', 'MUSE_20180118_125944_77000', 'MUSE_20180113_182604_22000', 'MUSE_20180114_072856_01000', 'MUSE_20180114_072355_74000', 'MUSE_20180118_133429_59000', 'MUSE_20180114_135254_41000', 'MUSE_20180114_121226_03000', 'MUSE_20180118_170512_04000', 'MUSE_20180112_132924_07000', 'MUSE_20180115_124717_91000', 'MUSE_20180118_173033_14000', 'MUSE_20180116_133308_32000', 'MUSE_20180119_171344_35000', 'MUSE_20180120_120622_11000', 'MUSE_20180118_132309_02000', 'MUSE_20180114_114538_96000', 'MUSE_20180118_172749_84000', 'MUSE_20180712_160457_05000', 'MUSE_20180113_130638_01000', 'MUSE_20180116_171412_29000', 'MUSE_20180113_125153_02000', 'MUSE_20180119_174455_23000', 'MUSE_20180112_124632_90000', 'MUSE_20180118_132326_75000', 'MUSE_20180118_132613_28000', 'MUSE_20180114_114944_15000', 'MUSE_20180114_075336_83000', 'MUSE_20180112_122555_71000', 'MUSE_20180115_125059_56000', 'MUSE_20180116_124957_10000', 'MUSE_20180119_170217_59000', 'MUSE_20180116_121937_67000', 'MUSE_20180118_122527_72000', 'MUSE_20180118_182050_52000', 'MUSE_20180114_075004_68000', 'MUSE_20180112_133106_48000', 'MUSE_20180115_120103_32000', 'MUSE_20180114_071907_78000', 'MUSE_20180112_132348_67000', 'MUSE_20180113_073419_29000', 'MUSE_20180114_120440_62000', 'MUSE_20180116_130318_97000', 'MUSE_20180115_124808_83000', 'MUSE_20180118_180903_89000', 'MUSE_20180114_172016_88000', 'MUSE_20180113_124226_77000', 'MUSE_20180118_120125_44000', 'MUSE_20180113_125418_88000', 'MUSE_20180112_071451_39000', 'MUSE_20180116_174320_59000', 'MUSE_20180114_171207_46000', 'MUSE_20180112_072026_01000', 'MUSE_20180114_130935_57000', 'MUSE_20180114_072307_86000', 'MUSE_20180112_122232_35000', 'MUSE_20180111_165855_11000', 'MUSE_20180120_120812_24000', 'MUSE_20180114_114849_69000', 'MUSE_20180113_180702_73000', 'MUSE_20180119_175627_20000', 'MUSE_20180118_171101_62000', 'MUSE_20180114_132927_12000', 'MUSE_20180113_133224_36000', 'MUSE_20180116_134216_85000', 'MUSE_20180120_121625_27000', 'MUSE_20180114_172143_90000', 'MUSE_20180116_120237_72000', 'MUSE_20180120_123141_38000', 'MUSE_20180114_134859_55000', 'MUSE_20180116_170727_01000', 'MUSE_20180113_132007_29000', 'MUSE_20180114_073000_20000', 'MUSE_20180120_123219_71000', 'MUSE_20180116_180427_11000', 'MUSE_20180113_182228_25000', 'MUSE_20180112_132533_61000', 'MUSE_20180118_120948_57000', 'MUSE_20180114_132747_89000', 'MUSE_20180113_180105_96000', 'MUSE_20180114_124643_19000', 'MUSE_20180712_160321_36000', 'MUSE_20180112_134000_60000', 'MUSE_20180113_120116_51000', 'MUSE_20180118_133416_25000', 'MUSE_20180112_140711_77000', 'MUSE_20180118_180432_64000', 'MUSE_20180114_121326_03000', 'MUSE_20180118_181556_11000', 'MUSE_20180115_134429_03000', 'MUSE_20180120_121310_19000', 'MUSE_20180113_132325_15000', 'MUSE_20180112_132710_92000', 'MUSE_20180113_135152_40000', 'MUSE_20180112_165512_19000', 'MUSE_20180116_181906_05000', 'MUSE_20180114_124650_62000', 'MUSE_20180118_180821_26000', 'MUSE_20180112_120654_12000', 'MUSE_20180112_074912_60000', 'MUSE_20180112_072519_77000', 'MUSE_20180115_134708_96000', 'MUSE_20180114_072405_88000', 'MUSE_20180116_120521_49000', 'MUSE_20180112_120515_62000', 'MUSE_20180113_075014_85000', 'MUSE_20180115_122148_83000', 'MUSE_20180113_175409_99000', 'MUSE_20180114_065550_52000', 'MUSE_20180116_172116_15000', 'MUSE_20180112_165605_51000', 'MUSE_20180116_120148_92000', 'MUSE_20180113_115653_27000', 'MUSE_20180116_130704_03000', 'MUSE_20180115_130939_17000', 'MUSE_20180113_123023_83000', 'MUSE_20180111_163356_01000', 'MUSE_20180118_131156_85000', 'MUSE_20180115_124019_85000', 'MUSE_20180118_131051_42000', 'MUSE_20180119_171807_86000', 'MUSE_20180118_180639_23000', 'MUSE_20180113_115137_21000', 'MUSE_20180114_131458_41000', 'MUSE_20180118_172218_35000', 'MUSE_20180113_115011_85000', 'MUSE_20180118_133649_91000', 'MUSE_20180114_075518_27000', 'MUSE_20180112_122112_42000', 'MUSE_20180116_173831_54000', 'MUSE_20180120_122520_15000', 'MUSE_20180112_130726_69000', 'MUSE_20180114_075358_53000', 'MUSE_20180116_121828_96000', 'MUSE_20180113_123950_35000', 'MUSE_20180114_122802_28000', 'MUSE_20180120_121956_15000', 'MUSE_20180114_130539_81000', 'MUSE_20180118_131037_93000', 'MUSE_20180112_074746_07000', 'MUSE_20180115_131606_57000', 'MUSE_20180116_120334_72000', 'MUSE_20180113_175948_79000', 'MUSE_20180118_173254_54000', 'MUSE_20180115_125446_40000', 'MUSE_20180114_074435_71000', 'MUSE_20180116_132227_83000', 'MUSE_20180112_170749_76000', 'MUSE_20180115_125148_07000', 'MUSE_20180114_121028_41000', 'MUSE_20180118_124312_49000', 'MUSE_20180118_173258_86000', 'MUSE_20180116_173542_62000', 'MUSE_20180112_133018_75000', 'MUSE_20180114_170412_23000', 'MUSE_20180112_132425_17000', 'MUSE_20180112_123919_79000', 'MUSE_20180114_073009_67000', 'MUSE_20180112_133025_07000', 'MUSE_20180118_134733_76000', 'MUSE_20180112_124836_02000', 'MUSE_20180116_121018_25000', 'MUSE_20180114_065509_16000', 'MUSE_20180116_172623_69000', 'MUSE_20180112_123540_67000', 'MUSE_20180118_135259_10000', 'MUSE_20180118_173523_94000', 'MUSE_20180114_071543_15000', 'MUSE_20180118_132350_75000', 'MUSE_20180118_130638_67000', 'MUSE_20180712_160522_34000', 'MUSE_20180112_123242_45000', 'MUSE_20180118_131837_83000', 'MUSE_20180114_075648_05000', 'MUSE_20180112_072442_44000', 'MUSE_20180114_122036_09000', 'MUSE_20180114_070416_35000', 'MUSE_20180111_165614_72000', 'MUSE_20180113_182656_04000', 'MUSE_20180115_131006_16000', 'MUSE_20180114_114432_82000', 'MUSE_20180116_174452_55000', 'MUSE_20180113_124919_80000', 'MUSE_20180114_133138_17000', 'MUSE_20180114_171223_95000', 'MUSE_20180114_123400_63000', 'MUSE_20180114_120423_41000', 'MUSE_20180114_073748_24000', 'MUSE_20180114_121642_95000', 'MUSE_20180113_132738_49000', 'MUSE_20180114_131104_04000', 'MUSE_20180116_133448_15000', 'MUSE_20180112_133909_09000', 'MUSE_20180115_122541_71000', 'MUSE_20180113_183757_39000', 'MUSE_20180118_171307_75000', 'MUSE_20180118_174920_94000', 'MUSE_20180118_130539_70000', 'MUSE_20180114_171136_19000', 'MUSE_20180113_134345_35000', 'MUSE_20180113_133127_17000', 'MUSE_20180115_134556_17000', 'MUSE_20180116_121116_30000', 'MUSE_20180118_124635_13000', 'MUSE_20180113_171552_70000', 'MUSE_20180112_073811_60000', 'MUSE_20180113_184120_83000', 'MUSE_20180115_132147_77000', 'MUSE_20180114_073853_05000', 'MUSE_20180118_121729_58000', 'MUSE_20180114_074544_55000', 'MUSE_20180113_133536_84000', 'MUSE_20180115_132459_42000', 'MUSE_20180118_122333_26000', 'MUSE_20180113_120346_89000', 'MUSE_20180115_123743_08000', 'MUSE_20180115_125705_28000', 'MUSE_20180115_125034_57000', 'MUSE_20180114_070603_63000', 'MUSE_20180116_173758_45000', 'MUSE_20180115_125228_57000', 'MUSE_20180118_180031_07000', 'MUSE_20180116_131853_90000', 'MUSE_20180118_181540_65000', 'MUSE_20180113_135320_59000', 'MUSE_20180118_125331_42000', 'MUSE_20180119_174535_68000', 'MUSE_20180115_123744_16000', 'MUSE_20180116_182322_12000', 'MUSE_20180113_175806_92000', 'MUSE_20180114_170945_89000', 'MUSE_20180114_065434_05000', 'MUSE_20180115_123027_03000', 'MUSE_20180116_131321_04000', 'MUSE_20180114_065620_70000', 'MUSE_20180113_133818_69000', 'MUSE_20180116_120316_10000', 'MUSE_20180112_132441_77000', 'MUSE_20180116_125006_64000', 'MUSE_20180112_134111_91000', 'MUSE_20180118_133251_14000', 'MUSE_20180712_160511_58000', 'MUSE_20180112_124044_31000', 'MUSE_20180114_071952_74000', 'MUSE_20180119_175556_08000', 'MUSE_20180114_071046_05000', 'MUSE_20180113_130233_96000', 'MUSE_20180114_132745_80000', 'MUSE_20180118_125805_09000', 'MUSE_20180112_074526_40000', 'MUSE_20180120_122928_62000', 'MUSE_20180114_130936_76000', 'MUSE_20180114_071637_93000', 'MUSE_20180118_123709_10000', 'MUSE_20180118_171057_39000', 'MUSE_20180116_133635_17000', 'MUSE_20180118_132931_07000', 'MUSE_20180116_131926_45000', 'MUSE_20180115_125040_88000', 'MUSE_20180115_131246_23000', 'MUSE_20180113_074547_62000', 'MUSE_20180113_122854_82000', 'MUSE_20180116_132816_90000', 'MUSE_20180118_121907_42000', 'MUSE_20180116_122235_32000', 'MUSE_20180113_174458_77000', 'MUSE_20180113_121500_16000', 'MUSE_20180112_134236_01000', 'MUSE_20180116_130648_60000', 'MUSE_20180112_072012_70000', 'MUSE_20180115_125830_30000', 'MUSE_20180113_121117_56000', 'MUSE_20180112_075342_02000', 'MUSE_20180112_120157_95000', 'MUSE_20180114_075443_13000', 'MUSE_20180112_140146_87000', 'MUSE_20180119_175626_14000', 'MUSE_20180113_134346_41000', 'MUSE_20180118_181829_13000', 'MUSE_20180116_180826_52000', 'MUSE_20180116_122104_01000', 'MUSE_20180113_130059_44000', 'MUSE_20180112_125017_69000', 'MUSE_20180712_160541_17000', 'MUSE_20180118_181931_48000', 'MUSE_20180114_130703_72000', 'MUSE_20180116_171424_67000', 'MUSE_20180116_125502_83000', 'MUSE_20180113_171430_61000', 'MUSE_20180116_121019_29000', 'MUSE_20180114_132312_14000', 'MUSE_20180120_123031_44000', 'MUSE_20180114_065251_27000', 'MUSE_20180118_120315_95000', 'MUSE_20180113_135629_97000', 'MUSE_20180119_174946_45000', 'MUSE_20180115_125539_11000', 'MUSE_20180118_123006_35000', 'MUSE_20180114_131716_76000', 'MUSE_20180118_132633_06000', 'MUSE_20180118_120928_91000', 'MUSE_20180118_125036_12000', 'MUSE_20180114_171608_24000', 'MUSE_20180113_130144_09000', 'MUSE_20180114_125650_27000', 'MUSE_20180113_072020_33000', 'MUSE_20180118_181355_49000', 'MUSE_20180118_132742_74000', 'MUSE_20180113_182024_40000', 'MUSE_20180113_132520_90000', 'MUSE_20180113_135107_81000', 'MUSE_20180114_075725_63000', 'MUSE_20180112_133734_35000', 'MUSE_20180116_132626_80000', 'MUSE_20180120_122653_59000', 'MUSE_20180112_072638_57000', 'MUSE_20180114_071320_02000', 'MUSE_20180712_161452_78000', 'MUSE_20180118_133814_12000', 'MUSE_20180114_171123_93000', 'MUSE_20180119_173156_55000', 'MUSE_20180116_130525_69000', 'MUSE_20180712_160519_11000', 'MUSE_20180113_183354_42000', 'MUSE_20180112_121413_74000', 'MUSE_20180120_123500_76000', 'MUSE_20180116_180126_40000', 'MUSE_20180114_131110_39000', 'MUSE_20180119_174447_74000', 'MUSE_20180112_072147_78000', 'MUSE_20180116_181417_62000', 'MUSE_20180115_133059_09000', 'MUSE_20180112_073033_15000', 'MUSE_20180116_174737_32000', 'MUSE_20180116_120155_26000', 'MUSE_20180113_124211_31000', 'MUSE_20180116_132022_44000', 'MUSE_20180118_182054_75000', 'MUSE_20180113_134123_12000', 'MUSE_20180118_175217_36000', 'MUSE_20180115_120717_24000', 'MUSE_20180114_080217_23000', 'MUSE_20180113_133028_16000', 'MUSE_20180113_182530_94000', 'MUSE_20180113_171432_73000', 'MUSE_20180116_175122_19000', 'MUSE_20180116_125314_83000', 'MUSE_20180115_133726_94000', 'MUSE_20180118_173012_34000', 'MUSE_20180114_122000_94000', 'MUSE_20180118_181410_98000', 'MUSE_20180112_080048_27000', 'MUSE_20180119_174553_32000', 'MUSE_20180712_161243_36000', 'MUSE_20180118_172950_52000', 'MUSE_20180113_133529_43000', 'MUSE_20180113_132240_39000', 'MUSE_20180116_121325_28000', 'MUSE_20180112_134214_87000', 'MUSE_20180112_123219_61000', 'MUSE_20180114_172048_13000', 'MUSE_20180116_180636_67000', 'MUSE_20180115_132104_06000', 'MUSE_20180712_160549_80000', 'MUSE_20180114_170706_51000', 'MUSE_20180113_130918_28000', 'MUSE_20180120_123243_69000', 'MUSE_20180112_134625_25000', 'MUSE_20180114_073448_34000', 'MUSE_20180119_171227_72000', 'MUSE_20180113_123011_31000', 'MUSE_20180118_125516_50000', 'MUSE_20180112_121428_31000', 'MUSE_20180114_135034_29000', 'MUSE_20180114_121321_79000', 'MUSE_20180114_132520_96000', 'MUSE_20180112_124050_59000', 'MUSE_20180114_071043_95000', 'MUSE_20180112_134931_01000', 'MUSE_20180114_130107_04000', 'MUSE_20180118_122334_31000', 'MUSE_20180114_072105_73000', 'MUSE_20180112_122719_27000', 'MUSE_20180113_133247_29000', 'MUSE_20180114_074237_54000', 'MUSE_20180114_071624_59000', 'MUSE_20180112_074954_58000', 'MUSE_20180118_173859_06000', 'MUSE_20180112_130546_45000', 'MUSE_20180119_175248_44000', 'MUSE_20180118_173520_75000', 'MUSE_20180114_115319_24000', 'MUSE_20180118_174658_57000', 'MUSE_20180114_074001_87000', 'MUSE_20180113_130244_12000', 'MUSE_20180116_124626_93000', 'MUSE_20180113_071704_05000', 'MUSE_20180118_123456_37000', 'MUSE_20180112_122826_46000', 'MUSE_20180115_120631_25000', 'MUSE_20180113_074505_95000', 'MUSE_20180114_122737_26000', 'MUSE_20180119_172859_90000', 'MUSE_20180118_131943_18000', 'MUSE_20180116_122802_44000', 'MUSE_20180112_073017_72000', 'MUSE_20180118_124940_24000', 'MUSE_20180116_132355_29000', 'MUSE_20180114_134302_98000', 'MUSE_20180113_071807_45000', 'MUSE_20180116_125000_30000', 'MUSE_20180112_140539_13000', 'MUSE_20180112_122740_20000', 'MUSE_20180114_135441_04000', 'MUSE_20180114_125307_76000', 'MUSE_20180118_131121_67000', 'MUSE_20180114_074234_39000', 'MUSE_20180114_075609_51000', 'MUSE_20180115_134344_46000', 'MUSE_20180712_160644_48000', 'MUSE_20180114_071254_96000', 'MUSE_20180112_123631_91000', 'MUSE_20180118_123724_54000', 'MUSE_20180118_180900_74000', 'MUSE_20180119_170517_10000', 'MUSE_20180113_074340_23000', 'MUSE_20180114_125817_42000', 'MUSE_20180112_072928_89000', 'MUSE_20180118_125502_60000', 'MUSE_20180115_130434_25000', 'MUSE_20180120_123434_73000', 'MUSE_20180112_122848_44000', 'MUSE_20180115_133159_15000', 'MUSE_20180112_123912_27000', 'MUSE_20180113_115351_30000', 'MUSE_20180118_181933_59000', 'MUSE_20180113_123534_74000', 'MUSE_20180112_124347_83000', 'MUSE_20180116_121729_82000', 'MUSE_20180116_120311_84000', 'MUSE_20180118_123858_80000', 'MUSE_20180114_071249_68000', 'MUSE_20180115_131726_34000', 'MUSE_20180113_175925_65000', 'MUSE_20180114_171012_09000', 'MUSE_20180112_072625_25000', 'MUSE_20180111_165858_31000', 'MUSE_20180114_172144_96000', 'MUSE_20180114_115153_27000', 'MUSE_20180114_132337_08000', 'MUSE_20180112_140001_88000', 'MUSE_20180112_130742_09000', 'MUSE_20180114_072754_76000', 'MUSE_20180113_174205_27000', 'MUSE_20180114_124337_89000', 'MUSE_20180113_123235_45000', 'MUSE_20180115_131525_99000', 'MUSE_20180115_122822_42000', 'MUSE_20180120_122344_66000', 'MUSE_20180112_170433_86000', 'MUSE_20180114_171015_27000', 'MUSE_20180118_133733_52000', 'MUSE_20180116_175303_13000', 'MUSE_20180118_131302_32000', 'MUSE_20180116_121043_18000', 'MUSE_20180116_171615_43000', 'MUSE_20180113_132215_45000', 'MUSE_20180113_124113_39000', 'MUSE_20180116_124710_46000', 'MUSE_20180119_171058_32000', 'MUSE_20180116_124557_86000', 'MUSE_20180116_130256_07000', 'MUSE_20180113_185124_80000', 'MUSE_20180118_125950_04000', 'MUSE_20180118_132615_40000', 'MUSE_20180116_125339_74000', 'MUSE_20180118_135348_30000', 'MUSE_20180113_134943_45000', 'MUSE_20180118_170609_90000', 'MUSE_20180114_135101_39000', 'MUSE_20180113_072131_78000', 'MUSE_20180114_075115_58000', 'MUSE_20180114_071342_85000', 'MUSE_20180113_120118_61000', 'MUSE_20180115_121446_79000', 'MUSE_20180114_122916_73000', 'MUSE_20180118_180007_08000', 'MUSE_20180114_135456_73000', 'MUSE_20180113_184636_37000', 'MUSE_20180112_073518_49000', 'MUSE_20180115_125542_28000', 'MUSE_20180116_125400_54000', 'MUSE_20180113_134605_14000', 'MUSE_20180116_134106_17000', 'MUSE_20180118_124244_25000', 'MUSE_20180113_182847_72000', 'MUSE_20180116_125123_60000', 'MUSE_20180113_173911_32000', 'MUSE_20180120_123116_40000', 'MUSE_20180113_074514_00000', 'MUSE_20180113_183701_57000', 'MUSE_20180113_121900_05000', 'MUSE_20180119_173206_74000', 'MUSE_20180113_130941_39000', 'MUSE_20180118_181843_53000', 'MUSE_20180113_130840_78000', 'MUSE_20180114_123852_27000', 'MUSE_20180120_121709_09000', 'MUSE_20180113_182833_26000', 'MUSE_20180116_133633_04000', 'MUSE_20180113_130026_43000', 'MUSE_20180116_170111_54000', 'MUSE_20180113_183742_87000', 'MUSE_20180116_172115_09000', 'MUSE_20180113_125451_89000', 'MUSE_20180113_125841_44000', 'MUSE_20180116_131354_06000', 'MUSE_20180114_133500_43000', 'MUSE_20180113_131759_45000', 'MUSE_20180712_160050_63000', 'MUSE_20180116_134232_41000', 'MUSE_20180116_175137_79000', 'MUSE_20180118_181824_90000', 'MUSE_20180112_073744_44000', 'MUSE_20180712_160720_83000', 'MUSE_20180113_121539_22000', 'MUSE_20180112_071819_26000', 'MUSE_20180112_122338_81000', 'MUSE_20180118_132932_13000', 'MUSE_20180116_123818_84000', 'MUSE_20180112_121900_64000', 'MUSE_20180116_124349_69000', 'MUSE_20180115_132212_71000', 'MUSE_20180112_072454_70000', 'MUSE_20180115_133511_64000', 'MUSE_20180114_120213_12000', 'MUSE_20180114_065612_26000', 'MUSE_20180114_121618_07000', 'MUSE_20180116_125919_34000', 'MUSE_20180118_182137_50000', 'MUSE_20180114_075849_48000', 'MUSE_20180114_123951_68000', 'MUSE_20180114_065416_53000', 'MUSE_20180116_181043_32000', 'MUSE_20180116_171955_87000', 'MUSE_20180118_120100_21000', 'MUSE_20180112_120830_45000', 'MUSE_20180114_120551_79000', 'MUSE_20180118_130801_48000', 'MUSE_20180114_070335_85000', 'MUSE_20180114_074056_79000', 'MUSE_20180113_182202_20000', 'MUSE_20180113_132000_94000', 'MUSE_20180118_120323_39000', 'MUSE_20180113_171834_48000', 'MUSE_20180116_170247_45000', 'MUSE_20180114_130009_90000', 'MUSE_20180116_124410_54000', 'MUSE_20180115_125957_99000', 'MUSE_20180112_115323_71000', 'MUSE_20180114_124803_17000', 'MUSE_20180114_133202_20000', 'MUSE_20180114_075546_54000', 'MUSE_20180116_180125_35000', 'MUSE_20180113_120351_15000', 'MUSE_20180118_181227_13000', 'MUSE_20180112_073122_19000', 'MUSE_20180114_073732_61000', 'MUSE_20180113_183930_93000', 'MUSE_20180116_173459_00000', 'MUSE_20180116_122129_00000', 'MUSE_20180115_132908_97000', 'MUSE_20180112_131838_60000', 'MUSE_20180118_133011_60000', 'MUSE_20180119_171533_36000', 'MUSE_20180115_130817_26000', 'MUSE_20180113_120343_69000', 'MUSE_20180113_130414_04000', 'MUSE_20180112_071540_45000', 'MUSE_20180113_185657_67000', 'MUSE_20180114_121222_88000', 'MUSE_20180115_124924_85000', 'MUSE_20180118_173531_33000', 'MUSE_20180116_121858_21000', 'MUSE_20180114_122708_95000', 'MUSE_20180118_123005_28000', 'MUSE_20180112_135516_65000', 'MUSE_20180114_080300_82000', 'MUSE_20180113_121901_11000', 'MUSE_20180119_172855_67000', 'MUSE_20180113_174206_32000', 'MUSE_20180112_133534_74000', 'MUSE_20180113_080811_95000', 'MUSE_20180116_121428_61000', 'MUSE_20180112_074305_02000', 'MUSE_20180113_182621_77000', 'MUSE_20180116_130809_40000', 'MUSE_20180116_130711_41000', 'MUSE_20180116_180911_19000', 'MUSE_20180114_075508_10000', 'MUSE_20180112_120156_88000', 'MUSE_20180116_132412_81000', 'MUSE_20180114_072142_86000', 'MUSE_20180115_132222_89000', 'MUSE_20180116_180934_09000', 'MUSE_20180115_133308_88000', 'MUSE_20180114_125732_74000', 'MUSE_20180118_125834_95000', 'MUSE_20180116_123846_08000', 'MUSE_20180112_124233_35000', 'MUSE_20180112_072034_39000', 'MUSE_20180114_115321_33000', 'MUSE_20180114_121514_00000', 'MUSE_20180118_130919_34000', 'MUSE_20180114_133055_48000', 'MUSE_20180116_181056_67000', 'MUSE_20180114_125716_24000', 'MUSE_20180113_172722_14000', 'MUSE_20180712_160322_42000', 'MUSE_20180112_073037_40000', 'MUSE_20180115_133254_52000', 'MUSE_20180114_132432_11000', 'MUSE_20180115_125540_17000', 'MUSE_20180116_175406_46000', 'MUSE_20180113_080120_44000', 'MUSE_20180112_124736_63000', 'MUSE_20180114_131339_68000', 'MUSE_20180120_123342_70000', 'MUSE_20180118_122153_75000', 'MUSE_20180116_182018_65000', 'MUSE_20180120_121822_38000', 'MUSE_20180120_121936_45000', 'MUSE_20180112_130451_07000', 'MUSE_20180116_175400_14000', 'MUSE_20180112_133541_12000', 'MUSE_20180113_122650_75000', 'MUSE_20180112_123340_66000', 'MUSE_20180113_121439_77000', 'MUSE_20180113_125856_87000', 'MUSE_20180115_122303_52000', 'MUSE_20180115_132434_52000', 'MUSE_20180118_125140_45000', 'MUSE_20180114_073251_45000', 'MUSE_20180116_133409_79000', 'MUSE_20180118_133744_75000', 'MUSE_20180112_073053_96000', 'MUSE_20180118_181541_69000', 'MUSE_20180116_130043_34000', 'MUSE_20180113_171447_17000', 'MUSE_20180113_130453_49000', 'MUSE_20180119_172412_17000', 'MUSE_20180112_140030_75000', 'MUSE_20180118_173907_53000', 'MUSE_20180113_182337_11000', 'MUSE_20180114_122258_50000', 'MUSE_20180112_075111_43000', 'MUSE_20180112_165756_23000', 'MUSE_20180112_074337_14000', 'MUSE_20180118_180221_72000', 'MUSE_20180114_115357_17000', 'MUSE_20180114_065413_34000', 'MUSE_20180111_170143_58000', 'MUSE_20180118_125939_51000', 'MUSE_20180112_130454_22000', 'MUSE_20180116_120640_38000', 'MUSE_20180118_175156_43000', 'MUSE_20180114_115211_87000', 'MUSE_20180118_132146_67000', 'MUSE_20180116_180633_50000', 'MUSE_20180115_134808_94000', 'MUSE_20180114_172104_68000', 'MUSE_20180114_073933_71000', 'MUSE_20180119_173420_07000', 'MUSE_20180712_161023_66000', 'MUSE_20180113_072145_56000', 'MUSE_20180112_131934_51000', 'MUSE_20180115_120633_37000', 'MUSE_20180118_132559_95000', 'MUSE_20180116_171829_24000', 'MUSE_20180119_180303_70000', 'MUSE_20180114_122859_19000', 'MUSE_20180114_080251_27000', 'MUSE_20180116_133837_72000', 'MUSE_20180116_132222_53000', 'MUSE_20180112_170048_51000', 'MUSE_20180113_124018_54000', 'MUSE_20180114_114735_31000', 'MUSE_20180120_123214_40000', 'MUSE_20180120_121908_15000', 'MUSE_20180115_122342_85000', 'MUSE_20180114_071502_64000', 'MUSE_20180115_115612_05000', 'MUSE_20180116_170725_94000', 'MUSE_20180119_174405_31000', 'MUSE_20180113_132816_93000', 'MUSE_20180113_115657_48000', 'MUSE_20180113_133000_76000', 'MUSE_20180112_132033_72000', 'MUSE_20180113_122318_73000', 'MUSE_20180115_131206_56000', 'MUSE_20180114_070100_90000', 'MUSE_20180116_180332_31000', 'MUSE_20180115_124557_81000', 'MUSE_20180113_180126_99000', 'MUSE_20180118_180244_70000', 'MUSE_20180115_131737_90000', 'MUSE_20180113_072724_22000', 'MUSE_20180116_123305_90000', 'MUSE_20180112_165812_76000', 'MUSE_20180114_072347_29000', 'MUSE_20180115_120229_57000', 'MUSE_20180112_122734_87000', 'MUSE_20180113_124928_28000', 'MUSE_20180118_121733_85000', 'MUSE_20180114_074945_82000', 'MUSE_20180118_175237_22000', 'MUSE_20180116_170431_80000', 'MUSE_20180118_121024_74000', 'MUSE_20180119_170848_62000', 'MUSE_20180114_130830_41000', 'MUSE_20180118_123906_22000', 'MUSE_20180113_133817_64000', 'MUSE_20180118_122821_68000', 'MUSE_20180114_130608_95000', 'MUSE_20180112_072028_11000', 'MUSE_20180114_135444_30000', 'MUSE_20180120_121428_94000', 'MUSE_20180116_181843_97000', 'MUSE_20180114_070643_08000', 'MUSE_20180118_170628_57000', 'MUSE_20180112_132527_29000', 'MUSE_20180114_122821_86000', 'MUSE_20180114_065610_17000', 'MUSE_20180113_080054_14000', 'MUSE_20180112_165024_37000', 'MUSE_20180118_181436_12000', 'MUSE_20180118_174037_65000', 'MUSE_20180115_115954_65000', 'MUSE_20180112_122215_83000', 'MUSE_20180115_131807_62000', 'MUSE_20180113_125002_98000', 'MUSE_20180116_122125_82000', 'MUSE_20180114_123337_85000', 'MUSE_20180112_073352_26000', 'MUSE_20180113_122402_13000', 'MUSE_20180120_123522_52000', 'MUSE_20180112_074613_27000', 'MUSE_20180114_072450_54000', 'MUSE_20180112_132937_39000', 'MUSE_20180112_073035_25000', 'MUSE_20180119_173448_82000', 'MUSE_20180118_174900_19000', 'MUSE_20180118_174522_70000', 'MUSE_20180114_124220_22000', 'MUSE_20180118_125942_67000', 'MUSE_20180114_065935_50000', 'MUSE_20180115_115742_25000', 'MUSE_20180712_160658_97000', 'MUSE_20180119_171815_26000', 'MUSE_20180112_120624_24000', 'MUSE_20180114_071131_79000', 'MUSE_20180120_122622_31000', 'MUSE_20180118_134528_61000', 'MUSE_20180118_124818_03000', 'MUSE_20180113_121408_69000', 'MUSE_20180118_175608_74000', 'MUSE_20180113_131353_19000', 'MUSE_20180116_124621_68000', 'MUSE_20180116_120827_04000', 'MUSE_20180115_125420_42000', 'MUSE_20180119_172409_92000', 'MUSE_20180113_182534_08000', 'MUSE_20180113_184116_60000', 'MUSE_20180114_171606_10000', 'MUSE_20180118_133017_95000', 'MUSE_20180111_162949_41000', 'MUSE_20180114_115915_52000', 'MUSE_20180115_124707_74000', 'MUSE_20180118_120030_66000', 'MUSE_20180112_073247_96000', 'MUSE_20180113_182420_63000', 'MUSE_20180116_171422_51000', 'MUSE_20180114_131620_31000', 'MUSE_20180116_182307_66000', 'MUSE_20180114_130153_84000', 'MUSE_20180112_120711_75000', 'MUSE_20180712_161418_70000', 'MUSE_20180114_135311_12000', 'MUSE_20180116_130336_55000', 'MUSE_20180712_161307_55000', 'MUSE_20180116_132837_62000', 'MUSE_20180111_165331_91000', 'MUSE_20180112_133642_18000', 'MUSE_20180118_181916_04000', 'MUSE_20180118_134312_13000', 'MUSE_20180114_124343_20000', 'MUSE_20180116_122544_53000', 'MUSE_20180113_185204_08000', 'MUSE_20180118_121911_70000', 'MUSE_20180112_135639_72000', 'MUSE_20180113_171351_11000', 'MUSE_20180118_122849_69000', 'MUSE_20180112_073251_11000', 'MUSE_20180113_134918_30000', 'MUSE_20180118_175224_82000', 'MUSE_20180118_125451_40000', 'MUSE_20180115_122239_70000', 'MUSE_20180114_070742_16000', 'MUSE_20180112_134805_87000', 'MUSE_20180114_122811_39000', 'MUSE_20180115_124516_47000', 'MUSE_20180114_125042_20000', 'MUSE_20180114_070941_72000', 'MUSE_20180112_073749_76000', 'MUSE_20180114_132639_51000', 'MUSE_20180113_071815_89000', 'MUSE_20180116_125906_02000', 'MUSE_20180113_130836_54000', 'MUSE_20180118_170641_93000', 'MUSE_20180112_124524_39000', 'MUSE_20180113_073057_94000', 'MUSE_20180113_124600_21000', 'MUSE_20180113_130102_61000', 'MUSE_20180118_174427_43000', 'MUSE_20180113_072734_48000', 'MUSE_20180116_132419_16000', 'MUSE_20180113_072917_77000', 'MUSE_20180116_125332_36000', 'MUSE_20180115_131421_38000', 'MUSE_20180115_124324_35000', 'MUSE_20180112_125050_15000', 'MUSE_20180112_071510_00000', 'MUSE_20180114_114554_55000', 'MUSE_20180116_173809_79000', 'MUSE_20180118_135328_46000', 'MUSE_20180112_130417_12000', 'MUSE_20180112_133129_31000', 'MUSE_20180712_160211_84000', 'MUSE_20180118_134947_79000', 'MUSE_20180118_133247_94000', 'MUSE_20180113_121832_32000', 'MUSE_20180111_165602_42000', 'MUSE_20180113_135846_99000', 'MUSE_20180112_073336_82000', 'MUSE_20180113_182823_65000', 'MUSE_20180113_180734_64000', 'MUSE_20180112_073057_14000', 'MUSE_20180114_073612_36000', 'MUSE_20180120_121904_98000', 'MUSE_20180113_122731_13000', 'MUSE_20180118_125937_39000', 'MUSE_20180115_120209_90000', 'MUSE_20180113_123128_93000', 'MUSE_20180112_072933_13000', 'MUSE_20180114_073608_13000', 'MUSE_20180113_131026_47000', 'MUSE_20180116_125524_59000', 'MUSE_20180112_120452_81000', 'MUSE_20180116_131010_26000', 'MUSE_20180115_125341_13000', 'MUSE_20180118_135057_51000', 'MUSE_20180116_133436_92000', 'MUSE_20180114_074000_82000', 'MUSE_20180118_132352_89000', 'MUSE_20180111_160613_11000', 'MUSE_20180114_074648_89000', 'MUSE_20180113_130027_48000', 'MUSE_20180115_121103_72000', 'MUSE_20180113_132301_23000', 'MUSE_20180116_175154_41000', 'MUSE_20180119_171521_07000', 'MUSE_20180116_131134_68000', 'MUSE_20180119_172849_29000', 'MUSE_20180114_125015_16000', 'MUSE_20180113_130723_84000', 'MUSE_20180116_173835_75000', 'MUSE_20180116_120847_86000', 'MUSE_20180119_175604_13000', 'MUSE_20180114_171202_21000', 'MUSE_20180114_132308_97000', 'MUSE_20180112_125103_47000', 'MUSE_20180112_120349_90000', 'MUSE_20180116_173637_72000', 'MUSE_20180712_160837_20000', 'MUSE_20180118_121624_84000', 'MUSE_20180113_130227_61000', 'MUSE_20180114_071708_11000', 'MUSE_20180113_130145_15000', 'MUSE_20180112_123647_53000', 'MUSE_20180116_173651_07000', 'MUSE_20180114_072710_09000', 'MUSE_20180112_072006_38000', 'MUSE_20180119_180333_02000', 'MUSE_20180112_072325_81000', 'MUSE_20180116_174430_74000', 'MUSE_20180114_065435_11000', 'MUSE_20180118_122342_72000', 'MUSE_20180114_121201_13000', 'MUSE_20180112_124039_03000', 'MUSE_20180113_185121_66000', 'MUSE_20180113_182744_14000', 'MUSE_20180118_125825_82000', 'MUSE_20180116_132354_24000', 'MUSE_20180113_073333_63000', 'MUSE_20180114_132937_65000', 'MUSE_20180116_130651_75000', 'MUSE_20180113_135457_63000', 'MUSE_20180115_120529_99000', 'MUSE_20180113_123947_20000', 'MUSE_20180113_123906_75000', 'MUSE_20180118_122456_13000', 'MUSE_20180114_123555_90000', 'MUSE_20180112_124224_77000', 'MUSE_20180118_130402_98000', 'MUSE_20180113_125340_66000', 'MUSE_20180118_173613_78000', 'MUSE_20180113_183340_71000', 'MUSE_20180115_133141_52000', 'MUSE_20180116_124935_24000', 'MUSE_20180115_130733_86000', 'MUSE_20180116_133757_38000', 'MUSE_20180114_130229_77000', 'MUSE_20180118_131033_64000', 'MUSE_20180118_181458_01000', 'MUSE_20180114_122917_77000', 'MUSE_20180119_170728_42000', 'MUSE_20180112_165750_92000', 'MUSE_20180120_123002_86000', 'MUSE_20180116_133410_83000', 'MUSE_20180114_170345_99000', 'MUSE_20180120_120844_24000', 'MUSE_20180118_132057_16000', 'MUSE_20180114_132933_44000', 'MUSE_20180115_124245_97000', 'MUSE_20180113_121602_79000', 'MUSE_20180113_185211_58000', 'MUSE_20180118_171016_93000', 'MUSE_20180114_080117_34000', 'MUSE_20180112_074645_25000', 'MUSE_20180113_120247_25000', 'MUSE_20180118_175632_67000', 'MUSE_20180113_120032_22000', 'MUSE_20180112_122547_34000', 'MUSE_20180120_123811_50000', 'MUSE_20180115_132359_45000', 'MUSE_20180114_120612_44000', 'MUSE_20180120_122718_67000', 'MUSE_20180113_124536_75000', 'MUSE_20180118_175155_35000', 'MUSE_20180114_120835_57000', 'MUSE_20180116_121647_36000', 'MUSE_20180116_123242_07000', 'MUSE_20180118_182011_03000', 'MUSE_20180115_120334_88000', 'MUSE_20180116_170931_73000', 'MUSE_20180118_173013_40000', 'MUSE_20180113_130250_44000', 'MUSE_20180120_122946_28000', 'MUSE_20180118_170644_02000', 'MUSE_20180116_131250_52000', 'MUSE_20180120_121012_82000', 'MUSE_20180114_114754_98000', 'MUSE_20180113_184715_75000', 'MUSE_20180116_120812_67000', 'MUSE_20180119_174810_82000', 'MUSE_20180113_125046_50000', 'MUSE_20180112_071911_44000', 'MUSE_20180111_163338_46000', 'MUSE_20180712_160346_78000', 'MUSE_20180118_130538_64000', 'MUSE_20180118_131345_89000', 'MUSE_20180114_171005_60000', 'MUSE_20180112_130435_66000', 'MUSE_20180112_133542_15000', 'MUSE_20180118_171015_87000', 'MUSE_20180113_180753_23000', 'MUSE_20180116_120114_82000', 'MUSE_20180118_132012_45000', 'MUSE_20180116_130543_27000', 'MUSE_20180116_124956_02000', 'MUSE_20180113_132730_05000', 'MUSE_20180712_161101_86000', 'MUSE_20180114_135519_77000', 'MUSE_20180118_132324_62000', 'MUSE_20180114_132557_11000', 'MUSE_20180118_181827_00000', 'MUSE_20180114_120510_40000', 'MUSE_20180116_125308_49000', 'MUSE_20180114_124210_74000', 'MUSE_20180116_174412_13000', 'MUSE_20180112_130520_22000', 'MUSE_20180113_123955_73000', 'MUSE_20180116_121104_02000', 'MUSE_20180112_132320_21000', 'MUSE_20180712_160708_61000', 'MUSE_20180118_135213_14000', 'MUSE_20180115_125809_59000', 'MUSE_20180116_173528_10000', 'MUSE_20180118_132739_58000', 'MUSE_20180118_181324_05000', 'MUSE_20180113_073337_85000', 'MUSE_20180116_175424_11000', 'MUSE_20180113_135644_35000', 'MUSE_20180116_132534_66000', 'MUSE_20180113_183600_05000', 'MUSE_20180114_123344_16000', 'MUSE_20180114_071519_12000', 'MUSE_20180119_173520_23000', 'MUSE_20180112_131636_47000', 'MUSE_20180116_130329_14000', 'MUSE_20180112_122318_07000', 'MUSE_20180115_115842_30000', 'MUSE_20180112_123945_92000', 'MUSE_20180115_125100_62000', 'MUSE_20180113_134507_66000', 'MUSE_20180118_131512_08000', 'MUSE_20180113_115456_36000', 'MUSE_20180712_160706_47000', 'MUSE_20180119_180225_42000', 'MUSE_20180115_130657_63000', 'MUSE_20180114_135328_98000', 'MUSE_20180112_131657_23000', 'MUSE_20180118_170428_34000', 'MUSE_20180113_134637_12000', 'MUSE_20180116_133128_95000', 'MUSE_20180113_123745_77000', 'MUSE_20180118_123237_89000', 'MUSE_20180114_132534_30000', 'MUSE_20180116_132430_48000', 'MUSE_20180113_175357_74000', 'MUSE_20180116_122516_28000', 'MUSE_20180116_131903_44000', 'MUSE_20180119_175654_25000', 'MUSE_20180118_125946_88000', 'MUSE_20180112_132529_40000', 'MUSE_20180118_175130_30000', 'MUSE_20180115_132401_54000', 'MUSE_20180116_131609_03000', 'MUSE_20180114_070109_33000', 'MUSE_20180116_180121_13000', 'MUSE_20180112_071529_73000', 'MUSE_20180118_175257_00000', 'MUSE_20180118_175511_88000', 'MUSE_20180112_123942_73000', 'MUSE_20180118_180015_52000', 'MUSE_20180113_121921_85000', 'MUSE_20180113_182206_43000', 'MUSE_20180113_080240_61000', 'MUSE_20180112_132926_16000', 'MUSE_20180120_120822_42000', 'MUSE_20180118_172110_71000', 'MUSE_20180116_121916_81000', 'MUSE_20180114_123324_55000', 'MUSE_20180118_131427_48000', 'MUSE_20180115_124930_22000', 'MUSE_20180114_072817_73000', 'MUSE_20180116_123930_76000', 'MUSE_20180113_131413_98000', 'MUSE_20180114_132832_38000', 'MUSE_20180116_133314_64000', 'MUSE_20180115_131148_82000', 'MUSE_20180112_071904_03000', 'MUSE_20180112_124406_53000', 'MUSE_20180116_123132_94000', 'MUSE_20180112_075615_08000', 'MUSE_20180115_134437_50000', 'MUSE_20180118_175348_23000', 'MUSE_20180113_130029_58000', 'MUSE_20180116_134053_81000', 'MUSE_20180112_132509_74000', 'MUSE_20180116_133836_66000', 'MUSE_20180114_125604_70000', 'MUSE_20180112_122931_24000', 'MUSE_20180116_122105_06000', 'MUSE_20180118_181052_05000', 'MUSE_20180116_173550_05000', 'MUSE_20180114_131255_99000', 'MUSE_20180118_174220_38000', 'MUSE_20180114_125058_67000', 'MUSE_20180114_124628_79000', 'MUSE_20180112_140605_03000', 'MUSE_20180113_080813_02000', 'MUSE_20180111_170411_70000', 'MUSE_20180112_133802_49000', 'MUSE_20180114_130108_10000', 'MUSE_20180113_184200_44000', 'MUSE_20180113_133825_03000', 'MUSE_20180114_075941_59000', 'MUSE_20180118_124202_85000', 'MUSE_20180116_133517_43000', 'MUSE_20180118_131155_77000', 'MUSE_20180114_171057_34000', 'MUSE_20180114_172052_30000', 'MUSE_20180114_172013_66000', 'MUSE_20180112_133929_77000', 'MUSE_20180113_134005_48000', 'MUSE_20180115_133252_41000', 'MUSE_20180118_182028_61000', 'MUSE_20180113_133948_96000', 'MUSE_20180112_074423_86000', 'MUSE_20180112_072726_51000', 'MUSE_20180118_174532_23000', 'MUSE_20180115_130139_30000', 'MUSE_20180113_181802_68000', 'MUSE_20180115_120041_44000', 'MUSE_20180118_130456_02000', 'MUSE_20180114_130943_09000', 'MUSE_20180113_075147_58000', 'MUSE_20180115_122902_82000', 'MUSE_20180116_123033_93000', 'MUSE_20180112_133332_24000', 'MUSE_20180112_121052_02000', 'MUSE_20180115_120610_44000', 'MUSE_20180112_074552_47000', 'MUSE_20180118_122420_98000', 'MUSE_20180114_122710_04000', 'MUSE_20180113_180745_18000', 'MUSE_20180114_120536_36000', 'MUSE_20180113_174753_31000', 'MUSE_20180119_171850_59000', 'MUSE_20180112_073414_04000', 'MUSE_20180118_132612_23000', 'MUSE_20180118_125824_77000', 'MUSE_20180116_130009_24000', 'MUSE_20180118_172616_55000', 'MUSE_20180114_130248_47000', 'MUSE_20180116_131156_56000', 'MUSE_20180118_171246_91000', 'MUSE_20180120_120813_30000', 'MUSE_20180114_124153_17000', 'MUSE_20180115_121404_32000', 'MUSE_20180116_174556_81000', 'MUSE_20180112_123702_05000', 'MUSE_20180113_071932_50000', 'MUSE_20180114_070700_62000', 'MUSE_20180113_074914_40000', 'MUSE_20180113_181531_01000', 'MUSE_20180116_131029_02000', 'MUSE_20180113_121433_39000', 'MUSE_20180116_130019_40000', 'MUSE_20180114_065559_99000', 'MUSE_20180114_070144_47000', 'MUSE_20180116_181924_86000', 'MUSE_20180116_134244_21000', 'MUSE_20180113_123633_76000', 'MUSE_20180112_134053_01000', 'MUSE_20180114_132434_23000', 'MUSE_20180112_120957_34000', 'MUSE_20180120_123049_12000', 'MUSE_20180712_160109_50000', 'MUSE_20180113_080642_74000', 'MUSE_20180114_115140_65000', 'MUSE_20180115_131708_70000', 'MUSE_20180115_125818_03000', 'MUSE_20180118_124852_18000', 'MUSE_20180113_182208_55000', 'MUSE_20180112_074803_75000', 'MUSE_20180114_171155_89000', 'MUSE_20180712_160215_03000', 'MUSE_20180712_161058_66000', 'MUSE_20180118_180223_83000', 'MUSE_20180112_074828_92000', 'MUSE_20180115_131641_70000', 'MUSE_20180118_132703_37000', 'MUSE_20180119_173958_83000', 'MUSE_20180115_134339_16000', 'MUSE_20180116_173818_20000', 'MUSE_20180118_173530_29000', 'MUSE_20180112_123606_64000', 'MUSE_20180116_133849_43000', 'MUSE_20180118_134317_40000', 'MUSE_20180113_174151_95000', 'MUSE_20180114_121703_85000', 'MUSE_20180115_134217_88000', 'MUSE_20180119_171102_54000', 'MUSE_20180116_121115_25000', 'MUSE_20180112_075250_96000', 'MUSE_20180112_121235_71000', 'MUSE_20180112_141204_55000', 'MUSE_20180712_155842_73000', 'MUSE_20180111_164231_89000', 'MUSE_20180113_121557_52000', 'MUSE_20180114_171852_77000', 'MUSE_20180112_132212_76000', 'MUSE_20180114_131440_71000', 'MUSE_20180113_182542_46000', 'MUSE_20180113_183334_33000', 'MUSE_20180113_123024_89000', 'MUSE_20180113_071521_20000', 'MUSE_20180113_075444_59000', 'MUSE_20180114_121743_37000', 'MUSE_20180118_121651_25000', 'MUSE_20180116_122935_97000', 'MUSE_20180114_073241_26000', 'MUSE_20180113_182022_25000', 'MUSE_20180113_181751_07000', 'MUSE_20180118_172723_83000', 'MUSE_20180712_160704_31000', 'MUSE_20180114_130145_34000', 'MUSE_20180112_072648_07000', 'MUSE_20180114_121927_56000', 'MUSE_20180115_134831_81000', 'MUSE_20180113_131908_73000', 'MUSE_20180113_121727_59000', 'MUSE_20180115_133514_84000', 'MUSE_20180118_120032_79000', 'MUSE_20180112_122827_52000', 'MUSE_20180112_075839_63000', 'MUSE_20180114_171815_61000', 'MUSE_20180116_133532_87000', 'MUSE_20180120_123034_66000', 'MUSE_20180112_074440_54000', 'MUSE_20180119_171912_40000', 'MUSE_20180115_132330_29000', 'MUSE_20180118_180659_00000', 'MUSE_20180112_133714_40000', 'MUSE_20180115_122943_29000', 'MUSE_20180114_131538_85000', 'MUSE_20180114_134129_73000', 'MUSE_20180112_134151_78000', 'MUSE_20180112_165811_70000', 'MUSE_20180118_174613_85000', 'MUSE_20180114_123627_85000', 'MUSE_20180114_133018_15000', 'MUSE_20180113_171301_34000', 'MUSE_20180114_120537_40000', 'MUSE_20180114_080213_02000', 'MUSE_20180114_133139_27000', 'MUSE_20180114_135334_39000', 'MUSE_20180116_181614_16000', 'MUSE_20180114_131218_84000', 'MUSE_20180118_181122_26000', 'MUSE_20180112_132220_14000', 'MUSE_20180114_122852_84000', 'MUSE_20180115_120802_12000', 'MUSE_20180114_074543_49000', 'MUSE_20180114_132046_51000', 'MUSE_20180113_174816_08000', 'MUSE_20180115_134154_96000', 'MUSE_20180116_175123_27000', 'MUSE_20180118_133731_39000', 'MUSE_20180112_135717_94000', 'MUSE_20180114_132022_51000', 'MUSE_20180113_125004_02000', 'MUSE_20180118_125918_77000', 'MUSE_20180113_071703_01000', 'MUSE_20180118_120857_54000', 'MUSE_20180112_134623_09000', 'MUSE_20180119_174533_57000', 'MUSE_20180113_174813_98000', 'MUSE_20180118_132619_72000', 'MUSE_20180115_120600_85000', 'MUSE_20180118_174554_10000', 'MUSE_20180114_135256_53000', 'MUSE_20180712_160901_81000', 'MUSE_20180119_173215_21000', 'MUSE_20180114_131452_99000', 'MUSE_20180112_071450_34000', 'MUSE_20180113_075504_29000', 'MUSE_20180712_160816_27000', 'MUSE_20180115_130818_33000', 'MUSE_20180114_132138_20000', 'MUSE_20180113_122043_40000', 'MUSE_20180118_172621_82000', 'MUSE_20180113_123016_53000', 'MUSE_20180119_175822_67000', 'MUSE_20180111_160110_47000', 'MUSE_20180113_080538_65000', 'MUSE_20180114_070835_11000', 'MUSE_20180114_124239_91000', 'MUSE_20180114_071848_00000', 'MUSE_20180112_121258_19000', 'MUSE_20180115_120735_97000', 'MUSE_20180118_125139_41000', 'MUSE_20180112_165650_47000', 'MUSE_20180120_123220_77000', 'MUSE_20180114_123737_53000', 'MUSE_20180115_124153_91000', 'MUSE_20180113_130310_72000', 'MUSE_20180118_132745_92000', 'MUSE_20180113_133426_09000', 'MUSE_20180118_174919_90000', 'MUSE_20180114_124636_84000', 'MUSE_20180113_175712_02000', 'MUSE_20180113_080817_35000', 'MUSE_20180118_123643_08000', 'MUSE_20180116_170437_12000', 'MUSE_20180116_132537_83000', 'MUSE_20180120_121001_43000', 'MUSE_20180113_071731_17000', 'MUSE_20180116_130756_07000', 'MUSE_20180115_125352_37000', 'MUSE_20180114_071024_29000', 'MUSE_20180113_133359_93000', 'MUSE_20180115_125624_96000', 'MUSE_20180119_175631_43000', 'MUSE_20180712_160137_88000', 'MUSE_20180116_171203_72000', 'MUSE_20180712_155950_69000', 'MUSE_20180712_160000_27000', 'MUSE_20180113_134504_52000', 'MUSE_20180115_124051_76000', 'MUSE_20180113_131125_00000', 'MUSE_20180112_134110_84000', 'MUSE_20180114_122118_57000', 'MUSE_20180113_171840_82000', 'MUSE_20180116_124214_07000', 'MUSE_20180113_073336_79000', 'MUSE_20180112_073851_01000', 'MUSE_20180118_133447_17000', 'MUSE_20180115_132246_77000', 'MUSE_20180112_122717_13000', 'MUSE_20180116_175721_03000', 'MUSE_20180119_173134_70000', 'MUSE_20180118_171624_01000', 'MUSE_20180114_071659_69000', 'MUSE_20180113_121649_28000', 'MUSE_20180114_130040_74000', 'MUSE_20180119_172846_11000', 'MUSE_20180114_133028_35000', 'MUSE_20180114_121238_28000', 'MUSE_20180113_124052_67000', 'MUSE_20180712_160821_66000', 'MUSE_20180712_161050_08000', 'MUSE_20180116_132919_14000', 'MUSE_20180118_125246_85000', 'MUSE_20180113_185246_68000', 'MUSE_20180114_134317_49000', 'MUSE_20180113_071806_39000', 'MUSE_20180113_132340_54000', 'MUSE_20180119_171935_27000', 'MUSE_20180114_070038_99000', 'MUSE_20180114_135411_29000', 'MUSE_20180113_071950_07000', 'MUSE_20180113_133042_57000', 'MUSE_20180113_122021_63000', 'MUSE_20180119_174816_09000', 'MUSE_20180114_133504_72000', 'MUSE_20180114_130303_98000', 'MUSE_20180114_134931_53000', 'MUSE_20180113_135430_66000', 'MUSE_20180119_175255_90000', 'MUSE_20180118_134509_78000', 'MUSE_20180118_125711_99000', 'MUSE_20180119_175029_12000', 'MUSE_20180116_125503_87000', 'MUSE_20180114_171205_36000', 'MUSE_20180114_130004_66000', 'MUSE_20180114_133606_76000', 'MUSE_20180118_175401_58000', 'MUSE_20180116_132337_80000', 'MUSE_20180114_123651_72000', 'MUSE_20180113_173459_23000', 'MUSE_20180113_073619_08000', 'MUSE_20180113_125919_82000', 'MUSE_20180118_175338_72000', 'MUSE_20180113_125236_92000', 'MUSE_20180119_175247_36000', 'MUSE_20180118_122837_07000', 'MUSE_20180116_172037_86000', 'MUSE_20180118_172918_40000', 'MUSE_20180113_123750_01000', 'MUSE_20180112_140548_57000', 'MUSE_20180118_122713_16000', 'MUSE_20180116_174011_70000', 'MUSE_20180120_123325_15000', 'MUSE_20180111_165556_14000', 'MUSE_20180116_125415_06000', 'MUSE_20180118_122701_93000', 'MUSE_20180113_072036_85000', 'MUSE_20180118_130408_24000', 'MUSE_20180712_161057_59000', 'MUSE_20180114_122628_21000', 'MUSE_20180116_181204_08000', 'MUSE_20180116_131521_20000', 'MUSE_20180118_134548_32000', 'MUSE_20180120_120808_02000', 'MUSE_20180112_073721_59000', 'MUSE_20180115_131829_40000', 'MUSE_20180120_123013_64000', 'MUSE_20180113_171549_53000', 'MUSE_20180115_132257_32000', 'MUSE_20180119_175736_85000', 'MUSE_20180114_171334_53000', 'MUSE_20180118_175951_48000', 'MUSE_20180119_171828_63000', 'MUSE_20180118_133356_60000', 'MUSE_20180114_171046_14000', 'MUSE_20180114_071416_89000', 'MUSE_20180113_134128_44000', 'MUSE_20180118_131040_10000', 'MUSE_20180112_124325_94000', 'MUSE_20180712_160712_77000', 'MUSE_20180113_183723_26000', 'MUSE_20180112_132202_59000', 'MUSE_20180118_134507_65000', 'MUSE_20180114_134405_96000', 'MUSE_20180118_175824_96000', 'MUSE_20180114_134652_07000', 'MUSE_20180113_184244_40000', 'MUSE_20180119_171510_51000', 'MUSE_20180112_133902_78000', 'MUSE_20180113_171448_22000', 'MUSE_20180118_134549_36000', 'MUSE_20180113_184649_71000', 'MUSE_20180114_073103_54000', 'MUSE_20180113_123927_45000', 'MUSE_20180112_165410_17000', 'MUSE_20180116_180827_58000', 'MUSE_20180112_122518_90000', 'MUSE_20180111_160355_88000', 'MUSE_20180115_134903_89000', 'MUSE_20180115_121354_04000', 'MUSE_20180116_170107_29000', 'MUSE_20180116_130411_67000', 'MUSE_20180115_120525_79000', 'MUSE_20180112_134549_62000', 'MUSE_20180116_125101_82000', 'MUSE_20180118_173901_17000', 'MUSE_20180114_070614_86000', 'MUSE_20180113_125654_90000', 'MUSE_20180114_070243_70000', 'MUSE_20180114_072449_47000', 'MUSE_20180116_124412_65000', 'MUSE_20180118_130550_90000', 'MUSE_20180112_165123_34000', 'MUSE_20180113_074203_75000', 'MUSE_20180114_124825_00000', 'MUSE_20180114_075727_72000', 'MUSE_20180113_133946_84000', 'MUSE_20180113_135210_09000', 'MUSE_20180116_173718_14000', 'MUSE_20180114_130706_89000', 'MUSE_20180113_183634_23000', 'MUSE_20180114_075501_74000', 'MUSE_20180116_120846_80000', 'MUSE_20180114_114956_44000', 'MUSE_20180113_074456_41000', 'MUSE_20180115_124909_42000', 'MUSE_20180112_123120_72000', 'MUSE_20180113_072102_95000', 'MUSE_20180114_080256_57000', 'MUSE_20180114_065407_03000', 'MUSE_20180114_125022_54000', 'MUSE_20180118_170429_39000', 'MUSE_20180112_071353_51000', 'MUSE_20180113_123808_76000', 'MUSE_20180113_185451_66000', 'MUSE_20180115_133900_82000', 'MUSE_20180118_125051_70000', 'MUSE_20180114_124050_90000', 'MUSE_20180114_171625_97000', 'MUSE_20180113_185107_30000', 'MUSE_20180113_123832_68000', 'MUSE_20180118_132451_17000', 'MUSE_20180118_132007_19000', 'MUSE_20180116_132725_83000', 'MUSE_20180113_073154_66000', 'MUSE_20180114_070834_04000', 'MUSE_20180119_171851_64000', 'MUSE_20180115_132331_34000', 'MUSE_20180113_184550_73000', 'MUSE_20180115_131202_24000', 'MUSE_20180116_130047_54000', 'MUSE_20180118_121308_00000', 'MUSE_20180113_133246_22000', 'MUSE_20180112_073740_21000', 'MUSE_20180114_122914_62000', 'MUSE_20180112_120053_84000', 'MUSE_20180115_121243_70000', 'MUSE_20180114_070936_41000', 'MUSE_20180115_123148_98000', 'MUSE_20180118_174446_24000', 'MUSE_20180116_124718_51000', 'MUSE_20180115_123914_54000', 'MUSE_20180113_132821_14000', 'MUSE_20180114_070437_19000', 'MUSE_20180113_132201_00000', 'MUSE_20180112_122550_52000', 'MUSE_20180113_135850_17000', 'MUSE_20180114_125428_98000', 'MUSE_20180113_125232_68000', 'MUSE_20180114_132726_94000', 'MUSE_20180113_073758_40000', 'MUSE_20180116_130422_21000', 'MUSE_20180113_135926_14000', 'MUSE_20180113_121913_44000', 'MUSE_20180114_071318_98000', 'MUSE_20180114_071103_62000', 'MUSE_20180112_115805_68000', 'MUSE_20180112_165533_94000', 'MUSE_20180113_123639_03000', 'MUSE_20180119_174859_74000', 'MUSE_20180112_132856_04000', 'MUSE_20180120_120926_94000', 'MUSE_20180118_180923_59000', 'MUSE_20180113_080815_20000', 'MUSE_20180113_133047_84000', 'MUSE_20180114_121302_16000', 'MUSE_20180113_073120_84000', 'MUSE_20180118_171259_25000', 'MUSE_20180112_170850_77000', 'MUSE_20180114_114658_12000', 'MUSE_20180114_071541_03000', 'MUSE_20180115_123158_45000', 'MUSE_20180114_132313_19000', 'MUSE_20180113_130434_88000', 'MUSE_20180115_130844_43000', 'MUSE_20180115_134253_28000', 'MUSE_20180113_122546_36000', 'MUSE_20180118_172300_84000', 'MUSE_20180118_122519_09000', 'MUSE_20180118_124606_88000', 'MUSE_20180114_072159_37000', 'MUSE_20180118_135034_55000', 'MUSE_20180115_123540_50000', 'MUSE_20180114_123042_98000', 'MUSE_20180115_120838_33000', 'MUSE_20180116_131519_11000', 'MUSE_20180118_130259_74000', 'MUSE_20180114_135033_25000', 'MUSE_20180112_074425_98000', 'MUSE_20180118_131204_28000', 'MUSE_20180113_134248_22000', 'MUSE_20180115_132234_49000', 'MUSE_20180113_134414_65000', 'MUSE_20180115_131714_10000', 'MUSE_20180112_071304_61000', 'MUSE_20180114_073254_69000', 'MUSE_20180111_165535_34000', 'MUSE_20180114_072324_46000', 'MUSE_20180112_072952_76000', 'MUSE_20180116_171428_97000', 'MUSE_20180113_080554_25000', 'MUSE_20180113_080356_72000', 'MUSE_20180120_120932_21000', 'MUSE_20180112_165610_79000', 'MUSE_20180114_122602_12000', 'MUSE_20180113_174454_52000', 'MUSE_20180712_161228_84000', 'MUSE_20180114_072329_74000', 'MUSE_20180114_123408_04000', 'MUSE_20180113_182016_95000', 'MUSE_20180112_122323_33000', 'MUSE_20180113_174651_97000', 'MUSE_20180112_135720_04000', 'MUSE_20180114_074036_98000', 'MUSE_20180116_173807_70000', 'MUSE_20180112_121738_38000', 'MUSE_20180118_131250_05000', 'MUSE_20180113_075706_30000', 'MUSE_20180116_134047_46000', 'MUSE_20180113_124921_93000', 'MUSE_20180116_124659_88000', 'MUSE_20180113_133538_97000', 'MUSE_20180114_070914_56000', 'MUSE_20180119_174918_37000', 'MUSE_20180114_065535_12000', 'MUSE_20180113_173322_09000', 'MUSE_20180712_160141_16000', 'MUSE_20180114_132148_04000', 'MUSE_20180114_130244_20000', 'MUSE_20180111_170305_48000', 'MUSE_20180115_123515_40000', 'MUSE_20180114_120616_67000', 'MUSE_20180118_174603_26000', 'MUSE_20180113_123833_74000', 'MUSE_20180115_132326_08000', 'MUSE_20180120_122457_31000', 'MUSE_20180115_123723_24000', 'MUSE_20180118_135303_31000', 'MUSE_20180111_160357_99000', 'MUSE_20180712_161229_92000', 'MUSE_20180114_070659_57000', 'MUSE_20180115_120358_76000', 'MUSE_20180118_174021_15000', 'MUSE_20180118_124921_58000', 'MUSE_20180114_124701_86000', 'MUSE_20180113_181117_65000', 'MUSE_20180118_134754_46000', 'MUSE_20180112_133103_33000', 'MUSE_20180116_131206_75000', 'MUSE_20180118_172854_47000', 'MUSE_20180115_125425_71000', 'MUSE_20180114_114900_31000', 'MUSE_20180114_133532_17000', 'MUSE_20180119_175737_91000', 'MUSE_20180116_133437_96000', 'MUSE_20180115_115943_50000', 'MUSE_20180114_073028_32000', 'MUSE_20180112_140243_67000', 'MUSE_20180115_134639_68000', 'MUSE_20180118_170902_78000', 'MUSE_20180118_125429_50000', 'MUSE_20180114_114536_79000', 'MUSE_20180114_070727_67000', 'MUSE_20180113_131717_74000', 'MUSE_20180118_135120_38000', 'MUSE_20180111_164220_32000', 'MUSE_20180115_131019_50000', 'MUSE_20180112_124541_88000', 'MUSE_20180119_175949_08000', 'MUSE_20180113_125130_12000', 'MUSE_20180119_171857_99000', 'MUSE_20180115_131817_12000', 'MUSE_20180114_125140_26000', 'MUSE_20180113_072509_31000', 'MUSE_20180116_121102_97000', 'MUSE_20180118_172424_63000', 'MUSE_20180712_160535_83000', 'MUSE_20180114_065656_99000', 'MUSE_20180116_130705_08000', 'MUSE_20180114_124808_46000', 'MUSE_20180113_171700_29000', 'MUSE_20180116_123306_96000', 'MUSE_20180119_170759_34000', 'MUSE_20180116_132757_28000', 'MUSE_20180114_132935_54000', 'MUSE_20180114_170950_15000', 'MUSE_20180112_123624_38000', 'MUSE_20180114_130351_47000', 'MUSE_20180118_134421_67000', 'MUSE_20180118_174657_51000', 'MUSE_20180113_175440_28000', 'MUSE_20180120_122608_97000', 'MUSE_20180118_133644_62000', 'MUSE_20180114_133323_96000', 'MUSE_20180118_172109_65000', 'MUSE_20180115_124955_18000', 'MUSE_20180114_072013_53000', 'MUSE_20180120_120856_95000', 'MUSE_20180113_122905_46000', 'MUSE_20180119_170849_68000', 'MUSE_20180112_122434_16000', 'MUSE_20180114_131927_58000', 'MUSE_20180114_070209_57000', 'MUSE_20180112_133044_74000', 'MUSE_20180113_133638_25000', 'MUSE_20180112_122302_66000', 'MUSE_20180114_121805_24000', 'MUSE_20180118_133034_51000', 'MUSE_20180115_131815_00000', 'MUSE_20180116_124938_42000', 'MUSE_20180118_173839_14000', 'MUSE_20180120_122343_60000', 'MUSE_20180112_115334_38000', 'MUSE_20180119_175842_40000', 'MUSE_20180116_121052_30000', 'MUSE_20180112_120315_47000', 'MUSE_20180113_121652_45000', 'MUSE_20180114_134600_95000', 'MUSE_20180114_075504_92000', 'MUSE_20180118_170747_24000', 'MUSE_20180114_075953_86000', 'MUSE_20180113_133003_92000', 'MUSE_20180113_124929_33000', 'MUSE_20180116_130331_26000', 'MUSE_20180118_132137_58000', 'MUSE_20180115_122737_80000', 'MUSE_20180113_180837_80000', 'MUSE_20180112_170507_54000', 'MUSE_20180118_170508_87000', 'MUSE_20180114_071628_82000', 'MUSE_20180118_131838_89000', 'MUSE_20180113_115713_94000', 'MUSE_20180115_133417_35000', 'MUSE_20180118_182100_01000', 'MUSE_20180112_121143_30000', 'MUSE_20180115_122127_80000', 'MUSE_20180113_120445_94000', 'MUSE_20180113_120408_79000', 'MUSE_20180114_134138_84000', 'MUSE_20180113_130350_11000', 'MUSE_20180116_124336_30000', 'MUSE_20180115_130612_81000', 'MUSE_20180118_132136_52000', 'MUSE_20180118_182216_93000', 'MUSE_20180120_120935_38000', 'MUSE_20180114_134124_42000', 'MUSE_20180119_170539_92000', 'MUSE_20180115_120107_60000', 'MUSE_20180116_124229_63000', 'MUSE_20180113_120425_27000', 'MUSE_20180114_130047_21000', 'MUSE_20180118_132517_35000', 'MUSE_20180114_065428_80000', 'MUSE_20180712_161351_23000', 'MUSE_20180115_130551_82000', 'MUSE_20180112_134200_36000', 'MUSE_20180118_120324_43000', 'MUSE_20180118_123208_55000', 'MUSE_20180113_122448_87000', 'MUSE_20180112_120842_76000', 'MUSE_20180113_174700_39000', 'MUSE_20180118_173256_63000', 'MUSE_20180114_133919_28000', 'MUSE_20180114_131040_23000', 'MUSE_20180116_122749_13000', 'MUSE_20180114_132724_77000', 'MUSE_20180116_181912_47000', 'MUSE_20180115_132950_58000', 'MUSE_20180112_071045_16000', 'MUSE_20180118_180818_09000', 'MUSE_20180118_120924_68000', 'MUSE_20180113_174806_61000', 'MUSE_20180112_073032_10000', 'MUSE_20180112_120140_43000', 'MUSE_20180112_140854_79000', 'MUSE_20180113_184752_20000', 'MUSE_20180119_171813_15000', 'MUSE_20180112_133502_57000', 'MUSE_20180113_121753_32000', 'MUSE_20180113_125940_68000', 'MUSE_20180112_132005_39000', 'MUSE_20180112_165701_83000', 'MUSE_20180114_171221_83000', 'MUSE_20180116_131227_58000', 'MUSE_20180113_120141_76000', 'MUSE_20180114_124624_56000', 'MUSE_20180116_125946_45000', 'MUSE_20180113_133820_82000', 'MUSE_20180114_115852_75000', 'MUSE_20180113_131941_02000', 'MUSE_20180116_121524_57000', 'MUSE_20180114_172103_64000', 'MUSE_20180114_073609_21000', 'MUSE_20180118_173625_03000', 'MUSE_20180116_122553_67000', 'MUSE_20180118_171913_83000', 'MUSE_20180113_184952_29000', 'MUSE_20180118_125328_25000', 'MUSE_20180114_074926_01000', 'MUSE_20180115_120018_39000', 'MUSE_20180115_123317_23000', 'MUSE_20180113_133835_21000', 'MUSE_20180116_174830_09000', 'MUSE_20180112_074525_34000', 'MUSE_20180114_125348_42000', 'MUSE_20180115_134802_62000', 'MUSE_20180119_171939_48000', 'MUSE_20180116_133858_53000', 'MUSE_20180112_122630_97000', 'MUSE_20180114_114713_56000', 'MUSE_20180119_175028_05000', 'MUSE_20180712_161007_00000', 'MUSE_20180118_173420_74000', 'MUSE_20180114_133243_62000', 'MUSE_20180712_160452_75000', 'MUSE_20180113_121651_38000', 'MUSE_20180113_134821_88000', 'MUSE_20180118_125506_83000', 'MUSE_20180112_122851_65000', 'MUSE_20180118_122859_93000', 'MUSE_20180114_070407_81000', 'MUSE_20180113_072407_81000', 'MUSE_20180116_134022_57000', 'MUSE_20180113_133508_69000', 'MUSE_20180113_173227_09000', 'MUSE_20180116_120516_25000', 'MUSE_20180113_074057_49000', 'MUSE_20180712_160426_03000', 'MUSE_20180112_171256_60000', 'MUSE_20180112_120133_10000', 'MUSE_20180116_130357_28000', 'MUSE_20180119_180228_59000', 'MUSE_20180116_134336_23000', 'MUSE_20180116_131740_40000', 'MUSE_20180119_174538_86000', 'MUSE_20180113_173340_91000', 'MUSE_20180115_120256_63000', 'MUSE_20180116_131416_90000', 'MUSE_20180113_135009_53000', 'MUSE_20180114_124637_93000', 'MUSE_20180712_161440_84000', 'MUSE_20180118_180912_31000', 'MUSE_20180112_120200_04000', 'MUSE_20180712_160518_05000', 'MUSE_20180112_132048_08000', 'MUSE_20180113_075442_49000', 'MUSE_20180113_121600_67000', 'MUSE_20180115_121353_00000', 'MUSE_20180113_173721_60000', 'MUSE_20180113_123904_66000', 'MUSE_20180112_135137_64000', 'MUSE_20180118_121025_81000', 'MUSE_20180113_173849_52000', 'MUSE_20180112_073056_06000', 'MUSE_20180113_175418_41000', 'MUSE_20180113_115146_32000', 'MUSE_20180113_173622_20000', 'MUSE_20180118_134648_86000', 'MUSE_20180113_124702_02000', 'MUSE_20180113_171506_82000', 'MUSE_20180112_124558_38000', 'MUSE_20180115_130922_71000', 'MUSE_20180112_075436_76000', 'MUSE_20180114_121030_51000', 'MUSE_20180113_174154_06000', 'MUSE_20180118_120506_63000', 'MUSE_20180120_123310_75000', 'MUSE_20180115_122301_43000', 'MUSE_20180712_160335_48000', 'MUSE_20180118_171056_35000', 'MUSE_20180116_171851_18000', 'MUSE_20180114_172150_25000', 'MUSE_20180712_160617_14000', 'MUSE_20180114_080222_52000', 'MUSE_20180116_180331_25000', 'MUSE_20180112_132034_75000', 'MUSE_20180114_132305_82000', 'MUSE_20180118_130203_53000', 'MUSE_20180118_135048_94000', 'MUSE_20180113_074342_37000', 'MUSE_20180115_134728_60000', 'MUSE_20180112_133949_38000', 'MUSE_20180115_124535_03000', 'MUSE_20180113_125007_17000', 'MUSE_20180112_133420_61000', 'MUSE_20180116_173530_20000', 'MUSE_20180115_115656_69000', 'MUSE_20180115_120833_04000', 'MUSE_20180112_170403_31000', 'MUSE_20180113_115659_57000', 'MUSE_20180114_124354_38000', 'MUSE_20180116_122701_32000', 'MUSE_20180114_074042_29000', 'MUSE_20180116_172941_39000', 'MUSE_20180119_174351_95000', 'MUSE_20180114_120845_74000', 'MUSE_20180116_123824_18000', 'MUSE_20180114_115017_38000', 'MUSE_20180114_071956_00000', 'MUSE_20180118_170622_22000', 'MUSE_20180114_121811_63000', 'MUSE_20180112_120646_71000', 'MUSE_20180114_072753_72000', 'MUSE_20180116_171838_77000', 'MUSE_20180119_175150_22000', 'MUSE_20180118_122250_63000', 'MUSE_20180113_134819_79000', 'MUSE_20180112_122436_51000', 'MUSE_20180112_075509_17000', 'MUSE_20180115_124724_23000', 'MUSE_20180116_120416_94000', 'MUSE_20180114_120853_04000', 'MUSE_20180712_161352_31000', 'MUSE_20180116_180617_00000', 'MUSE_20180116_132556_48000', 'MUSE_20180112_074459_26000', 'MUSE_20180113_122732_19000', 'MUSE_20180116_182300_11000', 'MUSE_20180116_131111_74000', 'MUSE_20180112_075824_16000', 'MUSE_20180116_132523_46000', 'MUSE_20180112_071055_39000', 'MUSE_20180115_124240_67000', 'MUSE_20180112_122935_49000', 'MUSE_20180118_123622_35000', 'MUSE_20180113_130152_54000', 'MUSE_20180114_125054_44000', 'MUSE_20180115_133541_05000', 'MUSE_20180111_160654_63000', 'MUSE_20180112_170819_89000', 'MUSE_20180115_130305_99000', 'MUSE_20180118_173245_39000', 'MUSE_20180114_075027_74000', 'MUSE_20180112_121941_06000', 'MUSE_20180116_171323_40000', 'MUSE_20180116_134317_61000', 'MUSE_20180115_121448_92000', 'MUSE_20180118_122520_17000', 'MUSE_20180114_080031_12000', 'MUSE_20180116_125106_05000', 'MUSE_20180114_170417_67000', 'MUSE_20180111_163412_52000', 'MUSE_20180114_135353_32000', 'MUSE_20180114_132243_87000', 'MUSE_20180113_072720_01000', 'MUSE_20180113_123903_61000', 'MUSE_20180113_171743_95000', 'MUSE_20180114_123840_95000', 'MUSE_20180114_122219_81000', 'MUSE_20180116_124312_35000', 'MUSE_20180113_125017_35000', 'MUSE_20180114_070635_69000', 'MUSE_20180112_121142_25000', 'MUSE_20180116_132009_09000', 'MUSE_20180112_120220_76000', 'MUSE_20180113_180915_07000', 'MUSE_20180119_174404_25000', 'MUSE_20180116_124411_59000', 'MUSE_20180114_171628_09000', 'MUSE_20180113_122543_14000', 'MUSE_20180114_072141_81000', 'MUSE_20180116_131148_08000', 'MUSE_20180112_133417_38000', 'MUSE_20180114_075625_04000', 'MUSE_20180115_120611_50000', 'MUSE_20180116_121359_30000', 'MUSE_20180115_130225_55000', 'MUSE_20180112_170046_27000', 'MUSE_20180116_124608_34000', 'MUSE_20180114_134558_86000', 'MUSE_20180114_134104_78000', 'MUSE_20180112_124328_17000', 'MUSE_20180112_130525_64000', 'MUSE_20180112_140219_83000', 'MUSE_20180114_065654_87000', 'MUSE_20180112_124656_34000', 'MUSE_20180113_133720_81000', 'MUSE_20180114_070833_00000', 'MUSE_20180116_180816_82000', 'MUSE_20180116_120939_86000', 'MUSE_20180113_181826_95000', 'MUSE_20180114_134126_54000', 'MUSE_20180113_171837_63000', 'MUSE_20180112_132214_88000', 'MUSE_20180115_131040_20000', 'MUSE_20180114_122714_33000', 'MUSE_20180113_080256_05000', 'MUSE_20180114_073830_08000', 'MUSE_20180114_070348_17000', 'MUSE_20180116_170450_55000', 'MUSE_20180114_134724_10000', 'MUSE_20180113_122544_20000', 'MUSE_20180114_074720_85000', 'MUSE_20180115_131524_93000', 'MUSE_20180116_133908_01000'])"
      ]
     },
     "execution_count": 7,
     "metadata": {},
     "output_type": "execute_result"
    }
   ],
   "source": [
    "sujetos"
   ]
  },
  {
   "cell_type": "code",
   "execution_count": 12,
   "metadata": {},
   "outputs": [],
   "source": [
    "# Filtrar el DataFrame para obtener solo las filas de los archivos en selected_files\n",
    "selected_data_all = datos_diagnostics[datos_diagnostics['FileName'].isin(all_files)]\n",
    "\n",
    "# Crear un diccionario con 'FileName' como clave y 'Rhythm' como valor para fácil acceso\n",
    "file_rhythm_all = dict(zip(selected_data_all['FileName'], selected_data_all['Rhythm']))\n",
    "\n",
    "df_ECG = pd.DataFrame(columns=[\"Registro\", \"Estado\",\"VentricularRate\",\"AtrialRate\",\"QRSCount\",\"systole_duration\",\"diastole_duration\",\"systole_diastole_ratio\"])\n",
    "# df_ECG = pd.DataFrame(columns=[\"Registro\", \"Estado\",\"VentricularRate\",\"AtrialRate\",\"QRSCount\",\"QRSDuration\",\"QTInterval\",\"qt_corrected\",\"systole_duration\",\"diastole_duration\",\"systole_diastole_ratio\"])\n"
   ]
  },
  {
   "cell_type": "code",
   "execution_count": 23,
   "metadata": {},
   "outputs": [
    {
     "name": "stdout",
     "output_type": "stream",
     "text": [
      "Error procesando el archivo MUSE_20180114_071341_77000: operands could not be broadcast together with shapes (10,) (9,) \n",
      "Error procesando el archivo MUSE_20180113_121039_40000: cannot convert float NaN to integer\n",
      "Error procesando el archivo MUSE_20180114_124930_50000: cannot convert float NaN to integer\n",
      "Error procesando el archivo MUSE_20180116_173718_14000: integer division or modulo by zero\n",
      "                     Registro Estado  VentricularRate  AtrialRate QRSCount  \\\n",
      "0      MUSE_20180113_171327_2   AFIB       117.085863         NaN       19   \n",
      "1      MUSE_20180112_073319_2     SB        51.698671   51.673228        8   \n",
      "2      MUSE_20180113_121940_4     SB        53.309640   53.297801        9   \n",
      "3      MUSE_20180112_120347_7     SB        56.617127   56.590427        9   \n",
      "4      MUSE_20180114_075026_6   AFIB        95.703956   95.379398       16   \n",
      "...                       ...    ...              ...         ...      ...   \n",
      "11489  MUSE_20180114_134724_1     SB        56.035489   56.022409        9   \n",
      "11490  MUSE_20180113_122544_2     SB        55.363322   55.337791        9   \n",
      "11491  MUSE_20180114_074720_8     SB        56.939502   56.939502        9   \n",
      "11492  MUSE_20180115_131524_9   AFIB        92.633436   93.729078       15   \n",
      "11493  MUSE_20180116_133908_0     SB        56.377731   56.377731        9   \n",
      "\n",
      "       systole_duration  diastole_duration systole_diastole_ratio  \\\n",
      "0                 2.930              6.492               0.451325   \n",
      "1                 2.978              5.518               0.539688   \n",
      "2                 3.170              5.836                0.54318   \n",
      "3                 3.126              5.698               0.548614   \n",
      "4                 4.508              4.898               0.920376   \n",
      "...                 ...                ...                    ...   \n",
      "11489             3.498              5.458               0.640894   \n",
      "11490             2.998              5.674               0.528375   \n",
      "11491             2.418              6.288               0.384542   \n",
      "11492             3.738              5.332                0.70105   \n",
      "11493             3.114              5.748               0.541754   \n",
      "\n",
      "       QRSDuration  QTInterval  qt_corrected  \n",
      "0              NaN         NaN           NaN  \n",
      "1              NaN         NaN           NaN  \n",
      "2              NaN         NaN           NaN  \n",
      "3              NaN         NaN           NaN  \n",
      "4              NaN         NaN           NaN  \n",
      "...            ...         ...           ...  \n",
      "11489          NaN         NaN           NaN  \n",
      "11490          NaN         NaN           NaN  \n",
      "11491          NaN         NaN           NaN  \n",
      "11492          NaN         NaN           NaN  \n",
      "11493          NaN         NaN           NaN  \n",
      "\n",
      "[11494 rows x 11 columns]\n"
     ]
    }
   ],
   "source": [
    "for archivo in sujetos:\n",
    "    try:\n",
    "        # Convertir a tipo numérico si es necesario y manejar NaN\n",
    "        dato = datos_II_ecg[archivo][1:].astype(float).interpolate().fillna(method='bfill').fillna(method='ffill')\n",
    "        \n",
    "        # Procesar la señal ECG\n",
    "        Processed_signals, info = nk.ecg_process(dato, sampling_rate=fs)\n",
    "        \n",
    "        # Calcular los picos R y manejar errores\n",
    "        picos_R = info.get('ECG_R_Peaks', [])\n",
    "        if len(picos_R) < 2:\n",
    "            raise ValueError(\"No se detectaron suficientes picos R para calcular la frecuencia ventricular.\")\n",
    "        intervalos_RR = np.diff(picos_R) / fs\n",
    "        VentricularRate = 60 / np.mean(intervalos_RR) if len(intervalos_RR) > 0 else np.nan\n",
    "        \n",
    "        # Calcular los picos P y manejar errores\n",
    "        picos_P = info.get('ECG_P_Peaks', [])\n",
    "        if len(picos_P) < 2:\n",
    "            AtrialRate = np.nan\n",
    "        else:\n",
    "            picos_P = pd.Series(picos_P).interpolate().fillna(np.nan).values\n",
    "            intervalos_P = np.diff(picos_P) / fs\n",
    "            AtrialRate = 60 / np.mean(intervalos_P) if len(intervalos_P) > 0 else np.nan\n",
    "\n",
    "        # Calcular la cantidad de complejos QRS\n",
    "        QRSCount = len(picos_R)\n",
    "        \n",
    "        # Calcular la duración promedio del QRS\n",
    "        Q_onsets = np.array(info.get(\"ECG_Q_Peaks\", []))\n",
    "        Q_offsets = np.array(info.get(\"ECG_R_Offsets\", []))\n",
    "        if len(Q_onsets) > 0 and len(Q_offsets) > 0:\n",
    "            QRS_durations = (Q_offsets - Q_onsets) / fs\n",
    "            QRSDuration = np.mean(QRS_durations)\n",
    "        else:\n",
    "            QRSDuration = np.nan\n",
    "        \n",
    "        # Calcular el intervalo QT y el QT corregido\n",
    "        T_offsets = np.array(info.get(\"ECG_T_Offsets\", []))\n",
    "        if len(Q_onsets) > 0 and len(T_offsets) > 0:\n",
    "            QT_intervals = (T_offsets - Q_onsets) / fs\n",
    "            QTInterval = np.mean(QT_intervals)\n",
    "            qt_corrected = QTInterval / np.sqrt(np.mean(intervalos_RR)) if len(intervalos_RR) > 0 else np.nan\n",
    "        else:\n",
    "            QTInterval = np.nan\n",
    "            qt_corrected = np.nan\n",
    "        \n",
    "        # Calcular las fases ventriculares\n",
    "        fases_ventriculares = Processed_signals[\"ECG_Phase_Ventricular\"].values\n",
    "        conteo_sistole = len(fases_ventriculares[fases_ventriculares == 1])\n",
    "        conteo_diastole = len(fases_ventriculares[fases_ventriculares == 0])\n",
    "        systole_duration = conteo_sistole / fs if conteo_sistole > 0 else np.nan\n",
    "        diastole_duration = conteo_diastole / fs if conteo_diastole > 0 else np.nan\n",
    "        systole_diastole_ratio = systole_duration / diastole_duration if diastole_duration > 0 else np.nan\n",
    "    \n",
    "    except Exception as e:\n",
    "        # Manejar errores asignando NaN a todas las variables\n",
    "        print(f\"Error procesando el archivo {archivo}: {e}\")\n",
    "        VentricularRate = AtrialRate = QRSCount = QRSDuration = QTInterval = qt_corrected = systole_duration = diastole_duration = systole_diastole_ratio = np.nan\n",
    "    \n",
    "    # Guardar los resultados en el DataFrame\n",
    "    nombre_sujeto = archivo[:-4]  # Nombre del sujeto (sin extensión .csv)\n",
    "    estado = file_rhythm_all.get(archivo, \"Unknown\")  # Estado del sujeto\n",
    "    \n",
    "    df_ECG = pd.concat([\n",
    "        df_ECG,\n",
    "        pd.DataFrame({\n",
    "            'Registro': [nombre_sujeto],\n",
    "            'Estado': [estado],\n",
    "            \"VentricularRate\": [VentricularRate],\n",
    "            \"AtrialRate\": [AtrialRate],\n",
    "            \"QRSCount\": [QRSCount],\n",
    "            \"QRSDuration\": [QRSDuration],\n",
    "            \"QTInterval\": [QTInterval],\n",
    "            \"qt_corrected\": [qt_corrected],\n",
    "            \"systole_duration\": [systole_duration],\n",
    "            \"diastole_duration\": [diastole_duration],\n",
    "            \"systole_diastole_ratio\": [systole_diastole_ratio]\n",
    "        })\n",
    "    ], ignore_index=True)\n",
    "\n",
    "# print(df_ECG)\n"
   ]
  },
  {
   "cell_type": "code",
   "execution_count": null,
   "metadata": {},
   "outputs": [],
   "source": [
    "df_ECG.drop([\"QRSDuration\"], axis=1, inplace=True)\n",
    "df_ECG.drop([\"QTInterval\"], axis=1, inplace=True)\n",
    "df_ECG.drop([\"qt_corrected\"], axis=1, inplace=True)"
   ]
  },
  {
   "cell_type": "code",
   "execution_count": 60,
   "metadata": {},
   "outputs": [
    {
     "data": {
      "text/html": [
       "<div>\n",
       "<style scoped>\n",
       "    .dataframe tbody tr th:only-of-type {\n",
       "        vertical-align: middle;\n",
       "    }\n",
       "\n",
       "    .dataframe tbody tr th {\n",
       "        vertical-align: top;\n",
       "    }\n",
       "\n",
       "    .dataframe thead th {\n",
       "        text-align: right;\n",
       "    }\n",
       "</style>\n",
       "<table border=\"1\" class=\"dataframe\">\n",
       "  <thead>\n",
       "    <tr style=\"text-align: right;\">\n",
       "      <th></th>\n",
       "      <th>Registro</th>\n",
       "      <th>Estado</th>\n",
       "      <th>VentricularRate</th>\n",
       "      <th>AtrialRate</th>\n",
       "      <th>QRSCount</th>\n",
       "      <th>systole_duration</th>\n",
       "      <th>diastole_duration</th>\n",
       "      <th>systole_diastole_ratio</th>\n",
       "    </tr>\n",
       "  </thead>\n",
       "  <tbody>\n",
       "    <tr>\n",
       "      <th>0</th>\n",
       "      <td>MUSE_20180113_171327_2</td>\n",
       "      <td>AFIB</td>\n",
       "      <td>117.085863</td>\n",
       "      <td>NaN</td>\n",
       "      <td>19.0</td>\n",
       "      <td>2.930</td>\n",
       "      <td>6.492</td>\n",
       "      <td>0.451325</td>\n",
       "    </tr>\n",
       "    <tr>\n",
       "      <th>1</th>\n",
       "      <td>MUSE_20180112_073319_2</td>\n",
       "      <td>SB</td>\n",
       "      <td>51.698671</td>\n",
       "      <td>51.673228</td>\n",
       "      <td>8.0</td>\n",
       "      <td>2.978</td>\n",
       "      <td>5.518</td>\n",
       "      <td>0.539688</td>\n",
       "    </tr>\n",
       "    <tr>\n",
       "      <th>2</th>\n",
       "      <td>MUSE_20180113_121940_4</td>\n",
       "      <td>SB</td>\n",
       "      <td>53.309640</td>\n",
       "      <td>53.297801</td>\n",
       "      <td>9.0</td>\n",
       "      <td>3.170</td>\n",
       "      <td>5.836</td>\n",
       "      <td>0.543180</td>\n",
       "    </tr>\n",
       "    <tr>\n",
       "      <th>3</th>\n",
       "      <td>MUSE_20180112_120347_7</td>\n",
       "      <td>SB</td>\n",
       "      <td>56.617127</td>\n",
       "      <td>56.590427</td>\n",
       "      <td>9.0</td>\n",
       "      <td>3.126</td>\n",
       "      <td>5.698</td>\n",
       "      <td>0.548614</td>\n",
       "    </tr>\n",
       "    <tr>\n",
       "      <th>4</th>\n",
       "      <td>MUSE_20180114_075026_6</td>\n",
       "      <td>AFIB</td>\n",
       "      <td>95.703956</td>\n",
       "      <td>95.379398</td>\n",
       "      <td>16.0</td>\n",
       "      <td>4.508</td>\n",
       "      <td>4.898</td>\n",
       "      <td>0.920376</td>\n",
       "    </tr>\n",
       "  </tbody>\n",
       "</table>\n",
       "</div>"
      ],
      "text/plain": [
       "                 Registro Estado  VentricularRate  AtrialRate  QRSCount  \\\n",
       "0  MUSE_20180113_171327_2   AFIB       117.085863         NaN      19.0   \n",
       "1  MUSE_20180112_073319_2     SB        51.698671   51.673228       8.0   \n",
       "2  MUSE_20180113_121940_4     SB        53.309640   53.297801       9.0   \n",
       "3  MUSE_20180112_120347_7     SB        56.617127   56.590427       9.0   \n",
       "4  MUSE_20180114_075026_6   AFIB        95.703956   95.379398      16.0   \n",
       "\n",
       "   systole_duration  diastole_duration  systole_diastole_ratio  \n",
       "0             2.930              6.492                0.451325  \n",
       "1             2.978              5.518                0.539688  \n",
       "2             3.170              5.836                0.543180  \n",
       "3             3.126              5.698                0.548614  \n",
       "4             4.508              4.898                0.920376  "
      ]
     },
     "execution_count": 60,
     "metadata": {},
     "output_type": "execute_result"
    }
   ],
   "source": [
    "df_ECG.head()"
   ]
  },
  {
   "cell_type": "code",
   "execution_count": 52,
   "metadata": {},
   "outputs": [
    {
     "data": {
      "text/plain": [
       "Index(['Registro', 'Estado', 'VentricularRate', 'AtrialRate', 'QRSCount',\n",
       "       'systole_duration', 'diastole_duration', 'systole_diastole_ratio',\n",
       "       'QRSDuration', 'QTInterval', 'qt_corrected'],\n",
       "      dtype='object')"
      ]
     },
     "execution_count": 52,
     "metadata": {},
     "output_type": "execute_result"
    }
   ],
   "source": [
    "df_ECG.columns"
   ]
  },
  {
   "cell_type": "code",
   "execution_count": null,
   "metadata": {},
   "outputs": [],
   "source": [
    "# df_ECG.to_excel(\"Dataframe_ecg.xlsx\", index=False)"
   ]
  },
  {
   "cell_type": "markdown",
   "metadata": {},
   "source": [
    "6. Crear una rutina que aplique sobre todos los archivos de la base de datos la rutina 5 y almacene los resultados en un dataframe:"
   ]
  },
  {
   "cell_type": "code",
   "execution_count": 105,
   "metadata": {},
   "outputs": [],
   "source": [
    "ruta_base_datos_p3=\"./datos/Dataframe_P3.xlsx\"\n",
    "df_p3 = pd.read_excel(ruta_base_datos_p3)"
   ]
  },
  {
   "cell_type": "code",
   "execution_count": 106,
   "metadata": {},
   "outputs": [],
   "source": [
    "datos_diagnostics = datos_diagnostics.rename(columns={'FileName': 'Registro'})"
   ]
  },
  {
   "cell_type": "code",
   "execution_count": 107,
   "metadata": {},
   "outputs": [],
   "source": [
    "df_diagnostics_2merge= datos_diagnostics[[\"Registro\",\"Beat\",\"PatientAge\",\"Gender\"]]\n",
    "df_p3_2merge= df_p3[[\"Registro\",\"fMP\"]]"
   ]
  },
  {
   "cell_type": "code",
   "execution_count": 109,
   "metadata": {},
   "outputs": [
    {
     "name": "stderr",
     "output_type": "stream",
     "text": [
      "C:\\Users\\crist\\AppData\\Local\\Temp\\ipykernel_12220\\2861712915.py:1: SettingWithCopyWarning: \n",
      "A value is trying to be set on a copy of a slice from a DataFrame.\n",
      "Try using .loc[row_indexer,col_indexer] = value instead\n",
      "\n",
      "See the caveats in the documentation: https://pandas.pydata.org/pandas-docs/stable/user_guide/indexing.html#returning-a-view-versus-a-copy\n",
      "  df_diagnostics_2merge['Registro'] = df_diagnostics_2merge['Registro'].str.replace(r'_(\\d*?)0+$', r'_\\1', regex=True)\n",
      "C:\\Users\\crist\\AppData\\Local\\Temp\\ipykernel_12220\\2861712915.py:2: SettingWithCopyWarning: \n",
      "A value is trying to be set on a copy of a slice from a DataFrame.\n",
      "Try using .loc[row_indexer,col_indexer] = value instead\n",
      "\n",
      "See the caveats in the documentation: https://pandas.pydata.org/pandas-docs/stable/user_guide/indexing.html#returning-a-view-versus-a-copy\n",
      "  df_diagnostics_2merge['Registro'] = df_diagnostics_2merge['Registro'].str.replace(r'_(\\d)(\\d+)$', r'_\\1', regex=True)\n"
     ]
    }
   ],
   "source": [
    "df_diagnostics_2merge['Registro'] = df_diagnostics_2merge['Registro'].str.replace(r'_(\\d*?)0+$', r'_\\1', regex=True)\n",
    "df_diagnostics_2merge['Registro'] = df_diagnostics_2merge['Registro'].str.replace(r'_(\\d)(\\d+)$', r'_\\1', regex=True)"
   ]
  },
  {
   "cell_type": "code",
   "execution_count": 110,
   "metadata": {},
   "outputs": [
    {
     "data": {
      "text/html": [
       "<div>\n",
       "<style scoped>\n",
       "    .dataframe tbody tr th:only-of-type {\n",
       "        vertical-align: middle;\n",
       "    }\n",
       "\n",
       "    .dataframe tbody tr th {\n",
       "        vertical-align: top;\n",
       "    }\n",
       "\n",
       "    .dataframe thead th {\n",
       "        text-align: right;\n",
       "    }\n",
       "</style>\n",
       "<table border=\"1\" class=\"dataframe\">\n",
       "  <thead>\n",
       "    <tr style=\"text-align: right;\">\n",
       "      <th></th>\n",
       "      <th>Registro</th>\n",
       "      <th>Beat</th>\n",
       "      <th>PatientAge</th>\n",
       "      <th>Gender</th>\n",
       "    </tr>\n",
       "  </thead>\n",
       "  <tbody>\n",
       "    <tr>\n",
       "      <th>0</th>\n",
       "      <td>MUSE_20180113_171327_2</td>\n",
       "      <td>RBBB TWC</td>\n",
       "      <td>85</td>\n",
       "      <td>MALE</td>\n",
       "    </tr>\n",
       "    <tr>\n",
       "      <th>1</th>\n",
       "      <td>MUSE_20180112_073319_2</td>\n",
       "      <td>TWC</td>\n",
       "      <td>59</td>\n",
       "      <td>FEMALE</td>\n",
       "    </tr>\n",
       "    <tr>\n",
       "      <th>3</th>\n",
       "      <td>MUSE_20180113_121940_4</td>\n",
       "      <td>NONE</td>\n",
       "      <td>66</td>\n",
       "      <td>MALE</td>\n",
       "    </tr>\n",
       "    <tr>\n",
       "      <th>5</th>\n",
       "      <td>MUSE_20180112_120347_7</td>\n",
       "      <td>NONE</td>\n",
       "      <td>46</td>\n",
       "      <td>FEMALE</td>\n",
       "    </tr>\n",
       "    <tr>\n",
       "      <th>6</th>\n",
       "      <td>MUSE_20180114_075026_6</td>\n",
       "      <td>TWC</td>\n",
       "      <td>80</td>\n",
       "      <td>FEMALE</td>\n",
       "    </tr>\n",
       "  </tbody>\n",
       "</table>\n",
       "</div>"
      ],
      "text/plain": [
       "                 Registro      Beat  PatientAge  Gender\n",
       "0  MUSE_20180113_171327_2  RBBB TWC          85    MALE\n",
       "1  MUSE_20180112_073319_2       TWC          59  FEMALE\n",
       "3  MUSE_20180113_121940_4      NONE          66    MALE\n",
       "5  MUSE_20180112_120347_7      NONE          46  FEMALE\n",
       "6  MUSE_20180114_075026_6       TWC          80  FEMALE"
      ]
     },
     "execution_count": 110,
     "metadata": {},
     "output_type": "execute_result"
    }
   ],
   "source": [
    "df_diagnostics_2merge.head()"
   ]
  },
  {
   "cell_type": "code",
   "execution_count": 112,
   "metadata": {},
   "outputs": [
    {
     "data": {
      "text/html": [
       "<div>\n",
       "<style scoped>\n",
       "    .dataframe tbody tr th:only-of-type {\n",
       "        vertical-align: middle;\n",
       "    }\n",
       "\n",
       "    .dataframe tbody tr th {\n",
       "        vertical-align: top;\n",
       "    }\n",
       "\n",
       "    .dataframe thead th {\n",
       "        text-align: right;\n",
       "    }\n",
       "</style>\n",
       "<table border=\"1\" class=\"dataframe\">\n",
       "  <thead>\n",
       "    <tr style=\"text-align: right;\">\n",
       "      <th></th>\n",
       "      <th>Registro</th>\n",
       "      <th>fMP</th>\n",
       "    </tr>\n",
       "  </thead>\n",
       "  <tbody>\n",
       "    <tr>\n",
       "      <th>0</th>\n",
       "      <td>MUSE_20180113_171327_2</td>\n",
       "      <td>0.488281</td>\n",
       "    </tr>\n",
       "    <tr>\n",
       "      <th>1</th>\n",
       "      <td>MUSE_20180112_073319_2</td>\n",
       "      <td>0.976562</td>\n",
       "    </tr>\n",
       "    <tr>\n",
       "      <th>2</th>\n",
       "      <td>MUSE_20180113_121940_4</td>\n",
       "      <td>3.417969</td>\n",
       "    </tr>\n",
       "    <tr>\n",
       "      <th>3</th>\n",
       "      <td>MUSE_20180112_120347_7</td>\n",
       "      <td>0.976562</td>\n",
       "    </tr>\n",
       "    <tr>\n",
       "      <th>4</th>\n",
       "      <td>MUSE_20180114_075026_6</td>\n",
       "      <td>4.394531</td>\n",
       "    </tr>\n",
       "  </tbody>\n",
       "</table>\n",
       "</div>"
      ],
      "text/plain": [
       "                 Registro       fMP\n",
       "0  MUSE_20180113_171327_2  0.488281\n",
       "1  MUSE_20180112_073319_2  0.976562\n",
       "2  MUSE_20180113_121940_4  3.417969\n",
       "3  MUSE_20180112_120347_7  0.976562\n",
       "4  MUSE_20180114_075026_6  4.394531"
      ]
     },
     "execution_count": 112,
     "metadata": {},
     "output_type": "execute_result"
    }
   ],
   "source": [
    "df_p3_2merge.head()"
   ]
  },
  {
   "cell_type": "code",
   "execution_count": 113,
   "metadata": {},
   "outputs": [
    {
     "data": {
      "text/html": [
       "<div>\n",
       "<style scoped>\n",
       "    .dataframe tbody tr th:only-of-type {\n",
       "        vertical-align: middle;\n",
       "    }\n",
       "\n",
       "    .dataframe tbody tr th {\n",
       "        vertical-align: top;\n",
       "    }\n",
       "\n",
       "    .dataframe thead th {\n",
       "        text-align: right;\n",
       "    }\n",
       "</style>\n",
       "<table border=\"1\" class=\"dataframe\">\n",
       "  <thead>\n",
       "    <tr style=\"text-align: right;\">\n",
       "      <th></th>\n",
       "      <th>Registro</th>\n",
       "      <th>Estado</th>\n",
       "      <th>VentricularRate</th>\n",
       "      <th>AtrialRate</th>\n",
       "      <th>QRSCount</th>\n",
       "      <th>systole_duration</th>\n",
       "      <th>diastole_duration</th>\n",
       "      <th>systole_diastole_ratio</th>\n",
       "    </tr>\n",
       "  </thead>\n",
       "  <tbody>\n",
       "    <tr>\n",
       "      <th>0</th>\n",
       "      <td>MUSE_20180113_171327_2</td>\n",
       "      <td>AFIB</td>\n",
       "      <td>117.085863</td>\n",
       "      <td>NaN</td>\n",
       "      <td>19.0</td>\n",
       "      <td>2.930</td>\n",
       "      <td>6.492</td>\n",
       "      <td>0.451325</td>\n",
       "    </tr>\n",
       "    <tr>\n",
       "      <th>1</th>\n",
       "      <td>MUSE_20180112_073319_2</td>\n",
       "      <td>SB</td>\n",
       "      <td>51.698671</td>\n",
       "      <td>51.673228</td>\n",
       "      <td>8.0</td>\n",
       "      <td>2.978</td>\n",
       "      <td>5.518</td>\n",
       "      <td>0.539688</td>\n",
       "    </tr>\n",
       "    <tr>\n",
       "      <th>2</th>\n",
       "      <td>MUSE_20180113_121940_4</td>\n",
       "      <td>SB</td>\n",
       "      <td>53.309640</td>\n",
       "      <td>53.297801</td>\n",
       "      <td>9.0</td>\n",
       "      <td>3.170</td>\n",
       "      <td>5.836</td>\n",
       "      <td>0.543180</td>\n",
       "    </tr>\n",
       "    <tr>\n",
       "      <th>3</th>\n",
       "      <td>MUSE_20180112_120347_7</td>\n",
       "      <td>SB</td>\n",
       "      <td>56.617127</td>\n",
       "      <td>56.590427</td>\n",
       "      <td>9.0</td>\n",
       "      <td>3.126</td>\n",
       "      <td>5.698</td>\n",
       "      <td>0.548614</td>\n",
       "    </tr>\n",
       "    <tr>\n",
       "      <th>4</th>\n",
       "      <td>MUSE_20180114_075026_6</td>\n",
       "      <td>AFIB</td>\n",
       "      <td>95.703956</td>\n",
       "      <td>95.379398</td>\n",
       "      <td>16.0</td>\n",
       "      <td>4.508</td>\n",
       "      <td>4.898</td>\n",
       "      <td>0.920376</td>\n",
       "    </tr>\n",
       "  </tbody>\n",
       "</table>\n",
       "</div>"
      ],
      "text/plain": [
       "                 Registro Estado  VentricularRate  AtrialRate  QRSCount  \\\n",
       "0  MUSE_20180113_171327_2   AFIB       117.085863         NaN      19.0   \n",
       "1  MUSE_20180112_073319_2     SB        51.698671   51.673228       8.0   \n",
       "2  MUSE_20180113_121940_4     SB        53.309640   53.297801       9.0   \n",
       "3  MUSE_20180112_120347_7     SB        56.617127   56.590427       9.0   \n",
       "4  MUSE_20180114_075026_6   AFIB        95.703956   95.379398      16.0   \n",
       "\n",
       "   systole_duration  diastole_duration  systole_diastole_ratio  \n",
       "0             2.930              6.492                0.451325  \n",
       "1             2.978              5.518                0.539688  \n",
       "2             3.170              5.836                0.543180  \n",
       "3             3.126              5.698                0.548614  \n",
       "4             4.508              4.898                0.920376  "
      ]
     },
     "execution_count": 113,
     "metadata": {},
     "output_type": "execute_result"
    }
   ],
   "source": [
    "df_ECG.head()"
   ]
  },
  {
   "cell_type": "code",
   "execution_count": 114,
   "metadata": {},
   "outputs": [],
   "source": [
    "df_2train=df_ECG.copy()"
   ]
  },
  {
   "cell_type": "code",
   "execution_count": 115,
   "metadata": {},
   "outputs": [
    {
     "data": {
      "text/html": [
       "<div>\n",
       "<style scoped>\n",
       "    .dataframe tbody tr th:only-of-type {\n",
       "        vertical-align: middle;\n",
       "    }\n",
       "\n",
       "    .dataframe tbody tr th {\n",
       "        vertical-align: top;\n",
       "    }\n",
       "\n",
       "    .dataframe thead th {\n",
       "        text-align: right;\n",
       "    }\n",
       "</style>\n",
       "<table border=\"1\" class=\"dataframe\">\n",
       "  <thead>\n",
       "    <tr style=\"text-align: right;\">\n",
       "      <th></th>\n",
       "      <th>Registro</th>\n",
       "      <th>Estado</th>\n",
       "      <th>VentricularRate</th>\n",
       "      <th>AtrialRate</th>\n",
       "      <th>QRSCount</th>\n",
       "      <th>systole_duration</th>\n",
       "      <th>diastole_duration</th>\n",
       "      <th>systole_diastole_ratio</th>\n",
       "    </tr>\n",
       "  </thead>\n",
       "  <tbody>\n",
       "    <tr>\n",
       "      <th>0</th>\n",
       "      <td>MUSE_20180113_171327_2</td>\n",
       "      <td>AFIB</td>\n",
       "      <td>117.085863</td>\n",
       "      <td>NaN</td>\n",
       "      <td>19.0</td>\n",
       "      <td>2.930</td>\n",
       "      <td>6.492</td>\n",
       "      <td>0.451325</td>\n",
       "    </tr>\n",
       "    <tr>\n",
       "      <th>1</th>\n",
       "      <td>MUSE_20180112_073319_2</td>\n",
       "      <td>SB</td>\n",
       "      <td>51.698671</td>\n",
       "      <td>51.673228</td>\n",
       "      <td>8.0</td>\n",
       "      <td>2.978</td>\n",
       "      <td>5.518</td>\n",
       "      <td>0.539688</td>\n",
       "    </tr>\n",
       "    <tr>\n",
       "      <th>2</th>\n",
       "      <td>MUSE_20180113_121940_4</td>\n",
       "      <td>SB</td>\n",
       "      <td>53.309640</td>\n",
       "      <td>53.297801</td>\n",
       "      <td>9.0</td>\n",
       "      <td>3.170</td>\n",
       "      <td>5.836</td>\n",
       "      <td>0.543180</td>\n",
       "    </tr>\n",
       "    <tr>\n",
       "      <th>3</th>\n",
       "      <td>MUSE_20180112_120347_7</td>\n",
       "      <td>SB</td>\n",
       "      <td>56.617127</td>\n",
       "      <td>56.590427</td>\n",
       "      <td>9.0</td>\n",
       "      <td>3.126</td>\n",
       "      <td>5.698</td>\n",
       "      <td>0.548614</td>\n",
       "    </tr>\n",
       "    <tr>\n",
       "      <th>4</th>\n",
       "      <td>MUSE_20180114_075026_6</td>\n",
       "      <td>AFIB</td>\n",
       "      <td>95.703956</td>\n",
       "      <td>95.379398</td>\n",
       "      <td>16.0</td>\n",
       "      <td>4.508</td>\n",
       "      <td>4.898</td>\n",
       "      <td>0.920376</td>\n",
       "    </tr>\n",
       "    <tr>\n",
       "      <th>...</th>\n",
       "      <td>...</td>\n",
       "      <td>...</td>\n",
       "      <td>...</td>\n",
       "      <td>...</td>\n",
       "      <td>...</td>\n",
       "      <td>...</td>\n",
       "      <td>...</td>\n",
       "      <td>...</td>\n",
       "    </tr>\n",
       "    <tr>\n",
       "      <th>11489</th>\n",
       "      <td>MUSE_20180114_134724_1</td>\n",
       "      <td>SB</td>\n",
       "      <td>56.035489</td>\n",
       "      <td>56.022409</td>\n",
       "      <td>9.0</td>\n",
       "      <td>3.498</td>\n",
       "      <td>5.458</td>\n",
       "      <td>0.640894</td>\n",
       "    </tr>\n",
       "    <tr>\n",
       "      <th>11490</th>\n",
       "      <td>MUSE_20180113_122544_2</td>\n",
       "      <td>SB</td>\n",
       "      <td>55.363322</td>\n",
       "      <td>55.337791</td>\n",
       "      <td>9.0</td>\n",
       "      <td>2.998</td>\n",
       "      <td>5.674</td>\n",
       "      <td>0.528375</td>\n",
       "    </tr>\n",
       "    <tr>\n",
       "      <th>11491</th>\n",
       "      <td>MUSE_20180114_074720_8</td>\n",
       "      <td>SB</td>\n",
       "      <td>56.939502</td>\n",
       "      <td>56.939502</td>\n",
       "      <td>9.0</td>\n",
       "      <td>2.418</td>\n",
       "      <td>6.288</td>\n",
       "      <td>0.384542</td>\n",
       "    </tr>\n",
       "    <tr>\n",
       "      <th>11492</th>\n",
       "      <td>MUSE_20180115_131524_9</td>\n",
       "      <td>AFIB</td>\n",
       "      <td>92.633436</td>\n",
       "      <td>93.729078</td>\n",
       "      <td>15.0</td>\n",
       "      <td>3.738</td>\n",
       "      <td>5.332</td>\n",
       "      <td>0.701050</td>\n",
       "    </tr>\n",
       "    <tr>\n",
       "      <th>11493</th>\n",
       "      <td>MUSE_20180116_133908_0</td>\n",
       "      <td>SB</td>\n",
       "      <td>56.377731</td>\n",
       "      <td>56.377731</td>\n",
       "      <td>9.0</td>\n",
       "      <td>3.114</td>\n",
       "      <td>5.748</td>\n",
       "      <td>0.541754</td>\n",
       "    </tr>\n",
       "  </tbody>\n",
       "</table>\n",
       "<p>11494 rows × 8 columns</p>\n",
       "</div>"
      ],
      "text/plain": [
       "                     Registro Estado  VentricularRate  AtrialRate  QRSCount  \\\n",
       "0      MUSE_20180113_171327_2   AFIB       117.085863         NaN      19.0   \n",
       "1      MUSE_20180112_073319_2     SB        51.698671   51.673228       8.0   \n",
       "2      MUSE_20180113_121940_4     SB        53.309640   53.297801       9.0   \n",
       "3      MUSE_20180112_120347_7     SB        56.617127   56.590427       9.0   \n",
       "4      MUSE_20180114_075026_6   AFIB        95.703956   95.379398      16.0   \n",
       "...                       ...    ...              ...         ...       ...   \n",
       "11489  MUSE_20180114_134724_1     SB        56.035489   56.022409       9.0   \n",
       "11490  MUSE_20180113_122544_2     SB        55.363322   55.337791       9.0   \n",
       "11491  MUSE_20180114_074720_8     SB        56.939502   56.939502       9.0   \n",
       "11492  MUSE_20180115_131524_9   AFIB        92.633436   93.729078      15.0   \n",
       "11493  MUSE_20180116_133908_0     SB        56.377731   56.377731       9.0   \n",
       "\n",
       "       systole_duration  diastole_duration  systole_diastole_ratio  \n",
       "0                 2.930              6.492                0.451325  \n",
       "1                 2.978              5.518                0.539688  \n",
       "2                 3.170              5.836                0.543180  \n",
       "3                 3.126              5.698                0.548614  \n",
       "4                 4.508              4.898                0.920376  \n",
       "...                 ...                ...                     ...  \n",
       "11489             3.498              5.458                0.640894  \n",
       "11490             2.998              5.674                0.528375  \n",
       "11491             2.418              6.288                0.384542  \n",
       "11492             3.738              5.332                0.701050  \n",
       "11493             3.114              5.748                0.541754  \n",
       "\n",
       "[11494 rows x 8 columns]"
      ]
     },
     "execution_count": 115,
     "metadata": {},
     "output_type": "execute_result"
    }
   ],
   "source": [
    "df_2train"
   ]
  },
  {
   "cell_type": "code",
   "execution_count": 116,
   "metadata": {},
   "outputs": [],
   "source": [
    "df_2train = df_2train.merge(df_diagnostics_2merge, on='Registro', how='left')"
   ]
  },
  {
   "cell_type": "code",
   "execution_count": 117,
   "metadata": {},
   "outputs": [],
   "source": [
    "df_2train = df_2train.merge(df_p3_2merge, on='Registro', how='left')"
   ]
  },
  {
   "cell_type": "code",
   "execution_count": 118,
   "metadata": {},
   "outputs": [
    {
     "data": {
      "text/html": [
       "<div>\n",
       "<style scoped>\n",
       "    .dataframe tbody tr th:only-of-type {\n",
       "        vertical-align: middle;\n",
       "    }\n",
       "\n",
       "    .dataframe tbody tr th {\n",
       "        vertical-align: top;\n",
       "    }\n",
       "\n",
       "    .dataframe thead th {\n",
       "        text-align: right;\n",
       "    }\n",
       "</style>\n",
       "<table border=\"1\" class=\"dataframe\">\n",
       "  <thead>\n",
       "    <tr style=\"text-align: right;\">\n",
       "      <th></th>\n",
       "      <th>Registro</th>\n",
       "      <th>Estado</th>\n",
       "      <th>VentricularRate</th>\n",
       "      <th>AtrialRate</th>\n",
       "      <th>QRSCount</th>\n",
       "      <th>systole_duration</th>\n",
       "      <th>diastole_duration</th>\n",
       "      <th>systole_diastole_ratio</th>\n",
       "      <th>Beat</th>\n",
       "      <th>PatientAge</th>\n",
       "      <th>Gender</th>\n",
       "      <th>fMP</th>\n",
       "    </tr>\n",
       "  </thead>\n",
       "  <tbody>\n",
       "    <tr>\n",
       "      <th>0</th>\n",
       "      <td>MUSE_20180113_171327_2</td>\n",
       "      <td>AFIB</td>\n",
       "      <td>117.085863</td>\n",
       "      <td>NaN</td>\n",
       "      <td>19.0</td>\n",
       "      <td>2.930</td>\n",
       "      <td>6.492</td>\n",
       "      <td>0.451325</td>\n",
       "      <td>RBBB TWC</td>\n",
       "      <td>85.0</td>\n",
       "      <td>MALE</td>\n",
       "      <td>0.488281</td>\n",
       "    </tr>\n",
       "    <tr>\n",
       "      <th>1</th>\n",
       "      <td>MUSE_20180112_073319_2</td>\n",
       "      <td>SB</td>\n",
       "      <td>51.698671</td>\n",
       "      <td>51.673228</td>\n",
       "      <td>8.0</td>\n",
       "      <td>2.978</td>\n",
       "      <td>5.518</td>\n",
       "      <td>0.539688</td>\n",
       "      <td>TWC</td>\n",
       "      <td>59.0</td>\n",
       "      <td>FEMALE</td>\n",
       "      <td>0.976562</td>\n",
       "    </tr>\n",
       "    <tr>\n",
       "      <th>2</th>\n",
       "      <td>MUSE_20180113_121940_4</td>\n",
       "      <td>SB</td>\n",
       "      <td>53.309640</td>\n",
       "      <td>53.297801</td>\n",
       "      <td>9.0</td>\n",
       "      <td>3.170</td>\n",
       "      <td>5.836</td>\n",
       "      <td>0.543180</td>\n",
       "      <td>NONE</td>\n",
       "      <td>66.0</td>\n",
       "      <td>MALE</td>\n",
       "      <td>3.417969</td>\n",
       "    </tr>\n",
       "    <tr>\n",
       "      <th>3</th>\n",
       "      <td>MUSE_20180112_120347_7</td>\n",
       "      <td>SB</td>\n",
       "      <td>56.617127</td>\n",
       "      <td>56.590427</td>\n",
       "      <td>9.0</td>\n",
       "      <td>3.126</td>\n",
       "      <td>5.698</td>\n",
       "      <td>0.548614</td>\n",
       "      <td>NONE</td>\n",
       "      <td>46.0</td>\n",
       "      <td>FEMALE</td>\n",
       "      <td>0.976562</td>\n",
       "    </tr>\n",
       "    <tr>\n",
       "      <th>4</th>\n",
       "      <td>MUSE_20180114_075026_6</td>\n",
       "      <td>AFIB</td>\n",
       "      <td>95.703956</td>\n",
       "      <td>95.379398</td>\n",
       "      <td>16.0</td>\n",
       "      <td>4.508</td>\n",
       "      <td>4.898</td>\n",
       "      <td>0.920376</td>\n",
       "      <td>TWC</td>\n",
       "      <td>80.0</td>\n",
       "      <td>FEMALE</td>\n",
       "      <td>4.394531</td>\n",
       "    </tr>\n",
       "    <tr>\n",
       "      <th>...</th>\n",
       "      <td>...</td>\n",
       "      <td>...</td>\n",
       "      <td>...</td>\n",
       "      <td>...</td>\n",
       "      <td>...</td>\n",
       "      <td>...</td>\n",
       "      <td>...</td>\n",
       "      <td>...</td>\n",
       "      <td>...</td>\n",
       "      <td>...</td>\n",
       "      <td>...</td>\n",
       "      <td>...</td>\n",
       "    </tr>\n",
       "    <tr>\n",
       "      <th>11489</th>\n",
       "      <td>MUSE_20180114_134724_1</td>\n",
       "      <td>SB</td>\n",
       "      <td>56.035489</td>\n",
       "      <td>56.022409</td>\n",
       "      <td>9.0</td>\n",
       "      <td>3.498</td>\n",
       "      <td>5.458</td>\n",
       "      <td>0.640894</td>\n",
       "      <td>LVHV</td>\n",
       "      <td>56.0</td>\n",
       "      <td>FEMALE</td>\n",
       "      <td>2.929688</td>\n",
       "    </tr>\n",
       "    <tr>\n",
       "      <th>11490</th>\n",
       "      <td>MUSE_20180113_122544_2</td>\n",
       "      <td>SB</td>\n",
       "      <td>55.363322</td>\n",
       "      <td>55.337791</td>\n",
       "      <td>9.0</td>\n",
       "      <td>2.998</td>\n",
       "      <td>5.674</td>\n",
       "      <td>0.528375</td>\n",
       "      <td>NONE</td>\n",
       "      <td>38.0</td>\n",
       "      <td>FEMALE</td>\n",
       "      <td>0.976562</td>\n",
       "    </tr>\n",
       "    <tr>\n",
       "      <th>11491</th>\n",
       "      <td>MUSE_20180114_074720_8</td>\n",
       "      <td>SB</td>\n",
       "      <td>56.939502</td>\n",
       "      <td>56.939502</td>\n",
       "      <td>9.0</td>\n",
       "      <td>2.418</td>\n",
       "      <td>6.288</td>\n",
       "      <td>0.384542</td>\n",
       "      <td>NONE</td>\n",
       "      <td>55.0</td>\n",
       "      <td>FEMALE</td>\n",
       "      <td>5.859375</td>\n",
       "    </tr>\n",
       "    <tr>\n",
       "      <th>11492</th>\n",
       "      <td>MUSE_20180115_131524_9</td>\n",
       "      <td>AFIB</td>\n",
       "      <td>92.633436</td>\n",
       "      <td>93.729078</td>\n",
       "      <td>15.0</td>\n",
       "      <td>3.738</td>\n",
       "      <td>5.332</td>\n",
       "      <td>0.701050</td>\n",
       "      <td>RBBB TWC</td>\n",
       "      <td>70.0</td>\n",
       "      <td>MALE</td>\n",
       "      <td>1.464844</td>\n",
       "    </tr>\n",
       "    <tr>\n",
       "      <th>11493</th>\n",
       "      <td>MUSE_20180116_133908_0</td>\n",
       "      <td>SB</td>\n",
       "      <td>56.377731</td>\n",
       "      <td>56.377731</td>\n",
       "      <td>9.0</td>\n",
       "      <td>3.114</td>\n",
       "      <td>5.748</td>\n",
       "      <td>0.541754</td>\n",
       "      <td>NONE</td>\n",
       "      <td>52.0</td>\n",
       "      <td>MALE</td>\n",
       "      <td>0.976562</td>\n",
       "    </tr>\n",
       "  </tbody>\n",
       "</table>\n",
       "<p>11494 rows × 12 columns</p>\n",
       "</div>"
      ],
      "text/plain": [
       "                     Registro Estado  VentricularRate  AtrialRate  QRSCount  \\\n",
       "0      MUSE_20180113_171327_2   AFIB       117.085863         NaN      19.0   \n",
       "1      MUSE_20180112_073319_2     SB        51.698671   51.673228       8.0   \n",
       "2      MUSE_20180113_121940_4     SB        53.309640   53.297801       9.0   \n",
       "3      MUSE_20180112_120347_7     SB        56.617127   56.590427       9.0   \n",
       "4      MUSE_20180114_075026_6   AFIB        95.703956   95.379398      16.0   \n",
       "...                       ...    ...              ...         ...       ...   \n",
       "11489  MUSE_20180114_134724_1     SB        56.035489   56.022409       9.0   \n",
       "11490  MUSE_20180113_122544_2     SB        55.363322   55.337791       9.0   \n",
       "11491  MUSE_20180114_074720_8     SB        56.939502   56.939502       9.0   \n",
       "11492  MUSE_20180115_131524_9   AFIB        92.633436   93.729078      15.0   \n",
       "11493  MUSE_20180116_133908_0     SB        56.377731   56.377731       9.0   \n",
       "\n",
       "       systole_duration  diastole_duration  systole_diastole_ratio      Beat  \\\n",
       "0                 2.930              6.492                0.451325  RBBB TWC   \n",
       "1                 2.978              5.518                0.539688       TWC   \n",
       "2                 3.170              5.836                0.543180      NONE   \n",
       "3                 3.126              5.698                0.548614      NONE   \n",
       "4                 4.508              4.898                0.920376       TWC   \n",
       "...                 ...                ...                     ...       ...   \n",
       "11489             3.498              5.458                0.640894      LVHV   \n",
       "11490             2.998              5.674                0.528375      NONE   \n",
       "11491             2.418              6.288                0.384542      NONE   \n",
       "11492             3.738              5.332                0.701050  RBBB TWC   \n",
       "11493             3.114              5.748                0.541754      NONE   \n",
       "\n",
       "       PatientAge  Gender       fMP  \n",
       "0            85.0    MALE  0.488281  \n",
       "1            59.0  FEMALE  0.976562  \n",
       "2            66.0    MALE  3.417969  \n",
       "3            46.0  FEMALE  0.976562  \n",
       "4            80.0  FEMALE  4.394531  \n",
       "...           ...     ...       ...  \n",
       "11489        56.0  FEMALE  2.929688  \n",
       "11490        38.0  FEMALE  0.976562  \n",
       "11491        55.0  FEMALE  5.859375  \n",
       "11492        70.0    MALE  1.464844  \n",
       "11493        52.0    MALE  0.976562  \n",
       "\n",
       "[11494 rows x 12 columns]"
      ]
     },
     "execution_count": 118,
     "metadata": {},
     "output_type": "execute_result"
    }
   ],
   "source": [
    "df_2train"
   ]
  },
  {
   "cell_type": "code",
   "execution_count": null,
   "metadata": {},
   "outputs": [],
   "source": [
    "# df_2train.to_excel(\"Dataframe2train.xlsx\", index=False)"
   ]
  },
  {
   "cell_type": "markdown",
   "metadata": {},
   "source": [
    "7. Código y análisis de resultados, donde se discutan por los menos tres diferentes arquitecturas de red (10%) y las matrices de confusión obtenidas (10%), de una red neuronal que permita la clasificación de las dos patologías cardiacas."
   ]
  },
  {
   "cell_type": "markdown",
   "metadata": {},
   "source": [
    "# Uso del modelo dado por el profe"
   ]
  },
  {
   "cell_type": "code",
   "execution_count": 12,
   "metadata": {},
   "outputs": [],
   "source": [
    "from sklearn.preprocessing import LabelEncoder\n",
    "from sklearn.model_selection import train_test_split\n",
    "from sklearn.neural_network import MLPClassifier\n",
    "from sklearn.impute import SimpleImputer\n",
    "from sklearn.metrics import mean_squared_error\n",
    "from math import sqrt\n",
    "from sklearn.metrics import r2_score\n",
    "from sklearn.metrics import classification_report,confusion_matrix"
   ]
  },
  {
   "cell_type": "code",
   "execution_count": 4,
   "metadata": {},
   "outputs": [],
   "source": [
    "ruta_datos=\"./Dataframe2train.xlsx\"\n",
    "df = pd.read_excel(ruta_datos)"
   ]
  },
  {
   "cell_type": "code",
   "execution_count": 35,
   "metadata": {},
   "outputs": [
    {
     "data": {
      "text/html": [
       "<div>\n",
       "<style scoped>\n",
       "    .dataframe tbody tr th:only-of-type {\n",
       "        vertical-align: middle;\n",
       "    }\n",
       "\n",
       "    .dataframe tbody tr th {\n",
       "        vertical-align: top;\n",
       "    }\n",
       "\n",
       "    .dataframe thead th {\n",
       "        text-align: right;\n",
       "    }\n",
       "</style>\n",
       "<table border=\"1\" class=\"dataframe\">\n",
       "  <thead>\n",
       "    <tr style=\"text-align: right;\">\n",
       "      <th></th>\n",
       "      <th>Registro</th>\n",
       "      <th>Estado</th>\n",
       "      <th>VentricularRate</th>\n",
       "      <th>AtrialRate</th>\n",
       "      <th>QRSCount</th>\n",
       "      <th>systole_duration</th>\n",
       "      <th>diastole_duration</th>\n",
       "      <th>systole_diastole_ratio</th>\n",
       "      <th>Beat</th>\n",
       "      <th>PatientAge</th>\n",
       "      <th>Gender</th>\n",
       "      <th>fMP</th>\n",
       "    </tr>\n",
       "  </thead>\n",
       "  <tbody>\n",
       "    <tr>\n",
       "      <th>0</th>\n",
       "      <td>0.293402</td>\n",
       "      <td>0</td>\n",
       "      <td>0.657214</td>\n",
       "      <td>0.360761</td>\n",
       "      <td>0.655172</td>\n",
       "      <td>0.312633</td>\n",
       "      <td>0.854211</td>\n",
       "      <td>0.010298</td>\n",
       "      <td>0.912088</td>\n",
       "      <td>0.867347</td>\n",
       "      <td>0.5</td>\n",
       "      <td>0.009804</td>\n",
       "    </tr>\n",
       "    <tr>\n",
       "      <th>1</th>\n",
       "      <td>0.035462</td>\n",
       "      <td>1</td>\n",
       "      <td>0.290190</td>\n",
       "      <td>0.272018</td>\n",
       "      <td>0.275862</td>\n",
       "      <td>0.317755</td>\n",
       "      <td>0.726053</td>\n",
       "      <td>0.012314</td>\n",
       "      <td>0.978022</td>\n",
       "      <td>0.602041</td>\n",
       "      <td>0.0</td>\n",
       "      <td>0.019608</td>\n",
       "    </tr>\n",
       "    <tr>\n",
       "      <th>2</th>\n",
       "      <td>0.207304</td>\n",
       "      <td>1</td>\n",
       "      <td>0.299232</td>\n",
       "      <td>0.280570</td>\n",
       "      <td>0.310345</td>\n",
       "      <td>0.338242</td>\n",
       "      <td>0.767895</td>\n",
       "      <td>0.012393</td>\n",
       "      <td>0.868132</td>\n",
       "      <td>0.673469</td>\n",
       "      <td>0.5</td>\n",
       "      <td>0.068627</td>\n",
       "    </tr>\n",
       "    <tr>\n",
       "      <th>3</th>\n",
       "      <td>0.059809</td>\n",
       "      <td>1</td>\n",
       "      <td>0.317797</td>\n",
       "      <td>0.297903</td>\n",
       "      <td>0.310345</td>\n",
       "      <td>0.333547</td>\n",
       "      <td>0.749737</td>\n",
       "      <td>0.012517</td>\n",
       "      <td>0.868132</td>\n",
       "      <td>0.469388</td>\n",
       "      <td>0.0</td>\n",
       "      <td>0.019608</td>\n",
       "    </tr>\n",
       "    <tr>\n",
       "      <th>4</th>\n",
       "      <td>0.404199</td>\n",
       "      <td>0</td>\n",
       "      <td>0.537195</td>\n",
       "      <td>0.502096</td>\n",
       "      <td>0.551724</td>\n",
       "      <td>0.481007</td>\n",
       "      <td>0.644474</td>\n",
       "      <td>0.021000</td>\n",
       "      <td>0.978022</td>\n",
       "      <td>0.816327</td>\n",
       "      <td>0.0</td>\n",
       "      <td>0.088235</td>\n",
       "    </tr>\n",
       "    <tr>\n",
       "      <th>...</th>\n",
       "      <td>...</td>\n",
       "      <td>...</td>\n",
       "      <td>...</td>\n",
       "      <td>...</td>\n",
       "      <td>...</td>\n",
       "      <td>...</td>\n",
       "      <td>...</td>\n",
       "      <td>...</td>\n",
       "      <td>...</td>\n",
       "      <td>...</td>\n",
       "      <td>...</td>\n",
       "      <td>...</td>\n",
       "    </tr>\n",
       "    <tr>\n",
       "      <th>11489</th>\n",
       "      <td>0.515173</td>\n",
       "      <td>1</td>\n",
       "      <td>0.314533</td>\n",
       "      <td>0.294913</td>\n",
       "      <td>0.310345</td>\n",
       "      <td>0.373239</td>\n",
       "      <td>0.718158</td>\n",
       "      <td>0.014623</td>\n",
       "      <td>0.734066</td>\n",
       "      <td>0.571429</td>\n",
       "      <td>0.0</td>\n",
       "      <td>0.058824</td>\n",
       "    </tr>\n",
       "    <tr>\n",
       "      <th>11490</th>\n",
       "      <td>0.211891</td>\n",
       "      <td>1</td>\n",
       "      <td>0.310760</td>\n",
       "      <td>0.291309</td>\n",
       "      <td>0.310345</td>\n",
       "      <td>0.319889</td>\n",
       "      <td>0.746579</td>\n",
       "      <td>0.012056</td>\n",
       "      <td>0.868132</td>\n",
       "      <td>0.387755</td>\n",
       "      <td>0.0</td>\n",
       "      <td>0.019608</td>\n",
       "    </tr>\n",
       "    <tr>\n",
       "      <th>11491</th>\n",
       "      <td>0.401905</td>\n",
       "      <td>1</td>\n",
       "      <td>0.319607</td>\n",
       "      <td>0.299741</td>\n",
       "      <td>0.310345</td>\n",
       "      <td>0.258003</td>\n",
       "      <td>0.827368</td>\n",
       "      <td>0.008774</td>\n",
       "      <td>0.868132</td>\n",
       "      <td>0.561224</td>\n",
       "      <td>0.0</td>\n",
       "      <td>0.117647</td>\n",
       "    </tr>\n",
       "    <tr>\n",
       "      <th>11492</th>\n",
       "      <td>0.595977</td>\n",
       "      <td>0</td>\n",
       "      <td>0.519960</td>\n",
       "      <td>0.493408</td>\n",
       "      <td>0.517241</td>\n",
       "      <td>0.398848</td>\n",
       "      <td>0.701579</td>\n",
       "      <td>0.015995</td>\n",
       "      <td>0.912088</td>\n",
       "      <td>0.714286</td>\n",
       "      <td>0.5</td>\n",
       "      <td>0.029412</td>\n",
       "    </tr>\n",
       "    <tr>\n",
       "      <th>11493</th>\n",
       "      <td>0.714361</td>\n",
       "      <td>1</td>\n",
       "      <td>0.316454</td>\n",
       "      <td>0.296784</td>\n",
       "      <td>0.310345</td>\n",
       "      <td>0.332266</td>\n",
       "      <td>0.756316</td>\n",
       "      <td>0.012361</td>\n",
       "      <td>0.868132</td>\n",
       "      <td>0.530612</td>\n",
       "      <td>0.5</td>\n",
       "      <td>0.019608</td>\n",
       "    </tr>\n",
       "  </tbody>\n",
       "</table>\n",
       "<p>11494 rows × 12 columns</p>\n",
       "</div>"
      ],
      "text/plain": [
       "       Registro  Estado  VentricularRate  AtrialRate  QRSCount  \\\n",
       "0      0.293402       0         0.657214    0.360761  0.655172   \n",
       "1      0.035462       1         0.290190    0.272018  0.275862   \n",
       "2      0.207304       1         0.299232    0.280570  0.310345   \n",
       "3      0.059809       1         0.317797    0.297903  0.310345   \n",
       "4      0.404199       0         0.537195    0.502096  0.551724   \n",
       "...         ...     ...              ...         ...       ...   \n",
       "11489  0.515173       1         0.314533    0.294913  0.310345   \n",
       "11490  0.211891       1         0.310760    0.291309  0.310345   \n",
       "11491  0.401905       1         0.319607    0.299741  0.310345   \n",
       "11492  0.595977       0         0.519960    0.493408  0.517241   \n",
       "11493  0.714361       1         0.316454    0.296784  0.310345   \n",
       "\n",
       "       systole_duration  diastole_duration  systole_diastole_ratio      Beat  \\\n",
       "0              0.312633           0.854211                0.010298  0.912088   \n",
       "1              0.317755           0.726053                0.012314  0.978022   \n",
       "2              0.338242           0.767895                0.012393  0.868132   \n",
       "3              0.333547           0.749737                0.012517  0.868132   \n",
       "4              0.481007           0.644474                0.021000  0.978022   \n",
       "...                 ...                ...                     ...       ...   \n",
       "11489          0.373239           0.718158                0.014623  0.734066   \n",
       "11490          0.319889           0.746579                0.012056  0.868132   \n",
       "11491          0.258003           0.827368                0.008774  0.868132   \n",
       "11492          0.398848           0.701579                0.015995  0.912088   \n",
       "11493          0.332266           0.756316                0.012361  0.868132   \n",
       "\n",
       "       PatientAge  Gender       fMP  \n",
       "0        0.867347     0.5  0.009804  \n",
       "1        0.602041     0.0  0.019608  \n",
       "2        0.673469     0.5  0.068627  \n",
       "3        0.469388     0.0  0.019608  \n",
       "4        0.816327     0.0  0.088235  \n",
       "...           ...     ...       ...  \n",
       "11489    0.571429     0.0  0.058824  \n",
       "11490    0.387755     0.0  0.019608  \n",
       "11491    0.561224     0.0  0.117647  \n",
       "11492    0.714286     0.5  0.029412  \n",
       "11493    0.530612     0.5  0.019608  \n",
       "\n",
       "[11494 rows x 12 columns]"
      ]
     },
     "execution_count": 35,
     "metadata": {},
     "output_type": "execute_result"
    }
   ],
   "source": [
    "df"
   ]
  },
  {
   "cell_type": "code",
   "execution_count": 142,
   "metadata": {},
   "outputs": [],
   "source": [
    "df=df_2train.copy()"
   ]
  },
  {
   "cell_type": "code",
   "execution_count": 9,
   "metadata": {},
   "outputs": [
    {
     "name": "stdout",
     "output_type": "stream",
     "text": [
      "['systole_duration', 'VentricularRate', 'QRSCount', 'diastole_duration', 'Registro', 'AtrialRate', 'Gender', 'Beat', 'systole_diastole_ratio', 'fMP', 'PatientAge']\n"
     ]
    },
    {
     "data": {
      "text/html": [
       "<div>\n",
       "<style scoped>\n",
       "    .dataframe tbody tr th:only-of-type {\n",
       "        vertical-align: middle;\n",
       "    }\n",
       "\n",
       "    .dataframe tbody tr th {\n",
       "        vertical-align: top;\n",
       "    }\n",
       "\n",
       "    .dataframe thead th {\n",
       "        text-align: right;\n",
       "    }\n",
       "</style>\n",
       "<table border=\"1\" class=\"dataframe\">\n",
       "  <thead>\n",
       "    <tr style=\"text-align: right;\">\n",
       "      <th></th>\n",
       "      <th>Registro</th>\n",
       "      <th>Estado</th>\n",
       "      <th>VentricularRate</th>\n",
       "      <th>AtrialRate</th>\n",
       "      <th>QRSCount</th>\n",
       "      <th>systole_duration</th>\n",
       "      <th>diastole_duration</th>\n",
       "      <th>systole_diastole_ratio</th>\n",
       "      <th>Beat</th>\n",
       "      <th>PatientAge</th>\n",
       "      <th>Gender</th>\n",
       "      <th>fMP</th>\n",
       "    </tr>\n",
       "  </thead>\n",
       "  <tbody>\n",
       "    <tr>\n",
       "      <th>count</th>\n",
       "      <td>11494.000000</td>\n",
       "      <td>11494.000000</td>\n",
       "      <td>11494.000000</td>\n",
       "      <td>11494.000000</td>\n",
       "      <td>11494.000000</td>\n",
       "      <td>11494.000000</td>\n",
       "      <td>11494.000000</td>\n",
       "      <td>11494.000000</td>\n",
       "      <td>11494.000000</td>\n",
       "      <td>11494.000000</td>\n",
       "      <td>11494.000000</td>\n",
       "      <td>11494.000000</td>\n",
       "    </tr>\n",
       "    <tr>\n",
       "      <th>mean</th>\n",
       "      <td>0.496847</td>\n",
       "      <td>0.693927</td>\n",
       "      <td>0.382224</td>\n",
       "      <td>0.360761</td>\n",
       "      <td>0.378803</td>\n",
       "      <td>0.384460</td>\n",
       "      <td>0.703924</td>\n",
       "      <td>0.018904</td>\n",
       "      <td>0.780850</td>\n",
       "      <td>0.641923</td>\n",
       "      <td>0.322734</td>\n",
       "      <td>0.050972</td>\n",
       "    </tr>\n",
       "    <tr>\n",
       "      <th>std</th>\n",
       "      <td>0.288081</td>\n",
       "      <td>0.460880</td>\n",
       "      <td>0.131241</td>\n",
       "      <td>0.114603</td>\n",
       "      <td>0.128710</td>\n",
       "      <td>0.102983</td>\n",
       "      <td>0.119272</td>\n",
       "      <td>0.033055</td>\n",
       "      <td>0.229284</td>\n",
       "      <td>0.150471</td>\n",
       "      <td>0.252124</td>\n",
       "      <td>0.062451</td>\n",
       "    </tr>\n",
       "    <tr>\n",
       "      <th>min</th>\n",
       "      <td>0.000000</td>\n",
       "      <td>0.000000</td>\n",
       "      <td>0.140679</td>\n",
       "      <td>0.122108</td>\n",
       "      <td>0.137931</td>\n",
       "      <td>0.143406</td>\n",
       "      <td>0.000000</td>\n",
       "      <td>0.004059</td>\n",
       "      <td>0.000000</td>\n",
       "      <td>0.102041</td>\n",
       "      <td>0.000000</td>\n",
       "      <td>0.009804</td>\n",
       "    </tr>\n",
       "    <tr>\n",
       "      <th>25%</th>\n",
       "      <td>0.247574</td>\n",
       "      <td>0.000000</td>\n",
       "      <td>0.307567</td>\n",
       "      <td>0.291780</td>\n",
       "      <td>0.310345</td>\n",
       "      <td>0.327785</td>\n",
       "      <td>0.673158</td>\n",
       "      <td>0.012075</td>\n",
       "      <td>0.734066</td>\n",
       "      <td>0.540816</td>\n",
       "      <td>0.000000</td>\n",
       "      <td>0.019608</td>\n",
       "    </tr>\n",
       "    <tr>\n",
       "      <th>50%</th>\n",
       "      <td>0.494001</td>\n",
       "      <td>1.000000</td>\n",
       "      <td>0.324848</td>\n",
       "      <td>0.309322</td>\n",
       "      <td>0.310345</td>\n",
       "      <td>0.356594</td>\n",
       "      <td>0.726579</td>\n",
       "      <td>0.013649</td>\n",
       "      <td>0.868132</td>\n",
       "      <td>0.653061</td>\n",
       "      <td>0.500000</td>\n",
       "      <td>0.029412</td>\n",
       "    </tr>\n",
       "    <tr>\n",
       "      <th>75%</th>\n",
       "      <td>0.745016</td>\n",
       "      <td>1.000000</td>\n",
       "      <td>0.423194</td>\n",
       "      <td>0.374959</td>\n",
       "      <td>0.413793</td>\n",
       "      <td>0.406743</td>\n",
       "      <td>0.772368</td>\n",
       "      <td>0.016855</td>\n",
       "      <td>0.868132</td>\n",
       "      <td>0.744898</td>\n",
       "      <td>0.500000</td>\n",
       "      <td>0.068627</td>\n",
       "    </tr>\n",
       "    <tr>\n",
       "      <th>max</th>\n",
       "      <td>1.000000</td>\n",
       "      <td>1.000000</td>\n",
       "      <td>1.000000</td>\n",
       "      <td>1.000000</td>\n",
       "      <td>1.000000</td>\n",
       "      <td>1.000000</td>\n",
       "      <td>1.000000</td>\n",
       "      <td>1.000000</td>\n",
       "      <td>1.000000</td>\n",
       "      <td>1.000000</td>\n",
       "      <td>1.000000</td>\n",
       "      <td>1.000000</td>\n",
       "    </tr>\n",
       "  </tbody>\n",
       "</table>\n",
       "</div>"
      ],
      "text/plain": [
       "           Registro        Estado  VentricularRate    AtrialRate  \\\n",
       "count  11494.000000  11494.000000     11494.000000  11494.000000   \n",
       "mean       0.496847      0.693927         0.382224      0.360761   \n",
       "std        0.288081      0.460880         0.131241      0.114603   \n",
       "min        0.000000      0.000000         0.140679      0.122108   \n",
       "25%        0.247574      0.000000         0.307567      0.291780   \n",
       "50%        0.494001      1.000000         0.324848      0.309322   \n",
       "75%        0.745016      1.000000         0.423194      0.374959   \n",
       "max        1.000000      1.000000         1.000000      1.000000   \n",
       "\n",
       "           QRSCount  systole_duration  diastole_duration  \\\n",
       "count  11494.000000      11494.000000       11494.000000   \n",
       "mean       0.378803          0.384460           0.703924   \n",
       "std        0.128710          0.102983           0.119272   \n",
       "min        0.137931          0.143406           0.000000   \n",
       "25%        0.310345          0.327785           0.673158   \n",
       "50%        0.310345          0.356594           0.726579   \n",
       "75%        0.413793          0.406743           0.772368   \n",
       "max        1.000000          1.000000           1.000000   \n",
       "\n",
       "       systole_diastole_ratio          Beat    PatientAge        Gender  \\\n",
       "count            11494.000000  11494.000000  11494.000000  11494.000000   \n",
       "mean                 0.018904      0.780850      0.641923      0.322734   \n",
       "std                  0.033055      0.229284      0.150471      0.252124   \n",
       "min                  0.004059      0.000000      0.102041      0.000000   \n",
       "25%                  0.012075      0.734066      0.540816      0.000000   \n",
       "50%                  0.013649      0.868132      0.653061      0.500000   \n",
       "75%                  0.016855      0.868132      0.744898      0.500000   \n",
       "max                  1.000000      1.000000      1.000000      1.000000   \n",
       "\n",
       "                fMP  \n",
       "count  11494.000000  \n",
       "mean       0.050972  \n",
       "std        0.062451  \n",
       "min        0.009804  \n",
       "25%        0.019608  \n",
       "50%        0.029412  \n",
       "75%        0.068627  \n",
       "max        1.000000  "
      ]
     },
     "execution_count": 9,
     "metadata": {},
     "output_type": "execute_result"
    }
   ],
   "source": [
    "#%% Step 3 - Creating Arrays for the Features and the Response Variable\n",
    "target_column = ['Estado']\n",
    "predictors = list(set(list(df.columns))-set(target_column))\n",
    "print(predictors)\n",
    "\n",
    "# Paso 1: Seleccionar solo las columnas numéricas\n",
    "numerical_predictors = [col for col in predictors if col in df.select_dtypes(include=['float64', 'int64']).columns]\n",
    "\n",
    "# Normalizar solo las columnas numéricas\n",
    "df[numerical_predictors] = df[numerical_predictors] / df[numerical_predictors].max()\n",
    "\n",
    "# Paso 2: Manejar columnas de texto\n",
    "text_columns = df.select_dtypes(include=['object']).columns.tolist()\n",
    "\n",
    "# Convertir columnas de texto a valores numéricos usando LabelEncoder\n",
    "le = LabelEncoder()\n",
    "for col in text_columns:\n",
    "    df[col] = le.fit_transform(df[col])\n",
    "\n",
    "# Descripción final\n",
    "df.describe()\n"
   ]
  },
  {
   "cell_type": "code",
   "execution_count": null,
   "metadata": {},
   "outputs": [],
   "source": [
    "# Paso 3: Manejar los valores NaN\n",
    "# Se usa SimpleImputer para llenar los NaN con la media de cada columna\n",
    "imputer = SimpleImputer(strategy='mean')  # Puedes elegir 'median' o 'most_frequent'\n",
    "df[numerical_predictors] = imputer.fit_transform(df[numerical_predictors])\n",
    "\n",
    "#%% Step 4 - Creating the Training and Test Datasets\n",
    "X = df[predictors].values\n",
    "y = df[target_column].values\n",
    "\n",
    "# Eliminar las dimensiones extras de y\n",
    "y = np.squeeze(y)\n",
    "\n",
    "# Dividir los datos en conjuntos de entrenamiento y prueba\n",
    "X_train, X_test, y_train, y_test = train_test_split(X, y, test_size=0.30, random_state=40)\n",
    "\n",
    "# Imprimir las formas para verificar\n",
    "print(X_train.shape)\n",
    "print(y_train.shape)\n",
    "print(X_test.shape)\n",
    "print(y_test.shape)\n",
    "\n",
    "\n"
   ]
  },
  {
   "cell_type": "markdown",
   "metadata": {},
   "source": [
    "Primer modelo"
   ]
  },
  {
   "cell_type": "code",
   "execution_count": 55,
   "metadata": {},
   "outputs": [
    {
     "name": "stdout",
     "output_type": "stream",
     "text": [
      "MLPClassifier(hidden_layer_sizes=(32, 32, 32), max_iter=1000, random_state=42)\n"
     ]
    }
   ],
   "source": [
    "#Primer modelo\n",
    "mlp = MLPClassifier(\n",
    "    hidden_layer_sizes=(32, 32, 32),  \n",
    "    activation='relu',  # Función de activación ReLU\n",
    "    solver='adam',  # Optimizador Adam\n",
    "    max_iter=1000,  # Número máximo de iteraciones\n",
    "    alpha=0.0001,  # Regularización L2 para evitar overfitting\n",
    "    learning_rate_init=0.001,  # Tasa de aprendizaje inicial\n",
    "    random_state=42\n",
    ")\n",
    "print(mlp) "
   ]
  },
  {
   "cell_type": "code",
   "execution_count": 56,
   "metadata": {},
   "outputs": [],
   "source": [
    "mlp.fit(X_train, y_train)\n",
    "\n",
    "# Realizar las predicciones\n",
    "predict_train = mlp.predict(X_train)\n",
    "predict_test = mlp.predict(X_test)"
   ]
  },
  {
   "cell_type": "code",
   "execution_count": 57,
   "metadata": {},
   "outputs": [
    {
     "name": "stdout",
     "output_type": "stream",
     "text": [
      "[[2327  163]\n",
      " [  96 5459]]\n"
     ]
    }
   ],
   "source": [
    "#%% Results\n",
    "print(confusion_matrix(y_train,predict_train))"
   ]
  },
  {
   "cell_type": "code",
   "execution_count": 58,
   "metadata": {},
   "outputs": [
    {
     "name": "stdout",
     "output_type": "stream",
     "text": [
      "              precision    recall  f1-score   support\n",
      "\n",
      "          SB       0.96      0.93      0.95      2490\n",
      "        AFIB       0.97      0.98      0.98      5555\n",
      "\n",
      "    accuracy                           0.97      8045\n",
      "   macro avg       0.97      0.96      0.96      8045\n",
      "weighted avg       0.97      0.97      0.97      8045\n",
      "\n"
     ]
    }
   ],
   "source": [
    "target_names = ['SB', 'AFIB']\n",
    "print(classification_report(y_train,predict_train,target_names=target_names))"
   ]
  },
  {
   "cell_type": "code",
   "execution_count": 59,
   "metadata": {},
   "outputs": [
    {
     "name": "stdout",
     "output_type": "stream",
     "text": [
      "[[ 939   89]\n",
      " [  43 2378]]\n"
     ]
    }
   ],
   "source": [
    "print(confusion_matrix(y_test,predict_test))"
   ]
  },
  {
   "cell_type": "code",
   "execution_count": 60,
   "metadata": {},
   "outputs": [
    {
     "name": "stdout",
     "output_type": "stream",
     "text": [
      "              precision    recall  f1-score   support\n",
      "\n",
      "          SB       0.96      0.91      0.93      1028\n",
      "        AFIB       0.96      0.98      0.97      2421\n",
      "\n",
      "    accuracy                           0.96      3449\n",
      "   macro avg       0.96      0.95      0.95      3449\n",
      "weighted avg       0.96      0.96      0.96      3449\n",
      "\n"
     ]
    }
   ],
   "source": [
    "print(classification_report(y_test,predict_test,target_names=target_names))"
   ]
  },
  {
   "cell_type": "code",
   "execution_count": 61,
   "metadata": {},
   "outputs": [],
   "source": [
    "from itertools import product\n",
    "def plot_confusion_matrix(cm, classes,\n",
    "                          normalize=False,\n",
    "                          title='Confusion matrix',\n",
    "                          cmap=plt.cm.Blues):\n",
    "    \"\"\"\n",
    "    This function prints and plots the confusion matrix.\n",
    "    Normalization can be applied by setting `normalize=True`.\n",
    "    \"\"\"\n",
    "    if normalize:\n",
    "        cm = cm.astype('float') / cm.sum(axis=1)[:, np.newaxis]\n",
    "        print(\"Normalized confusion matrix\")\n",
    "    else:\n",
    "        print('Confusion matrix, without normalization')\n",
    "\n",
    "    print(cm)\n",
    "    fig=plt.figure()\n",
    "    plt.imshow(cm, interpolation='nearest', cmap=cmap)\n",
    "    plt.title(title)\n",
    "    plt.colorbar()\n",
    "    tick_marks = np.arange(len(classes))\n",
    "    plt.xticks(tick_marks, classes, rotation=45)\n",
    "    plt.yticks(tick_marks, classes)\n",
    "\n",
    "    fmt = '.2f' if normalize else 'd'\n",
    "    thresh = cm.max() / 2.\n",
    "    for i, j in product(range(cm.shape[0]), range(cm.shape[1])):\n",
    "        plt.text(j, i, format(cm[i, j], fmt),\n",
    "                 horizontalalignment=\"center\",\n",
    "                 color=\"white\" if cm[i, j] > thresh else \"black\")\n",
    "\n",
    "    plt.tight_layout()\n",
    "    plt.ylabel('True label')\n",
    "    plt.xlabel('Predicted label')"
   ]
  },
  {
   "cell_type": "code",
   "execution_count": 62,
   "metadata": {},
   "outputs": [
    {
     "name": "stdout",
     "output_type": "stream",
     "text": [
      "Confusion matrix, without normalization\n",
      "[[2327  163]\n",
      " [  96 5459]]\n"
     ]
    },
    {
     "data": {
      "image/png": "[encoded data removed]",
      "text/plain": [
       "<Figure size 640x480 with 2 Axes>"
      ]
     },
     "metadata": {},
     "output_type": "display_data"
    }
   ],
   "source": [
    "mc_train = confusion_matrix(y_train,predict_train)\n",
    "plot_confusion_matrix(mc_train, classes=target_names,\n",
    "                      title='Confusion matrix train')"
   ]
  },
  {
   "cell_type": "code",
   "execution_count": 63,
   "metadata": {},
   "outputs": [
    {
     "name": "stdout",
     "output_type": "stream",
     "text": [
      "Confusion matrix, without normalization\n",
      "[[ 939   89]\n",
      " [  43 2378]]\n"
     ]
    },
    {
     "data": {
      "image/png": "[encoded data removed]",
      "text/plain": [
       "<Figure size 640x480 with 2 Axes>"
      ]
     },
     "metadata": {},
     "output_type": "display_data"
    }
   ],
   "source": [
    "mc_test = confusion_matrix(y_test,predict_test)\n",
    "plot_confusion_matrix(mc_test, classes=target_names,\n",
    "                      title='Confusion matrix test')"
   ]
  },
  {
   "cell_type": "markdown",
   "metadata": {},
   "source": [
    "Segundo modelo"
   ]
  },
  {
   "cell_type": "code",
   "execution_count": 64,
   "metadata": {},
   "outputs": [
    {
     "name": "stdout",
     "output_type": "stream",
     "text": [
      "MLPClassifier(hidden_layer_sizes=(8, 8, 8, 8, 8), max_iter=1000,\n",
      "              random_state=42)\n"
     ]
    }
   ],
   "source": [
    "#Segundo modelo\n",
    "mlp  = MLPClassifier(\n",
    "    hidden_layer_sizes=(8, 8, 8, 8, 8),  # Aumento de la cantidad de capas (5 capas)\n",
    "    activation='relu',  # Función de activación ReLU\n",
    "    solver='adam',  # Optimizador Adam\n",
    "    max_iter=1000,  # Número máximo de iteraciones\n",
    "    alpha=0.0001,  # Regularización L2\n",
    "    learning_rate_init=0.001,  # Tasa de aprendizaje inicial\n",
    "    random_state=42\n",
    ")\n",
    "\n",
    "print(mlp) "
   ]
  },
  {
   "cell_type": "code",
   "execution_count": 33,
   "metadata": {},
   "outputs": [],
   "source": [
    "mlp.fit(X_train, y_train)\n",
    "\n",
    "# Realizar las predicciones\n",
    "predict_train = mlp.predict(X_train)\n",
    "predict_test = mlp.predict(X_test)\n"
   ]
  },
  {
   "cell_type": "code",
   "execution_count": 34,
   "metadata": {},
   "outputs": [
    {
     "name": "stdout",
     "output_type": "stream",
     "text": [
      "[[2325  165]\n",
      " [ 147 5408]]\n"
     ]
    }
   ],
   "source": [
    "#%% Results\n",
    "print(confusion_matrix(y_train,predict_train))"
   ]
  },
  {
   "cell_type": "code",
   "execution_count": 36,
   "metadata": {},
   "outputs": [
    {
     "name": "stdout",
     "output_type": "stream",
     "text": [
      "              precision    recall  f1-score   support\n",
      "\n",
      "          SB       0.94      0.93      0.94      2490\n",
      "        AFIB       0.97      0.97      0.97      5555\n",
      "\n",
      "    accuracy                           0.96      8045\n",
      "   macro avg       0.96      0.95      0.95      8045\n",
      "weighted avg       0.96      0.96      0.96      8045\n",
      "\n"
     ]
    }
   ],
   "source": [
    "target_names = ['SB', 'AFIB']\n",
    "print(classification_report(y_train,predict_train,target_names=target_names))"
   ]
  },
  {
   "cell_type": "code",
   "execution_count": 37,
   "metadata": {},
   "outputs": [
    {
     "name": "stdout",
     "output_type": "stream",
     "text": [
      "[[ 943   85]\n",
      " [  63 2358]]\n"
     ]
    }
   ],
   "source": [
    "print(confusion_matrix(y_test,predict_test))"
   ]
  },
  {
   "cell_type": "code",
   "execution_count": 38,
   "metadata": {},
   "outputs": [
    {
     "name": "stdout",
     "output_type": "stream",
     "text": [
      "              precision    recall  f1-score   support\n",
      "\n",
      "          SB       0.94      0.92      0.93      1028\n",
      "        AFIB       0.97      0.97      0.97      2421\n",
      "\n",
      "    accuracy                           0.96      3449\n",
      "   macro avg       0.95      0.95      0.95      3449\n",
      "weighted avg       0.96      0.96      0.96      3449\n",
      "\n"
     ]
    }
   ],
   "source": [
    "print(classification_report(y_test,predict_test,target_names=target_names))"
   ]
  },
  {
   "cell_type": "code",
   "execution_count": 40,
   "metadata": {},
   "outputs": [
    {
     "name": "stdout",
     "output_type": "stream",
     "text": [
      "Confusion matrix, without normalization\n",
      "[[2325  165]\n",
      " [ 147 5408]]\n"
     ]
    },
    {
     "data": {
      "image/png": "[encoded data removed]",
      "text/plain": [
       "<Figure size 640x480 with 2 Axes>"
      ]
     },
     "metadata": {},
     "output_type": "display_data"
    }
   ],
   "source": [
    "mc_train = confusion_matrix(y_train,predict_train)\n",
    "plot_confusion_matrix(mc_train, classes=target_names,\n",
    "                      title='Confusion matrix train')\n"
   ]
  },
  {
   "cell_type": "code",
   "execution_count": 41,
   "metadata": {},
   "outputs": [
    {
     "name": "stdout",
     "output_type": "stream",
     "text": [
      "Confusion matrix, without normalization\n",
      "[[ 943   85]\n",
      " [  63 2358]]\n"
     ]
    },
    {
     "data": {
      "image/png": "[encoded data removed]",
      "text/plain": [
       "<Figure size 640x480 with 2 Axes>"
      ]
     },
     "metadata": {},
     "output_type": "display_data"
    }
   ],
   "source": [
    "mc_test = confusion_matrix(y_test,predict_test)\n",
    "plot_confusion_matrix(mc_test, classes=target_names,\n",
    "                      title='Confusion matrix test')"
   ]
  },
  {
   "cell_type": "markdown",
   "metadata": {},
   "source": [
    "Tercer modelo"
   ]
  },
  {
   "cell_type": "code",
   "execution_count": 73,
   "metadata": {},
   "outputs": [
    {
     "name": "stdout",
     "output_type": "stream",
     "text": [
      "MLPClassifier(hidden_layer_sizes=(16, 32, 64, 128, 256), max_iter=1000,\n",
      "              random_state=42)\n"
     ]
    }
   ],
   "source": [
    "mlp = MLPClassifier(\n",
    "    hidden_layer_sizes=(16, 32, 64, 128, 256),  # Aumento de neuronas en capas profundas\n",
    "    activation='relu',\n",
    "    solver='adam',\n",
    "    max_iter=1000,\n",
    "    alpha=0.0001,\n",
    "    learning_rate_init=0.001,\n",
    "    random_state=42\n",
    ")\n",
    "\n",
    "print(mlp) "
   ]
  },
  {
   "cell_type": "code",
   "execution_count": 74,
   "metadata": {},
   "outputs": [],
   "source": [
    "mlp.fit(X_train, y_train)\n",
    "\n",
    "# Realizar las predicciones\n",
    "predict_train = mlp.predict(X_train)\n",
    "predict_test = mlp.predict(X_test)"
   ]
  },
  {
   "cell_type": "code",
   "execution_count": 75,
   "metadata": {},
   "outputs": [
    {
     "name": "stdout",
     "output_type": "stream",
     "text": [
      "[[2423   67]\n",
      " [  66 5489]]\n"
     ]
    }
   ],
   "source": [
    "#%% Results\n",
    "print(confusion_matrix(y_train,predict_train))"
   ]
  },
  {
   "cell_type": "code",
   "execution_count": 76,
   "metadata": {},
   "outputs": [
    {
     "name": "stdout",
     "output_type": "stream",
     "text": [
      "              precision    recall  f1-score   support\n",
      "\n",
      "          SB       0.97      0.97      0.97      2490\n",
      "        AFIB       0.99      0.99      0.99      5555\n",
      "\n",
      "    accuracy                           0.98      8045\n",
      "   macro avg       0.98      0.98      0.98      8045\n",
      "weighted avg       0.98      0.98      0.98      8045\n",
      "\n"
     ]
    }
   ],
   "source": [
    "target_names = ['SB', 'AFIB']\n",
    "print(classification_report(y_train,predict_train,target_names=target_names))"
   ]
  },
  {
   "cell_type": "code",
   "execution_count": 77,
   "metadata": {},
   "outputs": [
    {
     "name": "stdout",
     "output_type": "stream",
     "text": [
      "[[ 969   59]\n",
      " [  48 2373]]\n"
     ]
    }
   ],
   "source": [
    "print(confusion_matrix(y_test,predict_test))"
   ]
  },
  {
   "cell_type": "code",
   "execution_count": 78,
   "metadata": {},
   "outputs": [
    {
     "name": "stdout",
     "output_type": "stream",
     "text": [
      "              precision    recall  f1-score   support\n",
      "\n",
      "          SB       0.95      0.94      0.95      1028\n",
      "        AFIB       0.98      0.98      0.98      2421\n",
      "\n",
      "    accuracy                           0.97      3449\n",
      "   macro avg       0.96      0.96      0.96      3449\n",
      "weighted avg       0.97      0.97      0.97      3449\n",
      "\n"
     ]
    }
   ],
   "source": [
    "print(classification_report(y_test,predict_test,target_names=target_names))"
   ]
  },
  {
   "cell_type": "code",
   "execution_count": 79,
   "metadata": {},
   "outputs": [
    {
     "name": "stdout",
     "output_type": "stream",
     "text": [
      "Confusion matrix, without normalization\n",
      "[[2423   67]\n",
      " [  66 5489]]\n"
     ]
    },
    {
     "data": {
      "image/png": "[encoded data removed]",
      "text/plain": [
       "<Figure size 640x480 with 2 Axes>"
      ]
     },
     "metadata": {},
     "output_type": "display_data"
    }
   ],
   "source": [
    "mc_train = confusion_matrix(y_train,predict_train)\n",
    "plot_confusion_matrix(mc_train, classes=target_names,\n",
    "                      title='Confusion matrix train')"
   ]
  },
  {
   "cell_type": "code",
   "execution_count": 80,
   "metadata": {},
   "outputs": [
    {
     "name": "stdout",
     "output_type": "stream",
     "text": [
      "Confusion matrix, without normalization\n",
      "[[ 969   59]\n",
      " [  48 2373]]\n"
     ]
    },
    {
     "data": {
      "image/png": "[encoded data removed]",
      "text/plain": [
       "<Figure size 640x480 with 2 Axes>"
      ]
     },
     "metadata": {},
     "output_type": "display_data"
    }
   ],
   "source": [
    "mc_test = confusion_matrix(y_test,predict_test)\n",
    "plot_confusion_matrix(mc_test, classes=target_names,\n",
    "                      title='Confusion matrix test')"
   ]
  },
  {
   "cell_type": "markdown",
   "metadata": {},
   "source": [
    "Cuarto Modelo"
   ]
  },
  {
   "cell_type": "code",
   "execution_count": 81,
   "metadata": {},
   "outputs": [
    {
     "name": "stdout",
     "output_type": "stream",
     "text": [
      "MLPClassifier(hidden_layer_sizes=(128, 64, 32, 16), max_iter=1000,\n",
      "              random_state=42)\n"
     ]
    }
   ],
   "source": [
    "mlp = MLPClassifier(\n",
    "    hidden_layer_sizes=(128, 64, 32, 16),  # Más neuronas al inicio y menos hacia el final\n",
    "    activation='relu',\n",
    "    solver='adam',\n",
    "    max_iter=1000,\n",
    "    alpha=0.0001,\n",
    "    learning_rate_init=0.001,\n",
    "    random_state=42\n",
    ")\n",
    "\n",
    "print(mlp) \n"
   ]
  },
  {
   "cell_type": "code",
   "execution_count": 82,
   "metadata": {},
   "outputs": [],
   "source": [
    "mlp.fit(X_train, y_train)\n",
    "\n",
    "# Realizar las predicciones\n",
    "predict_train = mlp.predict(X_train)\n",
    "predict_test = mlp.predict(X_test)\n",
    "\n"
   ]
  },
  {
   "cell_type": "code",
   "execution_count": 83,
   "metadata": {},
   "outputs": [
    {
     "name": "stdout",
     "output_type": "stream",
     "text": [
      "[[2417   73]\n",
      " [  37 5518]]\n"
     ]
    }
   ],
   "source": [
    "#%% Results\n",
    "print(confusion_matrix(y_train,predict_train))"
   ]
  },
  {
   "cell_type": "code",
   "execution_count": 84,
   "metadata": {},
   "outputs": [
    {
     "name": "stdout",
     "output_type": "stream",
     "text": [
      "              precision    recall  f1-score   support\n",
      "\n",
      "          SB       0.98      0.97      0.98      2490\n",
      "        AFIB       0.99      0.99      0.99      5555\n",
      "\n",
      "    accuracy                           0.99      8045\n",
      "   macro avg       0.99      0.98      0.98      8045\n",
      "weighted avg       0.99      0.99      0.99      8045\n",
      "\n"
     ]
    }
   ],
   "source": [
    "target_names = ['SB', 'AFIB']\n",
    "print(classification_report(y_train,predict_train,target_names=target_names))"
   ]
  },
  {
   "cell_type": "code",
   "execution_count": 85,
   "metadata": {},
   "outputs": [
    {
     "name": "stdout",
     "output_type": "stream",
     "text": [
      "[[ 964   64]\n",
      " [  37 2384]]\n"
     ]
    }
   ],
   "source": [
    "print(confusion_matrix(y_test,predict_test))"
   ]
  },
  {
   "cell_type": "code",
   "execution_count": 86,
   "metadata": {},
   "outputs": [
    {
     "name": "stdout",
     "output_type": "stream",
     "text": [
      "              precision    recall  f1-score   support\n",
      "\n",
      "          SB       0.96      0.94      0.95      1028\n",
      "        AFIB       0.97      0.98      0.98      2421\n",
      "\n",
      "    accuracy                           0.97      3449\n",
      "   macro avg       0.97      0.96      0.96      3449\n",
      "weighted avg       0.97      0.97      0.97      3449\n",
      "\n"
     ]
    }
   ],
   "source": [
    "print(classification_report(y_test,predict_test,target_names=target_names))"
   ]
  },
  {
   "cell_type": "code",
   "execution_count": 87,
   "metadata": {},
   "outputs": [
    {
     "name": "stdout",
     "output_type": "stream",
     "text": [
      "Confusion matrix, without normalization\n",
      "[[2417   73]\n",
      " [  37 5518]]\n"
     ]
    },
    {
     "data": {
      "image/png": "[encoded data removed]",
      "text/plain": [
       "<Figure size 640x480 with 2 Axes>"
      ]
     },
     "metadata": {},
     "output_type": "display_data"
    }
   ],
   "source": [
    "mc_train = confusion_matrix(y_train,predict_train)\n",
    "plot_confusion_matrix(mc_train, classes=target_names,\n",
    "                      title='Confusion matrix train')"
   ]
  },
  {
   "cell_type": "code",
   "execution_count": 88,
   "metadata": {},
   "outputs": [
    {
     "name": "stdout",
     "output_type": "stream",
     "text": [
      "Confusion matrix, without normalization\n",
      "[[ 964   64]\n",
      " [  37 2384]]\n"
     ]
    },
    {
     "data": {
      "image/png": "[encoded data removed]",
      "text/plain": [
       "<Figure size 640x480 with 2 Axes>"
      ]
     },
     "metadata": {},
     "output_type": "display_data"
    }
   ],
   "source": [
    "mc_test = confusion_matrix(y_test,predict_test)\n",
    "plot_confusion_matrix(mc_test, classes=target_names,\n",
    "                      title='Confusion matrix test')"
   ]
  },
  {
   "cell_type": "markdown",
   "metadata": {},
   "source": [
    "8. Consultar cómo funciona, realizar y discutir un ejemplo con los datos, del algoritmo de K means (10%) y máquinas de soporte vectorial (SVM) (10%)"
   ]
  },
  {
   "cell_type": "markdown",
   "metadata": {},
   "source": [
    "El algoritmo K-means[1] utiliza el concepto de clustering, el cual es una herramienta para segmentar datos con características similares entre sí pero diferentes a otros grupos. El objetivo del K-mean es agrupar observaciones similares para descubrir patrones mediante la reducción de la suma de las distancias de los datos con el centroide, lo hace mediante un número fijo de clusters (k) en el dataset\n",
    "Funcionamiento del Algoritmo K-Means en Pasos Cortos:\n",
    "1.\tSeleccionar el número de clusters (K): Supongamos que queremos dividir un conjunto de datos en 3 grupos.\n",
    "2.\tInicialización: Elegimos 3 centroides al azar dentro del espacio de datos.\n",
    "3.\tAsignación: Cada punto se asigna al centroide más cercano según la distancia (normalmente la distancia Euclidiana).\n",
    "4.\tActualización: Se recalculan los centroides promediando las posiciones de los puntos asignados a cada cluster.\n",
    "5.\tRepetir: Los pasos de asignación y actualización se repiten hasta que los centroides no cambien más o se alcance un número máximo de iteraciones."
   ]
  },
  {
   "cell_type": "code",
   "execution_count": 90,
   "metadata": {},
   "outputs": [
    {
     "data": {
      "image/png": "[encoded data removed]",
      "text/plain": [
       "<Figure size 800x600 with 1 Axes>"
      ]
     },
     "metadata": {},
     "output_type": "display_data"
    },
    {
     "name": "stdout",
     "output_type": "stream",
     "text": [
      "Centroides de los Clusters:\n",
      "[[-0.24669564 -1.11833603  0.49443257  0.02901031]\n",
      " [-0.07946522 -0.01046958 -0.94021437 -0.57199137]\n",
      " [ 0.24407459  0.77509584  0.55243343  0.5220374 ]]\n",
      "\n",
      "Etiquetas de los Latidos:\n",
      "[1 1 2 2 2 2 0 0 0 2 2 1 1 0 0 0 0 2 2 1 1 2 0 1 0 2 0 0 1 2 1 2 0 1 1 1 0\n",
      " 0 1 2 2 1 2 2 1 1 1 2 0 1 2 2 1 1 0 2 0 0 2 2 1 2 1 2 2 1 2 2 2 0 1 2 1 1\n",
      " 0 1 0 2 0 1 1 2 1 2 1 0 2 1 0 2 2 2 1 2 1 0 2 1 0 1]\n"
     ]
    }
   ],
   "source": [
    "# Importar librerías necesarias\n",
    "import numpy as np\n",
    "import pandas as pd\n",
    "import matplotlib.pyplot as plt\n",
    "from sklearn.cluster import KMeans\n",
    "from sklearn.preprocessing import StandardScaler\n",
    "from sklearn.decomposition import PCA\n",
    "\n",
    "# Simulación de datos de ECG (Reemplaza esto con tus datos reales)\n",
    "# Suponemos que 'X' contiene las características extraídas del ECG (amplitud, duración, intervalos, etc.)\n",
    "# Ejemplo ficticio de datos: 100 muestras con 4 características (amplitud de onda P, QRS, T y duración del intervalo RR)\n",
    "X = np.random.rand(100, 4) * 100  # Datos ficticios (100 muestras, 4 características)\n",
    "\n",
    "# Escalado de datos para normalizar las características\n",
    "scaler = StandardScaler()\n",
    "X_scaled = scaler.fit_transform(X)\n",
    "\n",
    "# Aplicación del algoritmo K-Means\n",
    "num_clusters = 3  # Definir el número de clusters\n",
    "kmeans = KMeans(n_clusters=num_clusters, random_state=42)\n",
    "kmeans.fit(X_scaled)\n",
    "\n",
    "# Obtener etiquetas de los clusters\n",
    "labels = kmeans.labels_\n",
    "centroids = kmeans.cluster_centers_\n",
    "\n",
    "# Visualización utilizando PCA para reducir dimensiones a 2D\n",
    "pca = PCA(n_components=2)\n",
    "X_pca = pca.fit_transform(X_scaled)\n",
    "\n",
    "# Graficar los clusters\n",
    "plt.figure(figsize=(8, 6))\n",
    "for cluster in range(num_clusters):\n",
    "    plt.scatter(X_pca[labels == cluster, 0], X_pca[labels == cluster, 1], label=f'Cluster {cluster}')\n",
    "plt.scatter(pca.transform(centroids)[:, 0], pca.transform(centroids)[:, 1], c='red', marker='X', s=200, label='Centroides')\n",
    "plt.title('Agrupación K-Means de Latidos ECG')\n",
    "plt.xlabel('Componente Principal 1')\n",
    "plt.ylabel('Componente Principal 2')\n",
    "plt.legend()\n",
    "plt.grid(True)\n",
    "plt.show()\n",
    "\n",
    "# Imprimir resultados\n",
    "print(\"Centroides de los Clusters:\")\n",
    "print(centroids)\n",
    "print(\"\\nEtiquetas de los Latidos:\")\n",
    "print(labels)"
   ]
  },
  {
   "cell_type": "markdown",
   "metadata": {},
   "source": [
    "Support vector machine (SVM) es un algoritmo de aprendizaje supervisado que se utiliza en muchos problemas de clasificación y regresión. El objetivo del algoritmo SVM es encontrar un hiperplano que separe de la mejor forma posible dos clases diferentes de puntos de datos. “De la mejor forma posible” implica el hiperplano con el margen más amplio entre las dos clases, representado por los signos más y menos en la siguiente figura. El margen se define como la anchura máxima de la región paralela al hiperplano que no tiene puntos de datos interiores. El algoritmo solo puede encontrar este hiperplano en problemas que permiten separación lineal; en la mayoría de los problemas prácticos, el algoritmo maximiza el margen flexible permitiendo un pequeño número de clasificaciones erróneas.\n",
    "![Img_2](./Img_2.jpg)"
   ]
  },
  {
   "cell_type": "code",
   "execution_count": 89,
   "metadata": {},
   "outputs": [
    {
     "name": "stdout",
     "output_type": "stream",
     "text": [
      "Clasificación Report:\n",
      "              precision    recall  f1-score   support\n",
      "\n",
      "           0       0.67      0.31      0.42        13\n",
      "           1       0.36      0.71      0.48         7\n",
      "\n",
      "    accuracy                           0.45        20\n",
      "   macro avg       0.51      0.51      0.45        20\n",
      "weighted avg       0.56      0.45      0.44        20\n",
      "\n",
      "Matriz de Confusión:\n",
      "[[4 9]\n",
      " [2 5]]\n"
     ]
    },
    {
     "data": {
      "image/png": "[encoded data removed]",
      "text/plain": [
       "<Figure size 600x600 with 2 Axes>"
      ]
     },
     "metadata": {},
     "output_type": "display_data"
    }
   ],
   "source": [
    "# Importar librerías necesarias\n",
    "import numpy as np\n",
    "import pandas as pd\n",
    "from sklearn.model_selection import train_test_split\n",
    "from sklearn.svm import SVC\n",
    "from sklearn.metrics import classification_report, confusion_matrix\n",
    "from sklearn.preprocessing import StandardScaler\n",
    "import matplotlib.pyplot as plt\n",
    "\n",
    "# Cargar tus datos ECG (suponiendo que tienes un DataFrame con características y etiquetas)\n",
    "# Aquí, 'ecg_data.csv' es el archivo que contiene los datos de ECG, y 'label' son las etiquetas (normal/anormal)\n",
    "# Ajusta la ruta y nombre del archivo según sea necesario\n",
    "# df = pd.read_csv('ruta/a/tu/archivo/ecg_data.csv')\n",
    "\n",
    "# Supongamos que 'X' son las características del ECG y 'y' las etiquetas (0 = normal, 1 = anormal)\n",
    "# Por ejemplo, podríamos tener 'X' con características extraídas como amplitudes, intervalos, duraciones, etc.\n",
    "# df = pd.DataFrame(...)  # Cargar o procesar datos reales\n",
    "\n",
    "# Ejemplo de datos ficticios\n",
    "# X = características extraídas del ECG (por ejemplo, amplitudes, duraciones)\n",
    "# y = etiquetas correspondientes (0 = normal, 1 = anormal)\n",
    "X = np.random.randn(100, 5)  # Datos de ejemplo (100 muestras, 5 características)\n",
    "y = np.random.choice([0, 1], size=100)  # Etiquetas aleatorias (0 = normal, 1 = anormal)\n",
    "\n",
    "# Dividir el conjunto de datos en entrenamiento y prueba (80% entrenamiento, 20% prueba)\n",
    "X_train, X_test, y_train, y_test = train_test_split(X, y, test_size=0.2, random_state=42)\n",
    "\n",
    "# Normalizar las características para mejorar el rendimiento de SVM\n",
    "scaler = StandardScaler()\n",
    "X_train_scaled = scaler.fit_transform(X_train)\n",
    "X_test_scaled = scaler.transform(X_test)\n",
    "\n",
    "# Inicializar el clasificador SVM con kernel RBF\n",
    "svm_model = SVC(kernel='rbf', C=1, gamma='scale')  # 'C' controla la regularización, 'gamma' controla el kernel RBF\n",
    "\n",
    "# Entrenar el modelo con los datos de entrenamiento\n",
    "svm_model.fit(X_train_scaled, y_train)\n",
    "\n",
    "# Realizar predicciones en los datos de prueba\n",
    "y_pred = svm_model.predict(X_test_scaled)\n",
    "\n",
    "# Evaluar el modelo\n",
    "print(\"Clasificación Report:\")\n",
    "print(classification_report(y_test, y_pred))  # Reporte de precisión, recall, f1-score\n",
    "\n",
    "print(\"Matriz de Confusión:\")\n",
    "print(confusion_matrix(y_test, y_pred))  # Matriz de confusión para ver los verdaderos positivos, negativos, etc.\n",
    "\n",
    "# Graficar la matriz de confusión\n",
    "plt.figure(figsize=(6, 6))\n",
    "plt.imshow(confusion_matrix(y_test, y_pred), interpolation='nearest', cmap=plt.cm.Blues)\n",
    "plt.title('Matriz de Confusión')\n",
    "plt.colorbar()\n",
    "plt.xlabel('Etiqueta Predicha')\n",
    "plt.ylabel('Etiqueta Verdadera')\n",
    "plt.show()"
   ]
  },
  {
   "cell_type": "markdown",
   "metadata": {},
   "source": [
    "9. Consultar por lo menos tres equipos comerciales traen ya incorporados algoritmos de ayuda diagnóstica a partir de señales EKG (5%) y discutir brevemente las funcionalidades desde la teoría vista en el curso (5%)"
   ]
  },
  {
   "cell_type": "markdown",
   "metadata": {},
   "source": [
    "1. Electrocardiógrafo con interpretación automática:\n",
    "Este equipo registra la actividad eléctrica del corazón y, a través de algoritmos avanzados, proporciona una interpretación inicial del electrocardiograma (ECG).\n",
    "Los electrodos colocados en el cuerpo captan las señales eléctricas del corazón, que luego son digitalizadas y procesadas por el equipo. Los algoritmos analizan la forma, duración y frecuencia de las ondas del ECG para identificar patrones característicos de diferentes arritmias, bloqueos, hipertrofias y otras alteraciones cardiacas. La interpretación automática ofrece un diagnóstico preliminar, pero siempre debe ser corroborado por un médico.\n",
    "\n",
    "2. Monitor de paciente con análisis de ECG en tiempo real:\n",
    "Este equipo monitorea continuamente las constantes vitales de un paciente, incluyendo el ECG. Los algoritmos analizan la señal en tiempo real para detectar cambios significativos que puedan indicar el desarrollo de arritmias o isquemia miocárdica.\n",
    "Los electrodos se adhieren al cuerpo del paciente y transmiten las señales a un monitor central. Los algoritmos procesan la señal en busca de patrones anormales y generan alarmas visuales y audibles cuando se detectan eventos críticos. Estos monitores son utilizados en unidades de cuidados intensivos, quirófanos y otros entornos hospitalarios.\n",
    "\n",
    "3. Holter con análisis de arritmias:\n",
    "El Holter es un dispositivo portátil que registra el ECG durante un período prolongado (24 horas o más). Los algoritmos analizan el registro para detectar arritmias intermitentes que pueden no ser evidentes en un ECG convencional.\n",
    "El paciente lleva el Holter durante el período de registro y realiza sus actividades habituales. Al finalizar el registro, los datos se descargan en una computadora y los algoritmos analizan la señal en busca de eventos arrítmicos. El cardiólogo interpreta los resultados y emite un informe.\n",
    "\n",
    "4. Desfibrilador automático implantable (DAI):\n",
    "El DAI es un dispositivo implantado en el pecho de pacientes con alto riesgo de arritmias ventriculares mortales. El DAI monitorea continuamente el ritmo cardiaco y, en caso de detectar una taquicardia ventricular o fibrilación ventricular, emite una descarga eléctrica para restablecer el ritmo normal.\n",
    "Los electrodos del DAI están en contacto directo con el corazón y detectan las señales eléctricas. Los algoritmos analizan la señal en tiempo real y desencadenan la descarga eléctrica cuando es necesario.\n",
    "\n",
    "5. Relojes inteligentes con ECG:\n",
    "Algunos relojes inteligentes incorporan sensores capaces de registrar un ECG de una sola derivación. Los algoritmos analizan la señal para detectar arritmias como la fibrilación auricular.\n",
    "El usuario coloca el dedo sobre el sensor del reloj y la aplicación asociada procesa la señal. La detección de fibrilación auricular se basa en el análisis de la variabilidad de la frecuencia cardíaca y otros parámetros.\n",
    "Consideraciones desde el punto de vista de un curso de bioseñales:\n",
    "\n",
    "Adquisición de la señal: La calidad de la señal EKG es fundamental para el correcto funcionamiento de los algoritmos. Los artefactos y el ruido pueden afectar significativamente la precisión del diagnóstico.\n",
    "Preprocesamiento de la señal: Los algoritmos de preprocesamiento son utilizados para eliminar el ruido, filtrar la señal y normalizarla.\n",
    "Extracción de características: A partir de la señal preprocesada, se extraen características relevantes como la frecuencia cardíaca, el intervalo QT, la amplitud de las ondas y otros parámetros.\n",
    "Clasificación: Los algoritmos de clasificación utilizan las características extraídas para determinar si la señal corresponde a un ritmo cardiaco normal o patológico.\n",
    "Interpretación: La interpretación de los resultados obtenidos por los algoritmos debe ser realizada por un médico, ya que los equipos no pueden reemplazar la experiencia clínica.\n",
    "\n",
    "La calidad de la señal ECG es un factor crítico para el correcto funcionamiento de los algoritmos en dispositivos médicos, ya que artefactos y ruido pueden comprometer significativamente la precisión del diagnóstico. En el curso de bioseñales, se subraya la importancia de comprender cómo estas señales son afectadas por interferencias externas, movimientos del paciente y limitaciones en los sensores, aspectos clave para mejorar la adquisición de datos en dispositivos médicos. El proceso comienza con el preprocesamiento de la señal, donde se utilizan técnicas avanzadas de eliminación de ruido, filtrado y normalización para garantizar que la señal sea lo suficientemente clara y consistente para el análisis posterior. Este paso es esencial para que los algoritmos puedan trabajar con datos confiables, un concepto central en el diseño de dispositivos biomédicos.\n",
    "\n",
    "A partir de la señal preprocesada, se extraen características relevantes, como la frecuencia cardíaca, el intervalo QT y la amplitud de las ondas, entre otros parámetros. En un curso de bioseñales, estas características se estudian en detalle para entender cómo se relacionan con condiciones fisiológicas y patológicas del corazón. Los algoritmos de clasificación, utilizando estas características, determinan si la señal corresponde a un ritmo cardíaco normal o patológico, lo que permite a los dispositivos emitir alertas automatizadas o guiar diagnósticos preliminares. Sin embargo, aunque estas herramientas son poderosas, en bioseñales también se enfatiza que la interpretación de los resultados debe recaer en un médico capacitado, ya que los equipos no pueden reemplazar la experiencia clínica.\n",
    "\n",
    "Este enfoque integral, que combina la adquisición, preprocesamiento, extracción de características, clasificación e interpretación, es un ejemplo de cómo los principios enseñados en un curso de bioseñales se aplican directamente al desarrollo y funcionamiento de dispositivos médicos avanzados, mejorando tanto la precisión diagnóstica como la seguridad del paciente."
   ]
  },
  {
   "cell_type": "code",
   "execution_count": null,
   "metadata": {},
   "outputs": [],
   "source": []
  },
  {
   "cell_type": "markdown",
   "metadata": {},
   "source": [
    "# Referencias\n",
    "\n",
    "[1] Sanz, F. (2024, 6 julio). Algoritmo K-Means Clustering – aplicaciones y desventajas. The Machine Learners. https://www.themachinelearners.com/k-means/"
   ]
  }
 ],
 "metadata": {
  "colab": {
   "provenance": []
  },
  "kernelspec": {
   "display_name": "Python 3",
   "language": "python",
   "name": "python3"
  },
  "language_info": {
   "codemirror_mode": {
    "name": "ipython",
    "version": 3
   },
   "file_extension": ".py",
   "mimetype": "text/x-python",
   "name": "python",
   "nbconvert_exporter": "python",
   "pygments_lexer": "ipython3",
   "version": "3.12.7"
  }
 },
 "nbformat": 4,
 "nbformat_minor": 0
}
