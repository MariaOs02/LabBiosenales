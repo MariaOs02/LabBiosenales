{
 "cells": [
  {
   "cell_type": "markdown",
   "metadata": {},
   "source": [
    "# Proyecto 1. ANÁLISIS ESTADÍSTICO\n",
    "## Bioseñales y sistemas. 2024\n",
    "### María J. Ostos, Cristian Florez, Juan A. Sañudo\n"
   ]
  },
  {
   "cell_type": "markdown",
   "metadata": {},
   "source": [
    "## CONTEXTO\n",
    "#### - Enfermedades Neurodegenerativas \n",
    "Enfermedad de Parkinson, Huntington y Esclerosis lateral amiotrófica. El diagnóstico temprano de las enfermedades mencionadas anteriormente es desafiante debido a la variabilidad y el solapamiento de sus síntomas iniciales, que a menudo son inespecíficos y pueden ser confundidos con otras afecciones menos graves. Además, la falta de biomarcadores definitivos y la evolución gradual de los síntomas dificultan la identificación temprana de estas enfermedades neurodegenerativas. La mejora en técnicas de imagen, pruebas genéticas y biomarcadores está en progreso, pero aún se necesita avanzar en la detección precoz para poder intervenir antes de que se produzca un daño significativo.\n"
   ]
  },
  {
   "cell_type": "markdown",
   "metadata": {},
   "source": [
    "Enfermedad de Parkinson(EP) se presencia principalmente por temblores, sensación de extremidades inferiores rígidas, disminución de movimientos automáticos, alteración del equilibrio y la marcha, dolores musculares, depresión, ansiedad, estrés y demencia. \n",
    "Su diagnóstico es clínico y se confirma con un informe anatomopatológico, es decir las características de muestra de tejidos del paciente, se puede observar despigmentación de la sustancia nigra, y microscópicamente con la presencia de cuerpos de Lewy (proteína malformada y agregada, a-sinucleina).\n",
    "\n",
    "Huntington: Es causada por la expansión de un secuencia repetitiva de ACG en el primer intrón del gen HTT (Huntingtina). Causa movimientos involuntarios, pérdida cognitiva y trastornos psiquiátricos. Se diagnostican mediante prueba molecular, funcional, psiquiátrica y conoscitivas y se apoya con estudio de neuroimagen ya que se observan las neuronas espinosas medianas del estriado.\n",
    "\n",
    "Esclerosis lateral amiotrófica (ELA): Perdida rápida de motoneuronas superiores e inferiores, se presenta en  debilidad muscular, espasticidad, hiperreflexia, afecta principalmente la función respiratoria. La ELA se debe a mutaciones en el cromosoma 21 en el gen (SOD1), factores ambientales, fenómenos de autoinmunidad, extrés oxidativo, excitotoxicidad, entre otros. Su diagnóstico es mediante criterios de afecciones de las motoneuronas central o periférica en parte bulbar, cervical, torácica y lumbar; La evalución clínica contempla la capacidad de autocuidado y la función respiratoria del paciente. [1][2]"
   ]
  },
  {
   "cell_type": "markdown",
   "metadata": {},
   "source": [
    "#### - Función Detrend de Scipy\n",
    "detrend(data,'linear')\n",
    "Eliminar la tendencia lineal a lo largo del eje de los datos.\n",
    "El detrend implica modelar y eliminar la tendencia subyacente de la serie temporal para analizar las fluctuaciones alrededor de esta tendencia. [3] [4]\n"
   ]
  },
  {
   "cell_type": "markdown",
   "metadata": {},
   "source": [
    "Serie Temporal y(t) = A + Bt + et\n",
    "- Ajustar modelo de tendencia lineal: Por medio de regresión linear se estima A y B a partir de la serie temporal. y(t)' = A' + B't \n",
    "- Restar la tendencia y(t)-y(t)' \n",
    "- detrend = y(t) - (A' + B't) "
   ]
  },
  {
   "cell_type": "markdown",
   "metadata": {},
   "source": [
    "#### - Filtro Hampel\n",
    "Es un filtro no lineal que se usa para encontrar valores atípicos permitiendo suavizar la señal, lo hace evaluando la mediana y la desviación estándar (mediante la desviación absoluta media) de los puntos cercanos, si el valor sobrepasa más de 3 desviaciones estándar, se sustituye por la mediana."
   ]
  },
  {
   "cell_type": "markdown",
   "metadata": {},
   "source": [
    "- DAM = mediana (|Xi - x'|)\n",
    "- x' = mediana(Xi)"
   ]
  },
  {
   "cell_type": "markdown",
   "metadata": {},
   "source": [
    "#### - Entropía de permutación\n",
    "Es una herrmienta que permite analizar la complejidad y la estructura de las series temporales, es decir permite evaluar las permutaciones posibles de los valores y contar con que frecuencia ocurren. La entropía de permutación se calcula a partir de las frecuencias de las permutaciones y mide la aleatoriedad en la serie temporal [6].  INSERTAR FORMULA"
   ]
  },
  {
   "cell_type": "markdown",
   "metadata": {},
   "source": [
    "En bioingeniería, proporciona una forma de evaluar la variabilidad y la regularidad en señales biológicas, ofreciendo información valiosa sobre la salud y el funcionamiento de sistemas biológicos complejos."
   ]
  },
  {
   "cell_type": "markdown",
   "metadata": {},
   "source": [
    "## BIBLIOGRAFÍA\n",
    "[1]Sánchez Ochoa, Geanny, Cuello Almarales, Dany, & Almaguer Mederos, Luis E.. (2020). Acortamiento de telómeros en enfermedades neurodegenerativas: implicaciones terapéuticas. Revista Habanera de Ciencias Médicas, 19(5), . Epub 10 de noviembre de 2020. Recuperado en 09 de septiembre de 2024, de http://scielo.sld.cu/scielo.php?script=sci_arttext&pid=S1729-519X2020000600005&lng=es&tlng=pt.\n",
    "\n",
    "[2]Martínez-Lazcano, J. C., Boll-Woehrlen, M. C., Hernández-Melesio, M. A., Rubio-Osornio, M., Sánchez-Mendoza, M. A., & Ríos, C. (2010). Radicales libres y estrés oxidativo en las enfermedades neurodegenerativas. Mensaje Bioquim, 34, 43-59. https://www.researchgate.net/profile/Francisca-Perez-Severiano/publication/265886313_Radicales_libres_y_estres_oxidativo_en_las_enfermedades_neurodegenerativas/links/54b6a77e0cf2bd04be324558/Radicales-libres-y-estres-oxidativo-en-las-enfermedades-neurodegenerativas.pdf\n",
    "\n",
    "[3] Scipy Manual. detrend.  https://docs.scipy.org/doc/scipy/reference/generated/scipy.signal.detrend.html\n",
    "\n",
    "[4] Mario Filho (2023). Detrending time series data with Python. https://forecastegy.com/posts/detrending-time-series-data-python/\n",
    "\n",
    "[5] MathWorks. Hampel. https://la.mathworks.com/help/signal/ref/hampel.html\n",
    "\n",
    "[6] Henry Miguel (2020). Entropía de permutación. https://www.aptech.com/blog/permutation-entropy/\n"
   ]
  },
  {
   "cell_type": "code",
   "execution_count": null,
   "metadata": {},
   "outputs": [],
   "source": []
  }
 ],
 "metadata": {
  "language_info": {
   "name": "python"
  }
 },
 "nbformat": 4,
 "nbformat_minor": 2
}
