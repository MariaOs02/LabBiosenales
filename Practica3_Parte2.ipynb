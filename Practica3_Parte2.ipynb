{
 "cells": [
  {
   "cell_type": "markdown",
   "metadata": {},
   "source": [
    "# PRÁCTICA 3 PARTE 2\n",
    "## Análisis estadístico de señales\n",
    "\n",
    "* Juan Andres Sañudo\n",
    "* Maria Julieth Ostos\n",
    "* Cristian Florez"
   ]
  },
  {
   "cell_type": "code",
   "execution_count": 1,
   "metadata": {},
   "outputs": [],
   "source": [
    "import numpy as np;\n",
    "import matplotlib.pyplot as plt;\n",
    "import scipy.io as sio;\n",
    "from scipy.fftpack import fft, ifft;\n",
    "import os"
   ]
  },
  {
   "cell_type": "code",
   "execution_count": 2,
   "metadata": {},
   "outputs": [],
   "source": [
    "#Cargar datos control\n",
    "directorio_actual=os.getcwd() #Se obtiene la ruta actual del archivo\n",
    "# print(directorio_actual)\n",
    "\n",
    "#listando los archivos de control en el directorio\n",
    "archivos_control=os.listdir(directorio_actual +'./assets/Practica_3/'+'control/') #Se obtiene la ruta de las señales de control\n",
    "# print(len(archivos))\n",
    "\n",
    "fs = 1000;\n",
    "num_canales = 8 #Channels = 'C3' 'C1' 'CZ' 'C2' 'C4' 'O1' 'OZ' 'O2'\n",
    "\n",
    "#CARGAMOS LOS CONTROLES\n",
    "for i in range(0,len(archivos_control)):\n",
    "    #ruta de un archivo\n",
    "    sujetoi=(directorio_actual +'./assets/Practica_3/'+'control'+ \"/\" + archivos_control[i]);\n",
    "    #1 CARGAR EL ARCHIVO\n",
    "    data = sio.loadmat(sujetoi);\n",
    "    data = data[\"data\"];\n",
    "\n",
    "    #2 VOLVERLO CONTINUO\n",
    "    sensores = data.shape[0];\n",
    "    puntos = data.shape[1];\n",
    "    epocas = data.shape[2];\n",
    "\n",
    "    senal_continua_control = np.reshape(data,(sensores, puntos*epocas), order = 'F');\n",
    "\n",
    "#------------------------#\n",
    "\n",
    "#listando los archivos de parkinson en el directorio\n",
    "archivos_park=os.listdir(directorio_actual +'./assets/Practica_3/'+ \"parkinson\")\n",
    "# print(len(archivos))\n",
    "\n",
    "#CARGAMOS LOS PARKINSON\n",
    "for i in range(0,len(archivos_park)):\n",
    "    #ruta de un archivo\n",
    "    sujetoi=(directorio_actual +'./assets/Practica_3/'+\"parkinson\" + \"/\" + archivos_park[i]);\n",
    "    #1 CARGAR EL ARCHIVO\n",
    "    data = sio.loadmat(sujetoi);\n",
    "    data = data[\"data\"];\n",
    "\n",
    "    #2 VOLVERLO CONTINUO\n",
    "    sensores = data.shape[0];\n",
    "    puntos = data.shape[1];\n",
    "    epocas = data.shape[2];\n",
    "\n",
    "    senal_continua_parkinson = np.reshape(data,(sensores, puntos*epocas), order = 'F');\n"
   ]
  },
  {
   "cell_type": "markdown",
   "metadata": {},
   "source": [
    "1.\tImplemente una función que reciba una señal de múltiples canales y épocas y calcule la Energía de promedio de cada canal."
   ]
  },
  {
   "cell_type": "code",
   "execution_count": 3,
   "metadata": {},
   "outputs": [],
   "source": [
    "def En_prom(data):\n",
    "    abs_squared=np.apply_along_axis(np.square,1,np.abs(data)) #Cuadrado del valor absoluto de cada punto de la señal\n",
    "    Prom_ener=np.apply_along_axis(np.mean,1,abs_squared) #Promedio \n",
    "    return Prom_ener #Devuelve un array con el promedio de cada canal"
   ]
  },
  {
   "cell_type": "code",
   "execution_count": 11,
   "metadata": {},
   "outputs": [
    {
     "name": "stdout",
     "output_type": "stream",
     "text": [
      "Energia promedia control en canal : 10.532454827424749\n",
      "Energia promedia control en canal : 8.852037696589395\n",
      "Energia promedia control en canal : 9.152811265944154\n",
      "Energia promedia control en canal : 11.219222395428773\n",
      "Energia promedia control en canal : 11.207559998977176\n",
      "Energia promedia control en canal : 21.67229594248782\n",
      "Energia promedia control en canal : 18.36590625629193\n",
      "Energia promedia control en canal : 22.945410267333248\n"
     ]
    }
   ],
   "source": [
    "Energ_prom_control=En_prom(senal_continua_control)\n",
    "Energ_prom_park=En_prom(senal_continua_parkinson)\n",
    "\n",
    "for i in range(0,len(Energ_prom_control)):\n",
    "    print(f'Energia promedia control en canal {i+1}: {Energ_prom_control[i]}')\n"
   ]
  }
 ],
 "metadata": {
  "kernelspec": {
   "display_name": "Python 3",
   "language": "python",
   "name": "python3"
  },
  "language_info": {
   "codemirror_mode": {
    "name": "ipython",
    "version": 3
   },
   "file_extension": ".py",
   "mimetype": "text/x-python",
   "name": "python",
   "nbconvert_exporter": "python",
   "pygments_lexer": "ipython3",
   "version": "3.12.5"
  }
 },
 "nbformat": 4,
 "nbformat_minor": 2
}
