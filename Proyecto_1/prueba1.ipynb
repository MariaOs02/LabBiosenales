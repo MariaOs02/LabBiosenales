{
 "cells": [
  {
   "cell_type": "code",
   "execution_count": 2,
   "metadata": {},
   "outputs": [],
   "source": [
    "import os\n",
    "import numpy as np\n",
    "import pandas as pd\n",
    "from scipy.signal import detrend\n",
    "from scipy.io import loadmat  # En caso de que los archivos sean compatibles con .mat\n",
    "from scipy.ndimage import median_filter\n",
    "# from entropy import perm_entropy\n",
    "\n",
    "\n",
    "\n"
   ]
  },
  {
   "cell_type": "code",
   "execution_count": 26,
   "metadata": {},
   "outputs": [],
   "source": [
    "directorio_actual=os.getcwd()\n",
    "uno=\"Control\"\n",
    "# archivos_control=os.listdir(directorio_actual +'./Data/Control/ts')\n",
    "# sujetoi=(directorio_actual +'./Data/Control/ts'+ \"/\" + \"control1.ts\");\n",
    "archivos_control=os.listdir(directorio_actual +'./Data/'+uno+'/ts')\n",
    "\n",
    "names= ['Elapsed Time (sec)', 'Left Stride Interval (sec)', 'Right Stride Interval (sec)', 'Left Swing Interval (sec)',\n",
    "'Right Swing Interval (sec)',\t'Left Swing Interval (% of stride)', 'Right Swing Interval (% of stride)', 'Left Stance Interval (sec)', 'Right Stance Interval (sec)', 'Left Stance Interval (% of stride)',\n",
    "'Right Stance Interval (% of stride)', 'Double Support Interval (sec)',\t'Double Support Interval (% of stride)']\n",
    "datos = pd.read_csv(sujetoi,delimiter='\\t',names=names)"
   ]
  },
  {
   "cell_type": "code",
   "execution_count": 27,
   "metadata": {},
   "outputs": [
    {
     "name": "stdout",
     "output_type": "stream",
     "text": [
      "wow control1.ts\n",
      "wow control10.ts\n",
      "wow control11.ts\n",
      "wow control12.ts\n",
      "wow control13.ts\n",
      "wow control14.ts\n",
      "wow control15.ts\n",
      "wow control16.ts\n",
      "wow control2.ts\n",
      "wow control3.ts\n",
      "wow control4.ts\n",
      "wow control5.ts\n",
      "wow control6.ts\n",
      "wow control7.ts\n",
      "wow control8.ts\n",
      "wow control9.ts\n"
     ]
    }
   ],
   "source": [
    "for i in archivos_control:\n",
    "    print(f'wow {i}')\n",
    "    "
   ]
  },
  {
   "cell_type": "code",
   "execution_count": 3,
   "metadata": {},
   "outputs": [],
   "source": [
    "# Función para cargar las señales y eliminar los primeros 20 segundos\n",
    "def load_and_trim_ts(file_path, sample_rate):\n",
    "    # Suponiendo que cada archivo contiene 4 señales y está en formato numpy\n",
    "    data = np.loadtxt(file_path)  # Cambia según el formato de los archivos\n",
    "    trimmed_data = data[sample_rate * 20:, :]  # Elimina los primeros 20 segundos\n",
    "    return trimmed_data\n",
    "\n",
    "# Función para aplicar detrend a cada señal\n",
    "def remove_trend(signals):\n",
    "    detrended_signals = detrend(signals, axis=0)  # Aplica sobre cada columna\n",
    "    return detrended_signals\n",
    "\n",
    "def hampel_filter(signal, window_size=5, n_sigmas=3):\n",
    "    median = median_filter(signal, size=window_size)\n",
    "    diff = np.abs(signal - median)\n",
    "    std = np.std(diff)\n",
    "    outliers = diff > n_sigmas * std\n",
    "    signal[outliers] = median[outliers]  # Reemplaza los outliers por la mediana\n",
    "    return signal\n",
    "\n",
    "# Función para calcular CV y SD\n",
    "def calculate_cv_sd(signal):\n",
    "    mean = np.mean(signal)\n",
    "    std = np.std(signal)\n",
    "    cv = std / mean if mean != 0 else np.nan  # Manejo para evitar división por 0\n",
    "    return cv, std\n",
    "\n",
    "# def calculate_permutation_entropy(signal, m=3, delay=1):\n",
    "#     pe = perm_entropy(signal, order=m, delay=delay, normalize=True)\n",
    "#     return pe\n"
   ]
  },
  {
   "cell_type": "code",
   "execution_count": null,
   "metadata": {},
   "outputs": [],
   "source": []
  },
  {
   "cell_type": "code",
   "execution_count": 15,
   "metadata": {},
   "outputs": [],
   "source": [
    "def process_all_files(base_path, sample_rate=1000):  # Ajusta el sample_rate según los datos\n",
    "    results = []\n",
    "    folders = ['Control', 'Esclerosis_Lateral_Amiotrófica', 'Huntington', 'Parkinson']\n",
    "    # Mapeo de condiciones\n",
    "    conditions = {'Control': 'Control', 'Esclerosis_Lateral_Amiotrófica': 'Esclerosis_Lateral_Amiotrófica', 'Huntington': 'Huntington', 'Parkinson': 'Parkinson'}\n",
    "    \n",
    "    for condition in ['Control', 'Esclerosis_Lateral_Amiotrófica', 'Huntington', 'Parkinson']:\n",
    "        folder_path = os.path.join(base_path, condition, 'ts')\n",
    "        \n",
    "        for file_name in os.listdir(folder_path):\n",
    "            if file_name.endswith('.ts'):\n",
    "                file_path = os.path.join(folder_path, file_name)\n",
    "                \n",
    "                # Cargar y procesar la señal\n",
    "                signals = load_and_trim_ts(file_path, sample_rate)\n",
    "                detrended_signals = remove_trend(signals)\n",
    "                # processed_signals = np.array([hampel_filter(signal) for signal in detrended_signals.T]).T\n",
    "                \n",
    "                # for i, signal in enumerate(processed_signals.T):  # Procesamos cada señal por separado\n",
    "                #     cv, sd = calculate_cv_sd(signal)\n",
    "                #     # pe = calculate_permutation_entropy(signal)\n",
    "                    \n",
    "                #     participant = file_name.split('.')[0]\n",
    "                #     results.append({\n",
    "                #         'Participant': participant,\n",
    "                #         'Condition': conditions[condition],\n",
    "                #         'Signal': i + 1,\n",
    "                #         'CV': cv,\n",
    "                #         'SD': sd,\n",
    "                #         'Permutation Entropy': pe\n",
    "                #     })\n",
    "    \n",
    "    # Crear un dataframe con los resultados\n",
    "    df_results = pd.DataFrame(results)\n",
    "    return df_results\n",
    "\n",
    "\n"
   ]
  },
  {
   "cell_type": "code",
   "execution_count": 19,
   "metadata": {},
   "outputs": [
    {
     "ename": "TypeError",
     "evalue": "expected str, bytes or os.PathLike object, not list",
     "output_type": "error",
     "traceback": [
      "\u001b[1;31m---------------------------------------------------------------------------\u001b[0m",
      "\u001b[1;31mTypeError\u001b[0m                                 Traceback (most recent call last)",
      "Cell \u001b[1;32mIn[19], line 7\u001b[0m\n\u001b[0;32m      5\u001b[0m \u001b[38;5;66;03m# Ejemplo de uso:\u001b[39;00m\n\u001b[0;32m      6\u001b[0m base_path \u001b[38;5;241m=\u001b[39m \u001b[38;5;124m\"\u001b[39m\u001b[38;5;124m./Data\u001b[39m\u001b[38;5;124m\"\u001b[39m\u001b[38;5;241m+\u001b[39m\u001b[38;5;124m\"\u001b[39m\u001b[38;5;124m/Control\u001b[39m\u001b[38;5;124m\"\u001b[39m\n\u001b[1;32m----> 7\u001b[0m df \u001b[38;5;241m=\u001b[39m \u001b[43mprocess_all_files\u001b[49m\u001b[43m(\u001b[49m\u001b[43marchivos_control\u001b[49m\u001b[43m)\u001b[49m\n\u001b[0;32m      8\u001b[0m \u001b[38;5;66;03m# df.to_csv('signal_analysis_results.csv', index=False)  # Guardar los resultados en un archivo CSV\u001b[39;00m\n",
      "Cell \u001b[1;32mIn[15], line 8\u001b[0m, in \u001b[0;36mprocess_all_files\u001b[1;34m(base_path, sample_rate)\u001b[0m\n\u001b[0;32m      5\u001b[0m conditions \u001b[38;5;241m=\u001b[39m {\u001b[38;5;124m'\u001b[39m\u001b[38;5;124mControl\u001b[39m\u001b[38;5;124m'\u001b[39m: \u001b[38;5;124m'\u001b[39m\u001b[38;5;124mControl\u001b[39m\u001b[38;5;124m'\u001b[39m, \u001b[38;5;124m'\u001b[39m\u001b[38;5;124mEsclerosis_Lateral_Amiotrófica\u001b[39m\u001b[38;5;124m'\u001b[39m: \u001b[38;5;124m'\u001b[39m\u001b[38;5;124mEsclerosis_Lateral_Amiotrófica\u001b[39m\u001b[38;5;124m'\u001b[39m, \u001b[38;5;124m'\u001b[39m\u001b[38;5;124mHuntington\u001b[39m\u001b[38;5;124m'\u001b[39m: \u001b[38;5;124m'\u001b[39m\u001b[38;5;124mHuntington\u001b[39m\u001b[38;5;124m'\u001b[39m, \u001b[38;5;124m'\u001b[39m\u001b[38;5;124mParkinson\u001b[39m\u001b[38;5;124m'\u001b[39m: \u001b[38;5;124m'\u001b[39m\u001b[38;5;124mParkinson\u001b[39m\u001b[38;5;124m'\u001b[39m}\n\u001b[0;32m      7\u001b[0m \u001b[38;5;28;01mfor\u001b[39;00m condition \u001b[38;5;129;01min\u001b[39;00m [\u001b[38;5;124m'\u001b[39m\u001b[38;5;124mControl\u001b[39m\u001b[38;5;124m'\u001b[39m, \u001b[38;5;124m'\u001b[39m\u001b[38;5;124mEsclerosis_Lateral_Amiotrófica\u001b[39m\u001b[38;5;124m'\u001b[39m, \u001b[38;5;124m'\u001b[39m\u001b[38;5;124mHuntington\u001b[39m\u001b[38;5;124m'\u001b[39m, \u001b[38;5;124m'\u001b[39m\u001b[38;5;124mParkinson\u001b[39m\u001b[38;5;124m'\u001b[39m]:\n\u001b[1;32m----> 8\u001b[0m     folder_path \u001b[38;5;241m=\u001b[39m \u001b[43mos\u001b[49m\u001b[38;5;241;43m.\u001b[39;49m\u001b[43mpath\u001b[49m\u001b[38;5;241;43m.\u001b[39;49m\u001b[43mjoin\u001b[49m\u001b[43m(\u001b[49m\u001b[43mbase_path\u001b[49m\u001b[43m,\u001b[49m\u001b[43m \u001b[49m\u001b[43mcondition\u001b[49m\u001b[43m,\u001b[49m\u001b[43m \u001b[49m\u001b[38;5;124;43m'\u001b[39;49m\u001b[38;5;124;43mts\u001b[39;49m\u001b[38;5;124;43m'\u001b[39;49m\u001b[43m)\u001b[49m\n\u001b[0;32m     10\u001b[0m     \u001b[38;5;28;01mfor\u001b[39;00m file_name \u001b[38;5;129;01min\u001b[39;00m os\u001b[38;5;241m.\u001b[39mlistdir(folder_path):\n\u001b[0;32m     11\u001b[0m         \u001b[38;5;28;01mif\u001b[39;00m file_name\u001b[38;5;241m.\u001b[39mendswith(\u001b[38;5;124m'\u001b[39m\u001b[38;5;124m.ts\u001b[39m\u001b[38;5;124m'\u001b[39m):\n",
      "File \u001b[1;32m<frozen ntpath>:108\u001b[0m, in \u001b[0;36mjoin\u001b[1;34m(path, *paths)\u001b[0m\n",
      "\u001b[1;31mTypeError\u001b[0m: expected str, bytes or os.PathLike object, not list"
     ]
    }
   ],
   "source": [
    "directorio_actual=os.getcwd()\n",
    "archivos_control=os.listdir(directorio_actual +'./Data/Control/ts')\n",
    "sujetoi=(directorio_actual +'./Data/Control/ts'+ \"/\" + \"control1.ts\");\n",
    "\n",
    "# Ejemplo de uso:\n",
    "base_path = \"./Data\"+\"/Control\"\n",
    "df = process_all_files(arc)\n",
    "# df.to_csv('signal_analysis_results.csv', index=False)  # Guardar los resultados en un archivo CSV"
   ]
  }
 ],
 "metadata": {
  "kernelspec": {
   "display_name": "Python 3",
   "language": "python",
   "name": "python3"
  },
  "language_info": {
   "codemirror_mode": {
    "name": "ipython",
    "version": 3
   },
   "file_extension": ".py",
   "mimetype": "text/x-python",
   "name": "python",
   "nbconvert_exporter": "python",
   "pygments_lexer": "ipython3",
   "version": "3.12.6"
  }
 },
 "nbformat": 4,
 "nbformat_minor": 2
}
